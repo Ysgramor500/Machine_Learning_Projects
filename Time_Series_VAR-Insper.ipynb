{
 "cells": [
  {
   "cell_type": "markdown",
   "id": "c6ce7253",
   "metadata": {},
   "source": [
    "# Modelo de Regressão VAR"
   ]
  },
  {
   "cell_type": "code",
   "execution_count": 1,
   "id": "1970feb7",
   "metadata": {},
   "outputs": [],
   "source": [
    "import pandas as pd\n",
    "import numpy as np\n",
    "import pandas_profiling as ProfileReport\n",
    "from sklearn.model_selection import train_test_split\n",
    "import matplotlib.pyplot as plt\n",
    "from statsmodels.graphics.tsaplots import plot_acf, plot_pacf\n",
    "from statsmodels.tsa.statespace.varmax import VARMAX\n",
    "from statsmodels.regression.linear_model import OLS \n",
    "from statsmodels.tsa.api import VAR\n",
    "from statsmodels.tsa.stattools import grangercausalitytests, adfuller\n",
    "from tqdm import tqdm_notebook\n",
    "from itertools import product\n",
    "from sklearn.metrics import mean_squared_error, mean_absolute_percentage_error, mean_absolute_error, r2_score"
   ]
  },
  {
   "cell_type": "markdown",
   "id": "4c5a6f00",
   "metadata": {},
   "source": [
    "### Vamos começar realizando um simples Data Cleaning"
   ]
  },
  {
   "cell_type": "code",
   "execution_count": 2,
   "id": "4880abf2",
   "metadata": {},
   "outputs": [],
   "source": [
    "df_caminhoes = pd.read_excel(\"C:/Users/User/Downloads/auto e caminhoes fenabrave.xlsx\")\n",
    "df_energia = pd.read_excel(\"C:/Users/User/Downloads/consumo de energia.xlsx\")"
   ]
  },
  {
   "cell_type": "code",
   "execution_count": 3,
   "id": "7913d902",
   "metadata": {},
   "outputs": [],
   "source": [
    "df_caminhoes =df_caminhoes.iloc[7:,0:3].head(10)"
   ]
  },
  {
   "cell_type": "code",
   "execution_count": 4,
   "id": "9125ebe7",
   "metadata": {},
   "outputs": [],
   "source": [
    "df_caminhoes = df_caminhoes.rename(columns=df_caminhoes.iloc[0]).drop(df_caminhoes.index[0]).reset_index(drop=True)"
   ]
  },
  {
   "cell_type": "code",
   "execution_count": 5,
   "id": "4b2cf974",
   "metadata": {},
   "outputs": [],
   "source": [
    "df_energia = df_energia.iloc[7:].reset_index(drop = True)"
   ]
  },
  {
   "cell_type": "code",
   "execution_count": 6,
   "id": "78fdda41",
   "metadata": {},
   "outputs": [],
   "source": [
    "df_energia.columns = df_energia.iloc[0,:]"
   ]
  },
  {
   "cell_type": "code",
   "execution_count": 7,
   "id": "5aa1840f",
   "metadata": {},
   "outputs": [],
   "source": [
    "df_energia = df_energia.iloc[1:]"
   ]
  },
  {
   "cell_type": "code",
   "execution_count": 8,
   "id": "85a74493",
   "metadata": {},
   "outputs": [],
   "source": [
    "df_energia.rename(columns = {'Nome da serie':'Data'},inplace = True)\n",
    "df_caminhoes.rename(columns = {'Nome da serie':'Data'},inplace = True)"
   ]
  },
  {
   "cell_type": "code",
   "execution_count": 9,
   "id": "66561f1d",
   "metadata": {},
   "outputs": [],
   "source": [
    "df_energia['Data'] = [pd.to_datetime(i) for i in df_energia['Data']]\n",
    "df_caminhoes['Data'] = [pd.to_datetime(i) for i in df_caminhoes['Data']]"
   ]
  },
  {
   "cell_type": "code",
   "execution_count": 10,
   "id": "c9a21dbe",
   "metadata": {},
   "outputs": [],
   "source": [
    "PIB = pd.read_excel('D:/我的/PIB_IPCA.xlsx','PIB')\n",
    "IPCA = pd.read_excel('D:/我的/PIB_IPCA.xlsx','IPCA')"
   ]
  },
  {
   "cell_type": "markdown",
   "id": "01de1b1d",
   "metadata": {},
   "source": [
    "### Não foi encontrada uma base de dados para a Alíquota de Imposto de Renda, o que, para o cálculo do consumo, poderia ser essencial! \n",
    "Apenas foi encontrado dados do imposto total arrecadado, o que optamos por não utilizar. No entanto, dados sobre o IPCA podem ser úteis, porém as relações serão verificadas no teste de causalidade de Granger"
   ]
  },
  {
   "cell_type": "code",
   "execution_count": 11,
   "id": "13bcdb7f",
   "metadata": {},
   "outputs": [],
   "source": [
    "PIB['Data'] = [i.replace('.','-') for i in PIB['Data']]\n",
    "PIB['Data'] = [pd.to_datetime(i) for i in PIB['Data']]\n",
    "PIB = PIB.iloc[:,:2]"
   ]
  },
  {
   "cell_type": "code",
   "execution_count": 12,
   "id": "9f55913e",
   "metadata": {},
   "outputs": [],
   "source": [
    "IPCA['Data'] = [i.replace('.','-') for i in IPCA['Data']]\n",
    "IPCA['Data'] = [pd.to_datetime(i) for i in IPCA['Data']]\n",
    "IPCA = IPCA.iloc[:,:2]"
   ]
  },
  {
   "cell_type": "code",
   "execution_count": 13,
   "id": "7dbc617a",
   "metadata": {},
   "outputs": [],
   "source": [
    "import math\n",
    "PIB['Estação'] = [math.ceil(int(i.strftime('%m'))/3) for i in PIB['Data']]\n",
    "IPCA['Estação'] = [math.ceil(int(i.strftime('%m'))/3) for i in IPCA['Data']]"
   ]
  },
  {
   "cell_type": "code",
   "execution_count": 14,
   "id": "285a6a5c",
   "metadata": {},
   "outputs": [],
   "source": [
    "PIB_REAL = pd.merge(PIB,IPCA)"
   ]
  },
  {
   "cell_type": "code",
   "execution_count": 15,
   "id": "7d62306f",
   "metadata": {},
   "outputs": [],
   "source": [
    "df_energia = pd.merge(pd.merge(df_energia,PIB),IPCA)"
   ]
  },
  {
   "cell_type": "code",
   "execution_count": 16,
   "id": "ddd23b09",
   "metadata": {},
   "outputs": [
    {
     "data": {
      "text/plain": [
       "Data                                                                                     datetime64[ns]\n",
       "Consumo de Energia Elétrica Total (EPE)(Nacional)(Original)(Mensal)(Nível)                       object\n",
       "Consumo de Energia Elétrica Total (EPE)(Região Centro-oeste)(Original)(Mensal)(Nível)            object\n",
       "Consumo de Energia Elétrica Total (EPE)(Região Sul)(Original)(Mensal)(Nível)                     object\n",
       "Consumo de Energia Elétrica Total (EPE)(Região Sudeste)(Original)(Mensal)(Nível)                 object\n",
       "Consumo de Energia Elétrica Total (EPE)(Região Norte)(Original)(Mensal)(Nível)                   object\n",
       "Consumo de Energia Elétrica Total (EPE)(Região Nordeste)(Original)(Mensal)(Nível)                object\n",
       "PIB                                                                                             float64\n",
       "Estação                                                                                           int64\n",
       "IPCA                                                                                            float64\n",
       "dtype: object"
      ]
     },
     "execution_count": 16,
     "metadata": {},
     "output_type": "execute_result"
    }
   ],
   "source": [
    "df_energia.dtypes"
   ]
  },
  {
   "cell_type": "code",
   "execution_count": 18,
   "id": "35ba3174",
   "metadata": {},
   "outputs": [],
   "source": [
    "df_energia.rename(columns = {'Consumo de Energia Elétrica Total (EPE)(Nacional)(Original)(Mensal)(Nível)': 'Consumo de Energia Nacional','Consumo de Energia Elétrica Total (EPE)(Região Centro-oeste)(Original)(Mensal)(Nível)':'Consumo de Energia Centro-Oeste','Consumo de Energia Elétrica Total (EPE)(Região Sul)(Original)(Mensal)(Nível)':'Consumo de Energia Sul','Consumo de Energia Elétrica Total (EPE)(Região Sudeste)(Original)(Mensal)(Nível)':'Consumo de Energia Sudeste','Consumo de Energia Elétrica Total (EPE)(Região Norte)(Original)(Mensal)(Nível)':'Consumo de Energia Norte','Consumo de Energia Elétrica Total (EPE)(Região Nordeste)(Original)(Mensal)(Nível)':'Consumo de Energia Nordeste'},inplace=True)"
   ]
  },
  {
   "cell_type": "code",
   "execution_count": 19,
   "id": "452491b5",
   "metadata": {},
   "outputs": [],
   "source": [
    "df_energia['Consumo de Energia Nacional'] = pd.to_numeric(df_energia['Consumo de Energia Nacional'])"
   ]
  },
  {
   "cell_type": "code",
   "execution_count": 20,
   "id": "d379b8f4",
   "metadata": {},
   "outputs": [
    {
     "data": {
      "text/html": [
       "<div>\n",
       "<style scoped>\n",
       "    .dataframe tbody tr th:only-of-type {\n",
       "        vertical-align: middle;\n",
       "    }\n",
       "\n",
       "    .dataframe tbody tr th {\n",
       "        vertical-align: top;\n",
       "    }\n",
       "\n",
       "    .dataframe thead th {\n",
       "        text-align: right;\n",
       "    }\n",
       "</style>\n",
       "<table border=\"1\" class=\"dataframe\">\n",
       "  <thead>\n",
       "    <tr style=\"text-align: right;\">\n",
       "      <th></th>\n",
       "      <th>Data</th>\n",
       "      <th>Consumo de Energia Nacional</th>\n",
       "      <th>Consumo de Energia Centro-Oeste</th>\n",
       "      <th>Consumo de Energia Sul</th>\n",
       "      <th>Consumo de Energia Sudeste</th>\n",
       "      <th>Consumo de Energia Norte</th>\n",
       "      <th>Consumo de Energia Nordeste</th>\n",
       "      <th>PIB</th>\n",
       "      <th>Estação</th>\n",
       "      <th>IPCA</th>\n",
       "    </tr>\n",
       "  </thead>\n",
       "  <tbody>\n",
       "    <tr>\n",
       "      <th>0</th>\n",
       "      <td>2004-01-01</td>\n",
       "      <td>2.697836e+07</td>\n",
       "      <td>1507173.86</td>\n",
       "      <td>4510113.04</td>\n",
       "      <td>14929524.4</td>\n",
       "      <td>1574434.34</td>\n",
       "      <td>4457112.38</td>\n",
       "      <td>144558.6</td>\n",
       "      <td>1</td>\n",
       "      <td>6.04</td>\n",
       "    </tr>\n",
       "    <tr>\n",
       "      <th>1</th>\n",
       "      <td>2004-02-01</td>\n",
       "      <td>2.650817e+07</td>\n",
       "      <td>1456012.81</td>\n",
       "      <td>4690227.86</td>\n",
       "      <td>14714713.51</td>\n",
       "      <td>1507448.59</td>\n",
       "      <td>4139768.0</td>\n",
       "      <td>142861.3</td>\n",
       "      <td>1</td>\n",
       "      <td>5.60</td>\n",
       "    </tr>\n",
       "    <tr>\n",
       "      <th>2</th>\n",
       "      <td>2004-03-01</td>\n",
       "      <td>2.728433e+07</td>\n",
       "      <td>1534843.53</td>\n",
       "      <td>4898770.4</td>\n",
       "      <td>14903795.68</td>\n",
       "      <td>1574176.69</td>\n",
       "      <td>4372743.11</td>\n",
       "      <td>157363.5</td>\n",
       "      <td>1</td>\n",
       "      <td>5.66</td>\n",
       "    </tr>\n",
       "    <tr>\n",
       "      <th>3</th>\n",
       "      <td>2004-04-01</td>\n",
       "      <td>2.804618e+07</td>\n",
       "      <td>1610686.661</td>\n",
       "      <td>4873311.14</td>\n",
       "      <td>15501322.96</td>\n",
       "      <td>1598862.11</td>\n",
       "      <td>4461999.48</td>\n",
       "      <td>156953.9</td>\n",
       "      <td>2</td>\n",
       "      <td>5.85</td>\n",
       "    </tr>\n",
       "    <tr>\n",
       "      <th>4</th>\n",
       "      <td>2004-05-01</td>\n",
       "      <td>2.724451e+07</td>\n",
       "      <td>1565788.16</td>\n",
       "      <td>4723026.16</td>\n",
       "      <td>14906628.72</td>\n",
       "      <td>1625478.92</td>\n",
       "      <td>4423584.52</td>\n",
       "      <td>159498.9</td>\n",
       "      <td>2</td>\n",
       "      <td>6.42</td>\n",
       "    </tr>\n",
       "    <tr>\n",
       "      <th>...</th>\n",
       "      <td>...</td>\n",
       "      <td>...</td>\n",
       "      <td>...</td>\n",
       "      <td>...</td>\n",
       "      <td>...</td>\n",
       "      <td>...</td>\n",
       "      <td>...</td>\n",
       "      <td>...</td>\n",
       "      <td>...</td>\n",
       "      <td>...</td>\n",
       "    </tr>\n",
       "    <tr>\n",
       "      <th>211</th>\n",
       "      <td>2021-08-01</td>\n",
       "      <td>4.062858e+07</td>\n",
       "      <td>3229521.63</td>\n",
       "      <td>7578668.669</td>\n",
       "      <td>19567126.511</td>\n",
       "      <td>3161464.87</td>\n",
       "      <td>7091793.35</td>\n",
       "      <td>739692.2</td>\n",
       "      <td>3</td>\n",
       "      <td>5.43</td>\n",
       "    </tr>\n",
       "    <tr>\n",
       "      <th>212</th>\n",
       "      <td>2021-09-01</td>\n",
       "      <td>4.198532e+07</td>\n",
       "      <td>3552433.54</td>\n",
       "      <td>7354639.471</td>\n",
       "      <td>20710207.661</td>\n",
       "      <td>3190894.8</td>\n",
       "      <td>7177144.14</td>\n",
       "      <td>731334.1</td>\n",
       "      <td>3</td>\n",
       "      <td>5.78</td>\n",
       "    </tr>\n",
       "    <tr>\n",
       "      <th>213</th>\n",
       "      <td>2021-10-01</td>\n",
       "      <td>4.262215e+07</td>\n",
       "      <td>3600279.44</td>\n",
       "      <td>7451533.11</td>\n",
       "      <td>20798024.23</td>\n",
       "      <td>3219121.3</td>\n",
       "      <td>7553190.45</td>\n",
       "      <td>739982.7</td>\n",
       "      <td>4</td>\n",
       "      <td>6.45</td>\n",
       "    </tr>\n",
       "    <tr>\n",
       "      <th>214</th>\n",
       "      <td>2021-11-01</td>\n",
       "      <td>4.193184e+07</td>\n",
       "      <td>3364580.54</td>\n",
       "      <td>7615013.091</td>\n",
       "      <td>20301925.39</td>\n",
       "      <td>3178834.95</td>\n",
       "      <td>7471483.22</td>\n",
       "      <td>755731.3</td>\n",
       "      <td>4</td>\n",
       "      <td>6.16</td>\n",
       "    </tr>\n",
       "    <tr>\n",
       "      <th>215</th>\n",
       "      <td>2021-12-01</td>\n",
       "      <td>4.293671e+07</td>\n",
       "      <td>3406612.07</td>\n",
       "      <td>7922873.16</td>\n",
       "      <td>20727886.3</td>\n",
       "      <td>3176162.25</td>\n",
       "      <td>7703178.37</td>\n",
       "      <td>759981.1</td>\n",
       "      <td>4</td>\n",
       "      <td>5.13</td>\n",
       "    </tr>\n",
       "  </tbody>\n",
       "</table>\n",
       "<p>216 rows × 10 columns</p>\n",
       "</div>"
      ],
      "text/plain": [
       "          Data  Consumo de Energia Nacional Consumo de Energia Centro-Oeste  \\\n",
       "0   2004-01-01                 2.697836e+07                      1507173.86   \n",
       "1   2004-02-01                 2.650817e+07                      1456012.81   \n",
       "2   2004-03-01                 2.728433e+07                      1534843.53   \n",
       "3   2004-04-01                 2.804618e+07                     1610686.661   \n",
       "4   2004-05-01                 2.724451e+07                      1565788.16   \n",
       "..         ...                          ...                             ...   \n",
       "211 2021-08-01                 4.062858e+07                      3229521.63   \n",
       "212 2021-09-01                 4.198532e+07                      3552433.54   \n",
       "213 2021-10-01                 4.262215e+07                      3600279.44   \n",
       "214 2021-11-01                 4.193184e+07                      3364580.54   \n",
       "215 2021-12-01                 4.293671e+07                      3406612.07   \n",
       "\n",
       "    Consumo de Energia Sul Consumo de Energia Sudeste  \\\n",
       "0               4510113.04                 14929524.4   \n",
       "1               4690227.86                14714713.51   \n",
       "2                4898770.4                14903795.68   \n",
       "3               4873311.14                15501322.96   \n",
       "4               4723026.16                14906628.72   \n",
       "..                     ...                        ...   \n",
       "211            7578668.669               19567126.511   \n",
       "212            7354639.471               20710207.661   \n",
       "213             7451533.11                20798024.23   \n",
       "214            7615013.091                20301925.39   \n",
       "215             7922873.16                 20727886.3   \n",
       "\n",
       "    Consumo de Energia Norte Consumo de Energia Nordeste       PIB  Estação  \\\n",
       "0                 1574434.34                  4457112.38  144558.6        1   \n",
       "1                 1507448.59                   4139768.0  142861.3        1   \n",
       "2                 1574176.69                  4372743.11  157363.5        1   \n",
       "3                 1598862.11                  4461999.48  156953.9        2   \n",
       "4                 1625478.92                  4423584.52  159498.9        2   \n",
       "..                       ...                         ...       ...      ...   \n",
       "211               3161464.87                  7091793.35  739692.2        3   \n",
       "212                3190894.8                  7177144.14  731334.1        3   \n",
       "213                3219121.3                  7553190.45  739982.7        4   \n",
       "214               3178834.95                  7471483.22  755731.3        4   \n",
       "215               3176162.25                  7703178.37  759981.1        4   \n",
       "\n",
       "     IPCA  \n",
       "0    6.04  \n",
       "1    5.60  \n",
       "2    5.66  \n",
       "3    5.85  \n",
       "4    6.42  \n",
       "..    ...  \n",
       "211  5.43  \n",
       "212  5.78  \n",
       "213  6.45  \n",
       "214  6.16  \n",
       "215  5.13  \n",
       "\n",
       "[216 rows x 10 columns]"
      ]
     },
     "execution_count": 20,
     "metadata": {},
     "output_type": "execute_result"
    }
   ],
   "source": [
    "df_energia"
   ]
  },
  {
   "cell_type": "code",
   "execution_count": 21,
   "id": "f0521b0a",
   "metadata": {},
   "outputs": [],
   "source": [
    "%matplotlib inline "
   ]
  },
  {
   "cell_type": "markdown",
   "id": "9064343d",
   "metadata": {},
   "source": [
    "## Agora que as bases de dados estão unidas, vamos dar uma olhada em como as séries estão atualmente!"
   ]
  },
  {
   "cell_type": "code",
   "execution_count": 81,
   "id": "f679e2fc",
   "metadata": {
    "scrolled": true
   },
   "outputs": [
    {
     "data": {
      "text/plain": [
       "[<matplotlib.lines.Line2D at 0x21724a218b0>]"
      ]
     },
     "execution_count": 81,
     "metadata": {},
     "output_type": "execute_result"
    },
    {
     "data": {
      "image/png": "[encoded data removed]",
      "text/plain": [
       "<Figure size 432x720 with 3 Axes>"
      ]
     },
     "metadata": {
      "needs_background": "light"
     },
     "output_type": "display_data"
    }
   ],
   "source": [
    "fig, axs = plt.subplots(3,figsize=(6,10))\n",
    "fig.suptitle('Comparação das Séries')\n",
    "axs[0].plot(df_energia['Data'], df_energia['IPCA'])\n",
    "axs[1].plot(df_energia['Data'],df_energia['PIB'])\n",
    "axs[2].plot(df_energia['Data'],df_energia['Consumo de Energia Nacional'])"
   ]
  },
  {
   "cell_type": "code",
   "execution_count": 80,
   "id": "d478f999",
   "metadata": {},
   "outputs": [
    {
     "data": {
      "text/plain": [
       "[<matplotlib.lines.Line2D at 0x2172510a3d0>]"
      ]
     },
     "execution_count": 80,
     "metadata": {},
     "output_type": "execute_result"
    },
    {
     "data": {
      "image/png": "[encoded data removed]",
      "text/plain": [
       "<Figure size 432x720 with 3 Axes>"
      ]
     },
     "metadata": {
      "needs_background": "light"
     },
     "output_type": "display_data"
    }
   ],
   "source": [
    "fig, axs = plt.subplots(3,figsize=(6,10))\n",
    "fig.suptitle('Comparação das Séries Estacionárias')\n",
    "axs[0].plot(df_energia['Data'], df_energia['IPCA'].diff())\n",
    "axs[1].plot(df_energia['Data'],df_energia['PIB'].diff())\n",
    "axs[2].plot(df_energia['Data'],df_energia['Consumo de Energia Nacional'].diff())"
   ]
  },
  {
   "cell_type": "code",
   "execution_count": 24,
   "id": "92dbffd8",
   "metadata": {},
   "outputs": [],
   "source": [
    "df_energia['Consumo de Energia Nacional Var'] = df_energia['Consumo de Energia Nacional'] - df_energia['Consumo de Energia Nacional'].shift(1) "
   ]
  },
  {
   "cell_type": "code",
   "execution_count": 25,
   "id": "75ee3b76",
   "metadata": {},
   "outputs": [],
   "source": [
    "df_energia['PIB_Var'] = df_energia['PIB'] - df_energia['PIB'].shift(1)   "
   ]
  },
  {
   "cell_type": "markdown",
   "id": "77ca04f2",
   "metadata": {},
   "source": [
    "### Viu-se, o que parecia ser, uma alta correlação entre o PIB e o Consumo de Energia Nacional"
   ]
  },
  {
   "cell_type": "code",
   "execution_count": 26,
   "id": "8b2ce827",
   "metadata": {
    "scrolled": true
   },
   "outputs": [
    {
     "data": {
      "text/html": [
       "<div>\n",
       "<style scoped>\n",
       "    .dataframe tbody tr th:only-of-type {\n",
       "        vertical-align: middle;\n",
       "    }\n",
       "\n",
       "    .dataframe tbody tr th {\n",
       "        vertical-align: top;\n",
       "    }\n",
       "\n",
       "    .dataframe thead th {\n",
       "        text-align: right;\n",
       "    }\n",
       "</style>\n",
       "<table border=\"1\" class=\"dataframe\">\n",
       "  <thead>\n",
       "    <tr style=\"text-align: right;\">\n",
       "      <th></th>\n",
       "      <th>Consumo de Energia Nacional</th>\n",
       "      <th>IPCA</th>\n",
       "      <th>PIB</th>\n",
       "    </tr>\n",
       "  </thead>\n",
       "  <tbody>\n",
       "    <tr>\n",
       "      <th>Consumo de Energia Nacional</th>\n",
       "      <td>1.000000</td>\n",
       "      <td>-0.012009</td>\n",
       "      <td>0.933297</td>\n",
       "    </tr>\n",
       "    <tr>\n",
       "      <th>IPCA</th>\n",
       "      <td>-0.012009</td>\n",
       "      <td>1.000000</td>\n",
       "      <td>-0.101260</td>\n",
       "    </tr>\n",
       "    <tr>\n",
       "      <th>PIB</th>\n",
       "      <td>0.933297</td>\n",
       "      <td>-0.101260</td>\n",
       "      <td>1.000000</td>\n",
       "    </tr>\n",
       "  </tbody>\n",
       "</table>\n",
       "</div>"
      ],
      "text/plain": [
       "                             Consumo de Energia Nacional      IPCA       PIB\n",
       "Consumo de Energia Nacional                     1.000000 -0.012009  0.933297\n",
       "IPCA                                           -0.012009  1.000000 -0.101260\n",
       "PIB                                             0.933297 -0.101260  1.000000"
      ]
     },
     "execution_count": 26,
     "metadata": {},
     "output_type": "execute_result"
    }
   ],
   "source": [
    "df_energia[['Consumo de Energia Nacional','IPCA','PIB']].corr()"
   ]
  },
  {
   "cell_type": "markdown",
   "id": "9cf83bfe",
   "metadata": {},
   "source": [
    "#  Segundo a Macroeconomia...\n",
    "### Consumo = Co + C1*(Ydisponível)\n",
    "### Ydisponível(Y,Taxa de Impostos)\n",
    "### Y = C + I + G + (X - M)\n",
    "### Ambas variáveis se afetam simultaneamente!"
   ]
  },
  {
   "cell_type": "markdown",
   "id": "12e603eb",
   "metadata": {},
   "source": [
    "Ao analisar o gráfico do IPCA, ele não aparenta possuir nenhuma tendência específica, portanto optamos por não colocá-lo na primeira diferença. Vamos, porém, realizar o teste adfuller para descobrir se vale ou não a pena realizar esse procedimeto!"
   ]
  },
  {
   "cell_type": "code",
   "execution_count": 27,
   "id": "d1b41d12",
   "metadata": {
    "scrolled": false
   },
   "outputs": [
    {
     "data": {
      "text/html": [
       "<div>\n",
       "<style scoped>\n",
       "    .dataframe tbody tr th:only-of-type {\n",
       "        vertical-align: middle;\n",
       "    }\n",
       "\n",
       "    .dataframe tbody tr th {\n",
       "        vertical-align: top;\n",
       "    }\n",
       "\n",
       "    .dataframe thead th {\n",
       "        text-align: right;\n",
       "    }\n",
       "</style>\n",
       "<table border=\"1\" class=\"dataframe\">\n",
       "  <thead>\n",
       "    <tr style=\"text-align: right;\">\n",
       "      <th></th>\n",
       "      <th>Energia Consumo</th>\n",
       "      <th>IPCA</th>\n",
       "      <th>PIB</th>\n",
       "    </tr>\n",
       "  </thead>\n",
       "  <tbody>\n",
       "    <tr>\n",
       "      <th>ADF Statistic</th>\n",
       "      <td>-4.421987</td>\n",
       "      <td>-2.498599</td>\n",
       "      <td>-4.302433</td>\n",
       "    </tr>\n",
       "    <tr>\n",
       "      <th>p-value</th>\n",
       "      <td>0.000271</td>\n",
       "      <td>0.115816</td>\n",
       "      <td>0.000440</td>\n",
       "    </tr>\n",
       "  </tbody>\n",
       "</table>\n",
       "</div>"
      ],
      "text/plain": [
       "               Energia Consumo      IPCA       PIB\n",
       "ADF Statistic        -4.421987 -2.498599 -4.302433\n",
       "p-value               0.000271  0.115816  0.000440"
      ]
     },
     "execution_count": 27,
     "metadata": {},
     "output_type": "execute_result"
    }
   ],
   "source": [
    "ad_fuller_result_1 = adfuller(df_energia['Consumo de Energia Nacional Var'][1:])\n",
    "ad_fuller_result_2 = adfuller(df_energia['IPCA'])\n",
    "ad_fuller_result_3 = adfuller(df_energia['PIB_Var'][1:])\n",
    "\n",
    "Ad_fuller = pd.DataFrame({'Energia Consumo':[ad_fuller_result_1[0],ad_fuller_result_1[1]],'IPCA':[ad_fuller_result_2[0],ad_fuller_result_2[1]], 'PIB':[ad_fuller_result_3[0],ad_fuller_result_3[1]]})\n",
    "Ad_fuller.rename(index={0:'ADF Statistic',1:'p-value'},inplace=True)\n",
    "\n",
    "Ad_fuller"
   ]
  },
  {
   "cell_type": "markdown",
   "id": "871b97a9",
   "metadata": {},
   "source": [
    "O IPCA aparenta não ser estacionário, vamos colocá-lo na primeira diferença para que ele se torne!"
   ]
  },
  {
   "cell_type": "code",
   "execution_count": 28,
   "id": "dc4a3aa9",
   "metadata": {},
   "outputs": [],
   "source": [
    "df_energia['IPCA_Var'] = df_energia['IPCA'].diff()"
   ]
  },
  {
   "cell_type": "markdown",
   "id": "524f9b6e",
   "metadata": {},
   "source": [
    "## Teste de Causalidade de Granger para ver quais variáveis afetam o Consumo de Energia"
   ]
  },
  {
   "cell_type": "code",
   "execution_count": 29,
   "id": "29c2226a",
   "metadata": {},
   "outputs": [
    {
     "name": "stdout",
     "output_type": "stream",
     "text": [
      "O Consumo de Energia Afeta o PIB?\n",
      "\n",
      "-------------------------------\n",
      "\n",
      "Granger Causality\n",
      "number of lags (no zero) 1\n",
      "ssr based F test:         F=6.2123  , p=0.0135  , df_denom=211, df_num=1\n",
      "ssr based chi2 test:   chi2=6.3006  , p=0.0121  , df=1\n",
      "likelihood ratio test: chi2=6.2096  , p=0.0127  , df=1\n",
      "parameter F test:         F=6.2123  , p=0.0135  , df_denom=211, df_num=1\n",
      "\n",
      "Granger Causality\n",
      "number of lags (no zero) 2\n",
      "ssr based F test:         F=6.8190  , p=0.0014  , df_denom=208, df_num=2\n",
      "ssr based chi2 test:   chi2=13.9658 , p=0.0009  , df=2\n",
      "likelihood ratio test: chi2=13.5271 , p=0.0012  , df=2\n",
      "parameter F test:         F=6.8190  , p=0.0014  , df_denom=208, df_num=2\n",
      "\n",
      "-------------------------------\n",
      "\n",
      "PIB Afeta o Consumo de Energia?\n",
      "\n",
      "-------------------------------\n",
      "\n",
      "Granger Causality\n",
      "number of lags (no zero) 1\n",
      "ssr based F test:         F=4.2536  , p=0.0404  , df_denom=211, df_num=1\n",
      "ssr based chi2 test:   chi2=4.3141  , p=0.0378  , df=1\n",
      "likelihood ratio test: chi2=4.2712  , p=0.0388  , df=1\n",
      "parameter F test:         F=4.2536  , p=0.0404  , df_denom=211, df_num=1\n",
      "\n",
      "Granger Causality\n",
      "number of lags (no zero) 2\n",
      "ssr based F test:         F=9.7141  , p=0.0001  , df_denom=208, df_num=2\n",
      "ssr based chi2 test:   chi2=19.8952 , p=0.0000  , df=2\n",
      "likelihood ratio test: chi2=19.0202 , p=0.0001  , df=2\n",
      "parameter F test:         F=9.7141  , p=0.0001  , df_denom=208, df_num=2\n",
      "\n",
      "-------------------------------\n",
      "\n",
      "IPCA Afeta o Consumo de Energia?\n",
      "\n",
      "-------------------------------\n",
      "\n",
      "Granger Causality\n",
      "number of lags (no zero) 1\n",
      "ssr based F test:         F=1.2593  , p=0.2631  , df_denom=211, df_num=1\n",
      "ssr based chi2 test:   chi2=1.2772  , p=0.2584  , df=1\n",
      "likelihood ratio test: chi2=1.2734  , p=0.2591  , df=1\n",
      "parameter F test:         F=1.2593  , p=0.2631  , df_denom=211, df_num=1\n",
      "\n",
      "Granger Causality\n",
      "number of lags (no zero) 2\n",
      "ssr based F test:         F=9.7173  , p=0.0001  , df_denom=208, df_num=2\n",
      "ssr based chi2 test:   chi2=19.9018 , p=0.0000  , df=2\n",
      "likelihood ratio test: chi2=19.0262 , p=0.0001  , df=2\n",
      "parameter F test:         F=9.7173  , p=0.0001  , df_denom=208, df_num=2\n",
      "\n",
      "-------------------------------\n",
      "\n",
      "O Consumo de Energia Afeta o IPCA?\n",
      "\n",
      "-------------------------------\n",
      "\n",
      "Granger Causality\n",
      "number of lags (no zero) 1\n",
      "ssr based F test:         F=3.6238  , p=0.0583  , df_denom=211, df_num=1\n",
      "ssr based chi2 test:   chi2=3.6753  , p=0.0552  , df=1\n",
      "likelihood ratio test: chi2=3.6441  , p=0.0563  , df=1\n",
      "parameter F test:         F=3.6238  , p=0.0583  , df_denom=211, df_num=1\n",
      "\n",
      "Granger Causality\n",
      "number of lags (no zero) 2\n",
      "ssr based F test:         F=10.7589 , p=0.0000  , df_denom=208, df_num=2\n",
      "ssr based chi2 test:   chi2=22.0351 , p=0.0000  , df=2\n",
      "likelihood ratio test: chi2=20.9683 , p=0.0000  , df=2\n",
      "parameter F test:         F=10.7589 , p=0.0000  , df_denom=208, df_num=2\n"
     ]
    }
   ],
   "source": [
    "print('O Consumo de Energia Afeta o PIB?\\n')\n",
    "print('-------------------------------')\n",
    "granger_1 = grangercausalitytests(df_energia[['PIB_Var','Consumo de Energia Nacional Var']][1:],2)\n",
    "print('\\n-------------------------------\\n')\n",
    "print('PIB Afeta o Consumo de Energia?\\n')\n",
    "print('-------------------------------')\n",
    "granger_2 = grangercausalitytests(df_energia[['Consumo de Energia Nacional Var','PIB_Var']][1:],2)\n",
    "print('\\n-------------------------------\\n')\n",
    "print('IPCA Afeta o Consumo de Energia?\\n')\n",
    "print('-------------------------------')\n",
    "granger_2 = grangercausalitytests(df_energia[['Consumo de Energia Nacional Var','IPCA_Var']][1:],2)\n",
    "print('\\n-------------------------------\\n')\n",
    "print('O Consumo de Energia Afeta o IPCA?\\n')\n",
    "print('-------------------------------')\n",
    "granger_2 = grangercausalitytests(df_energia[['IPCA_Var','Consumo de Energia Nacional Var']][1:],2)\n",
    "\n"
   ]
  },
  {
   "cell_type": "markdown",
   "id": "d6e0c993",
   "metadata": {},
   "source": [
    "### Foi possível verificar que não há uma relação muito significativa do IPCA com a nossa variável principal de interesse do estudo (Consumo de Energia Elétrica), no primeiro LAG. como consequência disso, iremos retirá-la do modelo."
   ]
  },
  {
   "cell_type": "markdown",
   "id": "a5060cc1",
   "metadata": {},
   "source": [
    "# Agora, vamos separar o nosso modelo em Treino e Teste!"
   ]
  },
  {
   "cell_type": "code",
   "execution_count": 30,
   "id": "caa4d373",
   "metadata": {},
   "outputs": [],
   "source": [
    "train_df = df_energia[['PIB','Consumo de Energia Nacional']][:-24]\n",
    "test_df = df_energia[['PIB','Consumo de Energia Nacional']][-24:]"
   ]
  },
  {
   "cell_type": "code",
   "execution_count": 31,
   "id": "d3024f47",
   "metadata": {
    "scrolled": false
   },
   "outputs": [
    {
     "name": "stdout",
     "output_type": "stream",
     "text": [
      " VAR Order Selection (* highlights the minimums)  \n",
      "==================================================\n",
      "       AIC         BIC         FPE         HQIC   \n",
      "--------------------------------------------------\n",
      "0        46.29       46.33   1.275e+20       46.31\n",
      "1        46.23       46.34   1.195e+20       46.27\n",
      "2        45.97       46.15   9.209e+19       46.04\n",
      "3        45.79       46.05   7.702e+19       45.89\n",
      "4        45.76       46.09   7.500e+19       45.90\n",
      "5        45.57       45.98   6.186e+19       45.74\n",
      "6        45.37       45.84   5.040e+19       45.56\n",
      "7        45.29       45.84   4.678e+19       45.51\n",
      "8        45.18       45.81   4.208e+19       45.44\n",
      "9        45.13       45.83   3.994e+19       45.42\n",
      "10       45.04       45.81   3.630e+19       45.35\n",
      "11       44.82       45.67   2.933e+19       45.16\n",
      "12       44.74       45.66   2.697e+19       45.11\n",
      "13       44.66      45.65*   2.505e+19      45.06*\n",
      "14       44.66       45.72   2.494e+19       45.09\n",
      "15       44.68       45.82   2.567e+19       45.15\n",
      "16       44.65       45.87   2.498e+19       45.15\n",
      "17      44.65*       45.94  2.490e+19*       45.17\n",
      "18       44.66       46.02   2.526e+19       45.21\n",
      "19       44.68       46.11   2.580e+19       45.26\n",
      "20       44.66       46.17   2.533e+19       45.27\n",
      "--------------------------------------------------\n"
     ]
    },
    {
     "name": "stderr",
     "output_type": "stream",
     "text": [
      "d:\\python\\lib\\site-packages\\statsmodels\\tsa\\base\\tsa_model.py:590: ValueWarning: An unsupported index was provided and will be ignored when e.g. forecasting.\n",
      "  warnings.warn('An unsupported index was provided and will be'\n"
     ]
    }
   ],
   "source": [
    "model = VAR(train_df.diff()[1:])\n",
    "sorted_order = model.select_order(maxlags=20)\n",
    "print(sorted_order.summary())"
   ]
  },
  {
   "cell_type": "markdown",
   "id": "e4268445",
   "metadata": {},
   "source": [
    "## Nesse gráfico, é possível verificar que o modelo está nos recomendando utilizar um total de 17 Lags em 2 das colunas, o que é o que iremos fazer!"
   ]
  },
  {
   "cell_type": "code",
   "execution_count": 32,
   "id": "6b19c81d",
   "metadata": {
    "scrolled": false
   },
   "outputs": [
    {
     "name": "stderr",
     "output_type": "stream",
     "text": [
      "d:\\python\\lib\\site-packages\\statsmodels\\tsa\\statespace\\varmax.py:374: UserWarning: Non-stationary starting autoregressive parameters found. Using zeros as starting parameters.\n",
      "  warn('Non-stationary starting autoregressive parameters'\n",
      "d:\\python\\lib\\site-packages\\statsmodels\\base\\model.py:604: ConvergenceWarning: Maximum Likelihood optimization failed to converge. Check mle_retvals\n",
      "  warnings.warn(\"Maximum Likelihood optimization failed to \"\n"
     ]
    },
    {
     "name": "stdout",
     "output_type": "stream",
     "text": [
      "                                     Statespace Model Results                                     \n",
      "==================================================================================================\n",
      "Dep. Variable:     ['PIB', 'Consumo de Energia Nacional']   No. Observations:                  192\n",
      "Model:                                            VAR(17)   Log Likelihood               -6367.855\n",
      "                                              + intercept   AIC                          12881.709\n",
      "Date:                                    Mon, 07 Mar 2022   BIC                          13119.506\n",
      "Time:                                            15:58:00   HQIC                         12978.019\n",
      "Sample:                                                 0                                         \n",
      "                                                    - 192                                         \n",
      "Covariance Type:                                      opg                                         \n",
      "===================================================================================\n",
      "Ljung-Box (L1) (Q):         114.13, 140.67   Jarque-Bera (JB):         202.44, 0.71\n",
      "Prob(Q):                        0.00, 0.00   Prob(JB):                   0.00, 0.70\n",
      "Heteroskedasticity (H):         0.30, 2.86   Skew:                      -1.16, 0.04\n",
      "Prob(H) (two-sided):            0.00, 0.00   Kurtosis:                   7.46, 2.71\n",
      "                                      Results for equation PIB                                     \n",
      "===================================================================================================\n",
      "                                      coef    std err          z      P>|z|      [0.025      0.975]\n",
      "---------------------------------------------------------------------------------------------------\n",
      "intercept                        3.785e+05      0.001   5.73e+08      0.000    3.79e+05    3.79e+05\n",
      "L1.PIB                              0.1134      0.037      3.025      0.002       0.040       0.187\n",
      "L1.Consumo de Energia Nacional     -0.0088      0.000    -18.748      0.000      -0.010      -0.008\n",
      "L2.PIB                              0.1644      0.042      3.870      0.000       0.081       0.248\n",
      "L2.Consumo de Energia Nacional     -0.0046      0.001     -7.781      0.000      -0.006      -0.003\n",
      "L3.PIB                              0.1900      0.053      3.590      0.000       0.086       0.294\n",
      "L3.Consumo de Energia Nacional     -0.0027      0.001     -4.424      0.000      -0.004      -0.002\n",
      "L4.PIB                              0.2079      0.049      4.215      0.000       0.111       0.305\n",
      "L4.Consumo de Energia Nacional     -0.0016      0.001     -2.180      0.029      -0.003      -0.000\n",
      "L5.PIB                              0.2162      0.047      4.590      0.000       0.124       0.309\n",
      "L5.Consumo de Energia Nacional     -0.0009      0.001     -1.018      0.308      -0.003       0.001\n",
      "L6.PIB                              0.1874      0.042      4.419      0.000       0.104       0.271\n",
      "L6.Consumo de Energia Nacional  -4.831e-05      0.001     -0.053      0.958      -0.002       0.002\n",
      "L7.PIB                              0.1669      0.048      3.483      0.000       0.073       0.261\n",
      "L7.Consumo de Energia Nacional      0.0010      0.001      1.275      0.202      -0.001       0.003\n",
      "L8.PIB                              0.1225      0.049      2.522      0.012       0.027       0.218\n",
      "L8.Consumo de Energia Nacional      0.0016      0.001      1.792      0.073      -0.000       0.003\n",
      "L9.PIB                              0.0712      0.045      1.580      0.114      -0.017       0.160\n",
      "L9.Consumo de Energia Nacional      0.0017      0.001      1.783      0.075      -0.000       0.004\n",
      "L10.PIB                             0.0442      0.049      0.908      0.364      -0.051       0.140\n",
      "L10.Consumo de Energia Nacional     0.0011      0.001      1.285      0.199      -0.001       0.003\n",
      "L11.PIB                             0.0445      0.048      0.924      0.355      -0.050       0.139\n",
      "L11.Consumo de Energia Nacional     0.0009      0.001      0.864      0.388      -0.001       0.003\n",
      "L12.PIB                             0.0640      0.044      1.457      0.145      -0.022       0.150\n",
      "L12.Consumo de Energia Nacional     0.0007      0.001      0.704      0.481      -0.001       0.003\n",
      "L13.PIB                            -0.0112      0.044     -0.257      0.797      -0.097       0.074\n",
      "L13.Consumo de Energia Nacional     0.0010      0.001      1.206      0.228      -0.001       0.003\n",
      "L14.PIB                            -0.0756      0.045     -1.687      0.092      -0.163       0.012\n",
      "L14.Consumo de Energia Nacional     0.0007      0.001      0.777      0.437      -0.001       0.002\n",
      "L15.PIB                            -0.0979      0.049     -2.006      0.045      -0.194      -0.002\n",
      "L15.Consumo de Energia Nacional    -0.0002      0.001     -0.264      0.792      -0.002       0.001\n",
      "L16.PIB                            -0.0819      0.053     -1.548      0.122      -0.186       0.022\n",
      "L16.Consumo de Energia Nacional    -0.0011      0.001     -1.292      0.196      -0.003       0.001\n",
      "L17.PIB                            -0.0313      0.050     -0.626      0.531      -0.129       0.067\n",
      "L17.Consumo de Energia Nacional    -0.0023      0.001     -3.655      0.000      -0.004      -0.001\n",
      "                          Results for equation Consumo de Energia Nacional                         \n",
      "===================================================================================================\n",
      "                                      coef    std err          z      P>|z|      [0.025      0.975]\n",
      "---------------------------------------------------------------------------------------------------\n",
      "intercept                        3.527e+07   9.67e-06   3.65e+12      0.000    3.53e+07    3.53e+07\n",
      "L1.PIB                              6.1593      2.437      2.528      0.011       1.383      10.935\n",
      "L1.Consumo de Energia Nacional     -0.1449      0.041     -3.541      0.000      -0.225      -0.065\n",
      "L2.PIB                              5.1900      2.451      2.117      0.034       0.385       9.995\n",
      "L2.Consumo de Energia Nacional     -0.0574      0.052     -1.101      0.271      -0.160       0.045\n",
      "L3.PIB                              4.4461      3.459      1.286      0.199      -2.333      11.225\n",
      "L3.Consumo de Energia Nacional     -0.0176      0.048     -0.367      0.714      -0.112       0.076\n",
      "L4.PIB                              3.6650      2.735      1.340      0.180      -1.696       9.026\n",
      "L4.Consumo de Energia Nacional      0.0029      0.052      0.056      0.956      -0.099       0.105\n",
      "L5.PIB                              2.7752      2.839      0.978      0.328      -2.789       8.339\n",
      "L5.Consumo de Energia Nacional      0.0131      0.060      0.217      0.828      -0.105       0.132\n",
      "L6.PIB                              2.0998      2.561      0.820      0.412      -2.919       7.119\n",
      "L6.Consumo de Energia Nacional      0.0084      0.060      0.140      0.889      -0.109       0.126\n",
      "L7.PIB                              2.0609      2.689      0.766      0.443      -3.209       7.331\n",
      "L7.Consumo de Energia Nacional     -0.0056      0.046     -0.122      0.903      -0.096       0.085\n",
      "L8.PIB                              2.2192      3.236      0.686      0.493      -4.124       8.562\n",
      "L8.Consumo de Energia Nacional     -0.0080      0.047     -0.170      0.865      -0.100       0.084\n",
      "L9.PIB                              2.5397      3.033      0.837      0.402      -3.405       8.484\n",
      "L9.Consumo de Energia Nacional      0.0068      0.047      0.145      0.884      -0.085       0.098\n",
      "L10.PIB                             2.2566      2.628      0.859      0.391      -2.895       7.408\n",
      "L10.Consumo de Energia Nacional     0.0309      0.053      0.583      0.560      -0.073       0.135\n",
      "L11.PIB                             0.1285      2.476      0.052      0.959      -4.725       4.982\n",
      "L11.Consumo de Energia Nacional     0.0654      0.048      1.353      0.176      -0.029       0.160\n",
      "L12.PIB                            -1.6702      2.812     -0.594      0.553      -7.181       3.841\n",
      "L12.Consumo de Energia Nacional     0.0791      0.054      1.467      0.142      -0.027       0.185\n",
      "L13.PIB                            -2.1282      2.617     -0.813      0.416      -7.257       3.001\n",
      "L13.Consumo de Energia Nacional     0.0352      0.052      0.682      0.495      -0.066       0.136\n",
      "L14.PIB                            -2.0131      2.766     -0.728      0.467      -7.435       3.408\n",
      "L14.Consumo de Energia Nacional    -0.0260      0.048     -0.539      0.590      -0.121       0.069\n",
      "L15.PIB                             0.8061      2.852      0.283      0.777      -4.784       6.396\n",
      "L15.Consumo de Energia Nacional    -0.0942      0.045     -2.079      0.038      -0.183      -0.005\n",
      "L16.PIB                             3.4640      2.481      1.396      0.163      -1.398       8.326\n",
      "L16.Consumo de Energia Nacional    -0.1340      0.048     -2.781      0.005      -0.228      -0.040\n",
      "L17.PIB                             6.2877      2.418      2.600      0.009       1.548      11.027\n",
      "L17.Consumo de Energia Nacional    -0.1510      0.034     -4.396      0.000      -0.218      -0.084\n",
      "                                          Error covariance matrix                                           \n",
      "============================================================================================================\n",
      "                                               coef    std err          z      P>|z|      [0.025      0.975]\n",
      "------------------------------------------------------------------------------------------------------------\n",
      "sqrt.var.PIB                              8356.7679      0.013   6.64e+05      0.000    8356.743    8356.793\n",
      "sqrt.cov.PIB.Consumo de Energia Nacional  1.656e+05        nan        nan        nan         nan         nan\n",
      "sqrt.var.Consumo de Energia Nacional      4.963e+05      0.001   5.57e+08      0.000    4.96e+05    4.96e+05\n",
      "============================================================================================================\n",
      "\n",
      "Warnings:\n",
      "[1] Covariance matrix calculated using the outer product of gradients (complex-step).\n",
      "[2] Covariance matrix is singular or near-singular, with condition number 1.69e+24. Standard errors may be unstable.\n"
     ]
    }
   ],
   "source": [
    "var_model = VARMAX(train_df,order =(17,0), enforce_stationarity=True)\n",
    "fitted_model = var_model.fit(disp=False)\n",
    "print(fitted_model.summary())"
   ]
  },
  {
   "cell_type": "code",
   "execution_count": 33,
   "id": "7d316852",
   "metadata": {},
   "outputs": [],
   "source": [
    "predict = fitted_model.get_prediction(start=len(train_df),end=len(train_df) + 24 -1)\n",
    "predictions = predict.predicted_mean"
   ]
  },
  {
   "cell_type": "code",
   "execution_count": 34,
   "id": "0507fb54",
   "metadata": {},
   "outputs": [],
   "source": [
    "predictions.rename(columns = {'PIB':'PIB_Forecast','Consumo de Energia Nacional':'Consumo de Energia Nacional_Forecast'},inplace=True)"
   ]
  },
  {
   "cell_type": "code",
   "execution_count": 35,
   "id": "70519b15",
   "metadata": {},
   "outputs": [],
   "source": [
    "test_vs_pred = pd.concat([test_df['Consumo de Energia Nacional'],predictions['Consumo de Energia Nacional_Forecast']],axis=1)"
   ]
  },
  {
   "cell_type": "code",
   "execution_count": 36,
   "id": "bcbefd2b",
   "metadata": {},
   "outputs": [
    {
     "data": {
      "text/plain": [
       "<AxesSubplot:>"
      ]
     },
     "execution_count": 36,
     "metadata": {},
     "output_type": "execute_result"
    },
    {
     "data": {
      "image/png": "[encoded data removed]",
      "text/plain": [
       "<Figure size 864x360 with 1 Axes>"
      ]
     },
     "metadata": {
      "needs_background": "light"
     },
     "output_type": "display_data"
    }
   ],
   "source": [
    "test_vs_pred.plot(figsize=(12,5))"
   ]
  },
  {
   "cell_type": "markdown",
   "id": "3e9f0950",
   "metadata": {},
   "source": [
    "### Agora vamos ver como nossas primeiras estimativas para o futuro ficaram ;)"
   ]
  },
  {
   "cell_type": "code",
   "execution_count": 73,
   "id": "3de2d17f",
   "metadata": {},
   "outputs": [
    {
     "name": "stderr",
     "output_type": "stream",
     "text": [
      "d:\\python\\lib\\site-packages\\statsmodels\\tsa\\statespace\\varmax.py:374: UserWarning: Non-stationary starting autoregressive parameters found. Using zeros as starting parameters.\n",
      "  warn('Non-stationary starting autoregressive parameters'\n",
      "d:\\python\\lib\\site-packages\\statsmodels\\base\\model.py:604: ConvergenceWarning: Maximum Likelihood optimization failed to converge. Check mle_retvals\n",
      "  warnings.warn(\"Maximum Likelihood optimization failed to \"\n"
     ]
    },
    {
     "data": {
      "image/png": "[encoded data removed]",
      "text/plain": [
       "<Figure size 504x504 with 1 Axes>"
      ]
     },
     "metadata": {
      "needs_background": "light"
     },
     "output_type": "display_data"
    }
   ],
   "source": [
    "var_model = VARMAX(df_energia[['PIB','Consumo de Energia Nacional']],order =(17,0), enforce_stationarity=True)\n",
    "fitted_model = var_model.fit(disp=False)\n",
    "predict = fitted_model.get_prediction(start=len(df_energia),end=len(df_energia) + 24 -1)\n",
    "predictions = predict.predicted_mean\n",
    "predictions.rename(columns = {'PIB':'PIB_Forecast','Consumo de Energia Nacional':'Consumo de Energia Nacional_Forecast'},inplace=True)\n",
    "Forecast = pd.concat([df_energia['Consumo de Energia Nacional'],predictions['Consumo de Energia Nacional_Forecast']])\n",
    "fig, axs = plt.subplots(1,figsize=(7,7))\n",
    "\n",
    "axs.plot(Forecast[217:240], lw=10, c='yellow', zorder=-1)\n",
    "axs.plot(Forecast)\n",
    "axs.title.set_text(f'Teste Inicial')"
   ]
  },
  {
   "cell_type": "markdown",
   "id": "8466fd8a",
   "metadata": {},
   "source": [
    "## Realizando o teste do melhor modelo LEVANDO EM CONSIDERAÇÃO OS CRITÉRIOS DE AIC, MAPE, MSE e MAE."
   ]
  },
  {
   "cell_type": "code",
   "execution_count": 50,
   "id": "6286c173",
   "metadata": {
    "scrolled": true
   },
   "outputs": [
    {
     "name": "stdout",
     "output_type": "stream",
     "text": [
      "\n",
      "------------------------\n",
      " LAG Número 1\n",
      "\n",
      "MAE: 1.6018943031315946\n",
      "MSE: 5276503.329718743\n",
      "MAPE: 0.04152205956905416\n",
      "AIC: 9962.841499478547\n",
      "\n",
      "------------------------\n",
      "\n",
      "------------------------\n",
      " LAG Número 2\n",
      "\n",
      "MAE: 1.61162695369461\n",
      "MSE: 5334189.465640106\n",
      "MAPE: 0.04177192399042282\n",
      "AIC: 9951.994585239932\n",
      "\n",
      "------------------------\n"
     ]
    },
    {
     "name": "stderr",
     "output_type": "stream",
     "text": [
      "d:\\python\\lib\\site-packages\\statsmodels\\tsa\\statespace\\varmax.py:374: UserWarning: Non-stationary starting autoregressive parameters found. Using zeros as starting parameters.\n",
      "  warn('Non-stationary starting autoregressive parameters'\n",
      "d:\\python\\lib\\site-packages\\statsmodels\\base\\model.py:604: ConvergenceWarning: Maximum Likelihood optimization failed to converge. Check mle_retvals\n",
      "  warnings.warn(\"Maximum Likelihood optimization failed to \"\n",
      "d:\\python\\lib\\site-packages\\statsmodels\\tsa\\statespace\\varmax.py:374: UserWarning: Non-stationary starting autoregressive parameters found. Using zeros as starting parameters.\n",
      "  warn('Non-stationary starting autoregressive parameters'\n"
     ]
    },
    {
     "name": "stdout",
     "output_type": "stream",
     "text": [
      "\n",
      "------------------------\n",
      " LAG Número 3\n",
      "\n",
      "MAE: 2.068655953144419\n",
      "MSE: 7593467.586692094\n",
      "MAPE: 0.053252865059466185\n",
      "AIC: 11411.109068829452\n",
      "\n",
      "------------------------\n"
     ]
    },
    {
     "name": "stderr",
     "output_type": "stream",
     "text": [
      "d:\\python\\lib\\site-packages\\statsmodels\\base\\model.py:604: ConvergenceWarning: Maximum Likelihood optimization failed to converge. Check mle_retvals\n",
      "  warnings.warn(\"Maximum Likelihood optimization failed to \"\n",
      "d:\\python\\lib\\site-packages\\statsmodels\\tsa\\statespace\\varmax.py:374: UserWarning: Non-stationary starting autoregressive parameters found. Using zeros as starting parameters.\n",
      "  warn('Non-stationary starting autoregressive parameters'\n"
     ]
    },
    {
     "name": "stdout",
     "output_type": "stream",
     "text": [
      "\n",
      "------------------------\n",
      " LAG Número 4\n",
      "\n",
      "MAE: 2.053715984900794\n",
      "MSE: 7872186.210517305\n",
      "MAPE: 0.052617250446075715\n",
      "AIC: 11365.925541643102\n",
      "\n",
      "------------------------\n"
     ]
    },
    {
     "name": "stderr",
     "output_type": "stream",
     "text": [
      "d:\\python\\lib\\site-packages\\statsmodels\\base\\model.py:604: ConvergenceWarning: Maximum Likelihood optimization failed to converge. Check mle_retvals\n",
      "  warnings.warn(\"Maximum Likelihood optimization failed to \"\n"
     ]
    },
    {
     "name": "stdout",
     "output_type": "stream",
     "text": [
      "\n",
      "------------------------\n",
      " LAG Número 5\n",
      "\n",
      "MAE: 2.242317278045643\n",
      "MSE: 9683344.576813491\n",
      "MAPE: 0.05789084550258117\n",
      "AIC: 11360.439515603632\n",
      "\n",
      "------------------------\n"
     ]
    },
    {
     "name": "stderr",
     "output_type": "stream",
     "text": [
      "d:\\python\\lib\\site-packages\\statsmodels\\base\\model.py:604: ConvergenceWarning: Maximum Likelihood optimization failed to converge. Check mle_retvals\n",
      "  warnings.warn(\"Maximum Likelihood optimization failed to \"\n"
     ]
    },
    {
     "name": "stdout",
     "output_type": "stream",
     "text": [
      "\n",
      "------------------------\n",
      " LAG Número 6\n",
      "\n",
      "MAE: 1.6985185841253754\n",
      "MSE: 5090574.383250363\n",
      "MAPE: 0.042926834530526946\n",
      "AIC: 9846.855029024166\n",
      "\n",
      "------------------------\n"
     ]
    },
    {
     "name": "stderr",
     "output_type": "stream",
     "text": [
      "d:\\python\\lib\\site-packages\\statsmodels\\base\\model.py:604: ConvergenceWarning: Maximum Likelihood optimization failed to converge. Check mle_retvals\n",
      "  warnings.warn(\"Maximum Likelihood optimization failed to \"\n"
     ]
    },
    {
     "name": "stdout",
     "output_type": "stream",
     "text": [
      "\n",
      "------------------------\n",
      " LAG Número 8\n",
      "\n",
      "MAE: 1.6935115473102003\n",
      "MSE: 4838019.533562556\n",
      "MAPE: 0.042633394872895414\n",
      "AIC: 9794.733225058186\n",
      "\n",
      "------------------------\n"
     ]
    },
    {
     "name": "stderr",
     "output_type": "stream",
     "text": [
      "d:\\python\\lib\\site-packages\\statsmodels\\base\\model.py:604: ConvergenceWarning: Maximum Likelihood optimization failed to converge. Check mle_retvals\n",
      "  warnings.warn(\"Maximum Likelihood optimization failed to \"\n"
     ]
    },
    {
     "name": "stdout",
     "output_type": "stream",
     "text": [
      "\n",
      "------------------------\n",
      " LAG Número 9\n",
      "\n",
      "MAE: 1.483489675051585\n",
      "MSE: 4026485.5217817384\n",
      "MAPE: 0.037479585348695416\n",
      "AIC: 9777.512287164722\n",
      "\n",
      "------------------------\n"
     ]
    },
    {
     "name": "stderr",
     "output_type": "stream",
     "text": [
      "d:\\python\\lib\\site-packages\\statsmodels\\tsa\\statespace\\varmax.py:374: UserWarning: Non-stationary starting autoregressive parameters found. Using zeros as starting parameters.\n",
      "  warn('Non-stationary starting autoregressive parameters'\n",
      "d:\\python\\lib\\site-packages\\statsmodels\\base\\model.py:604: ConvergenceWarning: Maximum Likelihood optimization failed to converge. Check mle_retvals\n",
      "  warnings.warn(\"Maximum Likelihood optimization failed to \"\n"
     ]
    },
    {
     "name": "stdout",
     "output_type": "stream",
     "text": [
      "\n",
      "------------------------\n",
      " LAG Número 10\n",
      "\n",
      "MAE: 2.460030992945715\n",
      "MSE: 11338718.495673236\n",
      "MAPE: 0.06347060237692102\n",
      "AIC: 12190.596995436652\n",
      "\n",
      "------------------------\n"
     ]
    },
    {
     "name": "stderr",
     "output_type": "stream",
     "text": [
      "d:\\python\\lib\\site-packages\\statsmodels\\tsa\\statespace\\varmax.py:374: UserWarning: Non-stationary starting autoregressive parameters found. Using zeros as starting parameters.\n",
      "  warn('Non-stationary starting autoregressive parameters'\n",
      "d:\\python\\lib\\site-packages\\statsmodels\\base\\model.py:604: ConvergenceWarning: Maximum Likelihood optimization failed to converge. Check mle_retvals\n",
      "  warnings.warn(\"Maximum Likelihood optimization failed to \"\n"
     ]
    },
    {
     "name": "stdout",
     "output_type": "stream",
     "text": [
      "\n",
      "------------------------\n",
      " LAG Número 11\n",
      "\n",
      "MAE: 2.717489437024455\n",
      "MSE: 14434055.863413123\n",
      "MAPE: 0.07048982343773888\n",
      "AIC: 11961.826223724367\n",
      "\n",
      "------------------------\n"
     ]
    },
    {
     "name": "stderr",
     "output_type": "stream",
     "text": [
      "d:\\python\\lib\\site-packages\\statsmodels\\tsa\\statespace\\varmax.py:374: UserWarning: Non-stationary starting autoregressive parameters found. Using zeros as starting parameters.\n",
      "  warn('Non-stationary starting autoregressive parameters'\n",
      "d:\\python\\lib\\site-packages\\statsmodels\\base\\model.py:604: ConvergenceWarning: Maximum Likelihood optimization failed to converge. Check mle_retvals\n",
      "  warnings.warn(\"Maximum Likelihood optimization failed to \"\n"
     ]
    },
    {
     "name": "stdout",
     "output_type": "stream",
     "text": [
      "\n",
      "------------------------\n",
      " LAG Número 12\n",
      "\n",
      "MAE: 3.4622296058056405\n",
      "MSE: 18281956.42125098\n",
      "MAPE: 0.08870833171824329\n",
      "AIC: 12435.675205952246\n",
      "\n",
      "------------------------\n"
     ]
    },
    {
     "name": "stderr",
     "output_type": "stream",
     "text": [
      "d:\\python\\lib\\site-packages\\statsmodels\\tsa\\statespace\\varmax.py:374: UserWarning: Non-stationary starting autoregressive parameters found. Using zeros as starting parameters.\n",
      "  warn('Non-stationary starting autoregressive parameters'\n",
      "d:\\python\\lib\\site-packages\\statsmodels\\base\\model.py:604: ConvergenceWarning: Maximum Likelihood optimization failed to converge. Check mle_retvals\n",
      "  warnings.warn(\"Maximum Likelihood optimization failed to \"\n"
     ]
    },
    {
     "name": "stdout",
     "output_type": "stream",
     "text": [
      "\n",
      "------------------------\n",
      " LAG Número 13\n",
      "\n",
      "MAE: 3.0716021355021446\n",
      "MSE: 14187722.267229125\n",
      "MAPE: 0.0785884940064187\n",
      "AIC: 13149.559994592197\n",
      "\n",
      "------------------------\n"
     ]
    },
    {
     "name": "stderr",
     "output_type": "stream",
     "text": [
      "d:\\python\\lib\\site-packages\\statsmodels\\tsa\\statespace\\varmax.py:374: UserWarning: Non-stationary starting autoregressive parameters found. Using zeros as starting parameters.\n",
      "  warn('Non-stationary starting autoregressive parameters'\n"
     ]
    },
    {
     "name": "stdout",
     "output_type": "stream",
     "text": [
      "\n",
      "------------------------\n",
      " LAG Número 14\n",
      "\n",
      "MAE: 5.391160003853566\n",
      "MSE: 33406901.279443253\n",
      "MAPE: 0.13017317407256368\n",
      "AIC: 12807.960327438203\n",
      "\n",
      "------------------------\n"
     ]
    },
    {
     "name": "stderr",
     "output_type": "stream",
     "text": [
      "d:\\python\\lib\\site-packages\\statsmodels\\tsa\\statespace\\varmax.py:374: UserWarning: Non-stationary starting autoregressive parameters found. Using zeros as starting parameters.\n",
      "  warn('Non-stationary starting autoregressive parameters'\n",
      "d:\\python\\lib\\site-packages\\statsmodels\\base\\model.py:604: ConvergenceWarning: Maximum Likelihood optimization failed to converge. Check mle_retvals\n",
      "  warnings.warn(\"Maximum Likelihood optimization failed to \"\n"
     ]
    },
    {
     "name": "stdout",
     "output_type": "stream",
     "text": [
      "\n",
      "------------------------\n",
      " LAG Número 15\n",
      "\n",
      "MAE: 2.328108110911928\n",
      "MSE: 9617033.015237221\n",
      "MAPE: 0.059990164252479765\n",
      "AIC: 12528.631870778852\n",
      "\n",
      "------------------------\n"
     ]
    },
    {
     "name": "stderr",
     "output_type": "stream",
     "text": [
      "d:\\python\\lib\\site-packages\\statsmodels\\tsa\\statespace\\varmax.py:374: UserWarning: Non-stationary starting autoregressive parameters found. Using zeros as starting parameters.\n",
      "  warn('Non-stationary starting autoregressive parameters'\n",
      "d:\\python\\lib\\site-packages\\statsmodels\\base\\model.py:604: ConvergenceWarning: Maximum Likelihood optimization failed to converge. Check mle_retvals\n",
      "  warnings.warn(\"Maximum Likelihood optimization failed to \"\n"
     ]
    },
    {
     "name": "stdout",
     "output_type": "stream",
     "text": [
      "\n",
      "------------------------\n",
      " LAG Número 16\n",
      "\n",
      "MAE: 2.460258658160197\n",
      "MSE: 9807252.42734307\n",
      "MAPE: 0.06320330586875454\n",
      "AIC: 12168.893479517454\n",
      "\n",
      "------------------------\n"
     ]
    },
    {
     "name": "stderr",
     "output_type": "stream",
     "text": [
      "d:\\python\\lib\\site-packages\\statsmodels\\tsa\\statespace\\varmax.py:374: UserWarning: Non-stationary starting autoregressive parameters found. Using zeros as starting parameters.\n",
      "  warn('Non-stationary starting autoregressive parameters'\n",
      "d:\\python\\lib\\site-packages\\statsmodels\\base\\model.py:604: ConvergenceWarning: Maximum Likelihood optimization failed to converge. Check mle_retvals\n",
      "  warnings.warn(\"Maximum Likelihood optimization failed to \"\n"
     ]
    },
    {
     "name": "stdout",
     "output_type": "stream",
     "text": [
      "\n",
      "------------------------\n",
      " LAG Número 17\n",
      "\n",
      "MAE: 1.9027433905597364\n",
      "MSE: 6300675.641975816\n",
      "MAPE: 0.048685743019610976\n",
      "AIC: 12881.709023466337\n",
      "\n",
      "------------------------\n"
     ]
    }
   ],
   "source": [
    "l = []\n",
    "for i in range(1,18):\n",
    "    if i != 7:\n",
    "        var_model = VARMAX(train_df,order =(i,0), enforce_stationarity=True)\n",
    "        fitted_model = var_model.fit(disp=False)\n",
    "        predict = fitted_model.get_prediction(start=len(train_df),end=len(train_df) + 24 -1)\n",
    "        predictions = predict.predicted_mean\n",
    "        predictions.rename(columns = {'PIB':'PIB_Forecast','Consumo de Energia Nacional':'Consumo de Energia Nacional_Forecast'},inplace=True)\n",
    "        print(f'\\n------------------------\\n LAG Número {i}\\n')\n",
    "        print(f\"MAE: {mean_absolute_error(test_df['Consumo de Energia Nacional'],predictions['Consumo de Energia Nacional_Forecast'])/10**6}\")\n",
    "        print(f\"MSE: {mean_squared_error(test_df['Consumo de Energia Nacional'],predictions['Consumo de Energia Nacional_Forecast'])/10**6}\")\n",
    "        print(f\"MAPE: {mean_absolute_percentage_error(test_df['Consumo de Energia Nacional'],predictions['Consumo de Energia Nacional_Forecast'])}\")\n",
    "        print(f\"AIC: {fitted_model.aic}\")\n",
    "        print('\\n------------------------')\n",
    "        l.append({f'{i} LAGs:':[mean_absolute_error(test_df['Consumo de Energia Nacional'],predictions['Consumo de Energia Nacional_Forecast'])/10**6,mean_squared_error(test_df['Consumo de Energia Nacional'],predictions['Consumo de Energia Nacional_Forecast'])/10**9,mean_absolute_percentage_error(test_df['Consumo de Energia Nacional'],predictions['Consumo de Energia Nacional_Forecast']),fitted_model.aic]})"
   ]
  },
  {
   "cell_type": "code",
   "execution_count": 67,
   "id": "685e86b6",
   "metadata": {},
   "outputs": [
    {
     "data": {
      "text/plain": [
       "[<matplotlib.lines.Line2D at 0x2172049fa00>]"
      ]
     },
     "execution_count": 67,
     "metadata": {},
     "output_type": "execute_result"
    },
    {
     "data": {
      "image/png": "[encoded data removed]",
      "text/plain": [
       "<Figure size 720x720 with 4 Axes>"
      ]
     },
     "metadata": {
      "needs_background": "light"
     },
     "output_type": "display_data"
    }
   ],
   "source": [
    "lista2 = []\n",
    "for i in range(4):\n",
    "    lista = []\n",
    "    for k in range(0,16):\n",
    "        lista.append(list(l[k].values())[0][i])\n",
    "    lista2.append(lista)\n",
    "Dados2 = pd.DataFrame([lista2[0],lista2[1],lista2[2],lista2[3]])\n",
    "Dados2.columns = Dados2.columns + 1\n",
    "fig, axs = plt.subplots(4, figsize=(10,10))\n",
    "fig.tight_layout(pad=3.0)\n",
    "axs[0].title.set_text(\"MAE\")\n",
    "axs[1].title.set_text(\"MSQE\")\n",
    "axs[2].title.set_text(\"MAPE\")\n",
    "axs[3].title.set_text(\"AIC\")\n",
    "axs[0].plot(Dados2.iloc[0,:])\n",
    "axs[1].plot(Dados2.iloc[1,:])\n",
    "axs[2].plot(Dados2.iloc[2,:])\n",
    "axs[3].plot(Dados2.iloc[3,:])"
   ]
  },
  {
   "cell_type": "markdown",
   "id": "96df1d39",
   "metadata": {},
   "source": [
    "# ATENÇÃO!\n",
    "A partir do 7 no eixo X, esse valor terá que ser somado por 1 para obter o verdadeiro LAG, pois nós excluímos o LAG7 devido a erros que estavam ocorrendo."
   ]
  },
  {
   "cell_type": "markdown",
   "id": "b05e71ed",
   "metadata": {},
   "source": [
    "## Depois de testar, vamos ver o quanto nosso modelo acertou em um gráfico!\n",
    "#### E claro, comparar ele com o modelo passado!"
   ]
  },
  {
   "cell_type": "code",
   "execution_count": 63,
   "id": "3d60c46f",
   "metadata": {},
   "outputs": [
    {
     "name": "stderr",
     "output_type": "stream",
     "text": [
      "d:\\python\\lib\\site-packages\\statsmodels\\base\\model.py:604: ConvergenceWarning: Maximum Likelihood optimization failed to converge. Check mle_retvals\n",
      "  warnings.warn(\"Maximum Likelihood optimization failed to \"\n"
     ]
    }
   ],
   "source": [
    "var_model = VARMAX(train_df,order =(9,0), enforce_stationarity=True)\n",
    "fitted_model = var_model.fit(disp=False)\n",
    "predict = fitted_model.get_prediction(start=len(train_df),end=len(train_df) + 24 -1)\n",
    "predictions = predict.predicted_mean\n",
    "predictions.rename(columns = {'PIB':'PIB_Forecast','Consumo de Energia Nacional':'Consumo de Energia Nacional_Forecast'},inplace=True)\n",
    "test_vs_pred_após_teste = pd.concat([test_df['Consumo de Energia Nacional'],predictions['Consumo de Energia Nacional_Forecast']],axis=1)"
   ]
  },
  {
   "cell_type": "code",
   "execution_count": 64,
   "id": "d5e51635",
   "metadata": {},
   "outputs": [
    {
     "data": {
      "image/png": "[encoded data removed]",
      "text/plain": [
       "<Figure size 720x720 with 2 Axes>"
      ]
     },
     "metadata": {
      "needs_background": "light"
     },
     "output_type": "display_data"
    }
   ],
   "source": [
    "fig, axs = plt.subplots(2, figsize = (10,10))\n",
    "axs[0].plot(test_vs_pred_após_teste)\n",
    "axs[0].title.set_text(\"Teste vs Previsto - AIC, MAPE, AIC, e MSQE\")\n",
    "axs[1].plot(test_vs_pred)\n",
    "axs[1].title.set_text(\"Teste vs Previsto - AIC, BIC, FPE, HQIC\")"
   ]
  },
  {
   "cell_type": "markdown",
   "id": "d6ef37ef",
   "metadata": {},
   "source": [
    "## Agora, vamos utilizar 9 LAGs para obter as nossas estimativas para o Consumo de Energia no Futuro ;)"
   ]
  },
  {
   "cell_type": "code",
   "execution_count": 68,
   "id": "57034546",
   "metadata": {
    "scrolled": false
   },
   "outputs": [
    {
     "name": "stderr",
     "output_type": "stream",
     "text": [
      "d:\\python\\lib\\site-packages\\statsmodels\\base\\model.py:604: ConvergenceWarning: Maximum Likelihood optimization failed to converge. Check mle_retvals\n",
      "  warnings.warn(\"Maximum Likelihood optimization failed to \"\n"
     ]
    }
   ],
   "source": [
    "var_model = VARMAX(df_energia[['PIB','Consumo de Energia Nacional']],order =(9,0), enforce_stationarity=True)\n",
    "fitted_model = var_model.fit(disp=False)\n",
    "predict = fitted_model.get_prediction(start=len(df_energia),end=len(df_energia) + 24 -1)\n",
    "predictions = predict.predicted_mean\n",
    "predictions.rename(columns = {'PIB':'PIB_Forecast','Consumo de Energia Nacional':'Consumo de Energia Nacional_Forecast'},inplace=True)"
   ]
  },
  {
   "cell_type": "markdown",
   "id": "459b9079",
   "metadata": {},
   "source": [
    "### Agora vamos ver como nossas segundas estimativas ficaram em um gráfico (Bem Visual!)"
   ]
  },
  {
   "cell_type": "code",
   "execution_count": 70,
   "id": "7a426700",
   "metadata": {},
   "outputs": [
    {
     "data": {
      "text/plain": [
       "[<matplotlib.lines.Line2D at 0x21720b33b20>]"
      ]
     },
     "execution_count": 70,
     "metadata": {},
     "output_type": "execute_result"
    },
    {
     "data": {
      "image/png": "[encoded data removed]",
      "text/plain": [
       "<Figure size 720x720 with 1 Axes>"
      ]
     },
     "metadata": {
      "needs_background": "light"
     },
     "output_type": "display_data"
    }
   ],
   "source": [
    "Forecast = pd.concat([df_energia['Consumo de Energia Nacional'],predictions['Consumo de Energia Nacional_Forecast']])\n",
    "fig, axs = plt.subplots(1,figsize=(6,6))\n",
    "axs.plot(Forecast[217:240], lw=10, c='yellow', zorder=-1)\n",
    "axs.plot(Forecast)"
   ]
  },
  {
   "cell_type": "markdown",
   "id": "34a14baa",
   "metadata": {},
   "source": [
    "### Mas será que ainda é OVERFIT???"
   ]
  },
  {
   "cell_type": "markdown",
   "id": "ea27300e",
   "metadata": {},
   "source": [
    "# Ficamos interessados em realizar um teste de validação cruzada para ver qual LAG, de fato, seria o melhor.\n",
    "### As métricas a serem usadas serão o MAE, MSQE, MAPE, e o AIC. \n",
    "Selecionamos um total de 20 testes. Nosso primeiro modelo se utilizará de 8 anos e 1 mês para prever 2 anos na frente. Logo após, usaremos 8 anos e 6 meses para prever 2 anos na frente. Isso continuará até o final da nossa base de dados."
   ]
  },
  {
   "cell_type": "code",
   "execution_count": 74,
   "id": "84889aa0",
   "metadata": {
    "scrolled": true
   },
   "outputs": [
    {
     "name": "stdout",
     "output_type": "stream",
     "text": [
      "(192, 2)\n",
      "(24, 2)\n",
      "\n",
      "------------------\n",
      " Cross-Validation número 0\n",
      "---------------------\n",
      "\n",
      "\n",
      "LAG sendo Testado: 1\n",
      "MAE: 1.6018943031315946\n",
      "MSE: 5276503.329718743\n",
      "MAPE: 5276503329718.743\n",
      "AIC: 9962.841499478547\n",
      "------------------------\n"
     ]
    },
    {
     "name": "stderr",
     "output_type": "stream",
     "text": [
      "d:\\python\\lib\\site-packages\\statsmodels\\tsa\\statespace\\varmax.py:374: UserWarning: Non-stationary starting autoregressive parameters found. Using zeros as starting parameters.\n",
      "  warn('Non-stationary starting autoregressive parameters'\n"
     ]
    },
    {
     "name": "stdout",
     "output_type": "stream",
     "text": [
      "LAG sendo Testado: 2\n",
      "MAE: 1.61162695369461\n",
      "MSE: 5334189.465640106\n",
      "MAPE: 5334189465640.106\n",
      "AIC: 9951.994585239932\n",
      "------------------------\n"
     ]
    },
    {
     "name": "stderr",
     "output_type": "stream",
     "text": [
      "d:\\python\\lib\\site-packages\\statsmodels\\base\\model.py:604: ConvergenceWarning: Maximum Likelihood optimization failed to converge. Check mle_retvals\n",
      "  warnings.warn(\"Maximum Likelihood optimization failed to \"\n",
      "d:\\python\\lib\\site-packages\\statsmodels\\tsa\\statespace\\varmax.py:374: UserWarning: Non-stationary starting autoregressive parameters found. Using zeros as starting parameters.\n",
      "  warn('Non-stationary starting autoregressive parameters'\n"
     ]
    },
    {
     "name": "stdout",
     "output_type": "stream",
     "text": [
      "LAG sendo Testado: 3\n",
      "MAE: 2.068655953144419\n",
      "MSE: 7593467.586692094\n",
      "MAPE: 7593467586692.094\n",
      "AIC: 11411.109068829452\n",
      "------------------------\n"
     ]
    },
    {
     "name": "stderr",
     "output_type": "stream",
     "text": [
      "d:\\python\\lib\\site-packages\\statsmodels\\base\\model.py:604: ConvergenceWarning: Maximum Likelihood optimization failed to converge. Check mle_retvals\n",
      "  warnings.warn(\"Maximum Likelihood optimization failed to \"\n",
      "d:\\python\\lib\\site-packages\\statsmodels\\tsa\\statespace\\varmax.py:374: UserWarning: Non-stationary starting autoregressive parameters found. Using zeros as starting parameters.\n",
      "  warn('Non-stationary starting autoregressive parameters'\n"
     ]
    },
    {
     "name": "stdout",
     "output_type": "stream",
     "text": [
      "LAG sendo Testado: 4\n",
      "MAE: 2.053715984900794\n",
      "MSE: 7872186.210517305\n",
      "MAPE: 7872186210517.305\n",
      "AIC: 11365.925541643102\n",
      "------------------------\n"
     ]
    },
    {
     "name": "stderr",
     "output_type": "stream",
     "text": [
      "d:\\python\\lib\\site-packages\\statsmodels\\base\\model.py:604: ConvergenceWarning: Maximum Likelihood optimization failed to converge. Check mle_retvals\n",
      "  warnings.warn(\"Maximum Likelihood optimization failed to \"\n"
     ]
    },
    {
     "name": "stdout",
     "output_type": "stream",
     "text": [
      "LAG sendo Testado: 5\n",
      "MAE: 2.242317278045643\n",
      "MSE: 9683344.576813491\n",
      "MAPE: 9683344576813.49\n",
      "AIC: 11360.439515603632\n",
      "------------------------\n"
     ]
    },
    {
     "name": "stderr",
     "output_type": "stream",
     "text": [
      "d:\\python\\lib\\site-packages\\statsmodels\\base\\model.py:604: ConvergenceWarning: Maximum Likelihood optimization failed to converge. Check mle_retvals\n",
      "  warnings.warn(\"Maximum Likelihood optimization failed to \"\n"
     ]
    },
    {
     "name": "stdout",
     "output_type": "stream",
     "text": [
      "LAG sendo Testado: 6\n",
      "MAE: 1.6985185841253754\n",
      "MSE: 5090574.383250363\n",
      "MAPE: 5090574383250.363\n",
      "AIC: 9846.855029024166\n",
      "------------------------\n"
     ]
    },
    {
     "name": "stderr",
     "output_type": "stream",
     "text": [
      "d:\\python\\lib\\site-packages\\statsmodels\\base\\model.py:604: ConvergenceWarning: Maximum Likelihood optimization failed to converge. Check mle_retvals\n",
      "  warnings.warn(\"Maximum Likelihood optimization failed to \"\n"
     ]
    },
    {
     "name": "stdout",
     "output_type": "stream",
     "text": [
      "LAG sendo Testado: 8\n",
      "MAE: 1.6935115473102003\n",
      "MSE: 4838019.533562556\n",
      "MAPE: 4838019533562.556\n",
      "AIC: 9794.733225058186\n",
      "------------------------\n"
     ]
    },
    {
     "name": "stderr",
     "output_type": "stream",
     "text": [
      "d:\\python\\lib\\site-packages\\statsmodels\\base\\model.py:604: ConvergenceWarning: Maximum Likelihood optimization failed to converge. Check mle_retvals\n",
      "  warnings.warn(\"Maximum Likelihood optimization failed to \"\n"
     ]
    },
    {
     "name": "stdout",
     "output_type": "stream",
     "text": [
      "LAG sendo Testado: 9\n",
      "MAE: 1.483489675051585\n",
      "MSE: 4026485.5217817384\n",
      "MAPE: 4026485521781.7383\n",
      "AIC: 9777.512287164722\n",
      "------------------------\n"
     ]
    },
    {
     "name": "stderr",
     "output_type": "stream",
     "text": [
      "d:\\python\\lib\\site-packages\\statsmodels\\tsa\\statespace\\varmax.py:374: UserWarning: Non-stationary starting autoregressive parameters found. Using zeros as starting parameters.\n",
      "  warn('Non-stationary starting autoregressive parameters'\n",
      "d:\\python\\lib\\site-packages\\statsmodels\\base\\model.py:604: ConvergenceWarning: Maximum Likelihood optimization failed to converge. Check mle_retvals\n",
      "  warnings.warn(\"Maximum Likelihood optimization failed to \"\n"
     ]
    },
    {
     "name": "stdout",
     "output_type": "stream",
     "text": [
      "LAG sendo Testado: 10\n",
      "MAE: 2.460030992945715\n",
      "MSE: 11338718.495673236\n",
      "MAPE: 11338718495673.236\n",
      "AIC: 12190.596995436652\n",
      "------------------------\n"
     ]
    },
    {
     "name": "stderr",
     "output_type": "stream",
     "text": [
      "d:\\python\\lib\\site-packages\\statsmodels\\tsa\\statespace\\varmax.py:374: UserWarning: Non-stationary starting autoregressive parameters found. Using zeros as starting parameters.\n",
      "  warn('Non-stationary starting autoregressive parameters'\n",
      "d:\\python\\lib\\site-packages\\statsmodels\\base\\model.py:604: ConvergenceWarning: Maximum Likelihood optimization failed to converge. Check mle_retvals\n",
      "  warnings.warn(\"Maximum Likelihood optimization failed to \"\n"
     ]
    },
    {
     "name": "stdout",
     "output_type": "stream",
     "text": [
      "LAG sendo Testado: 11\n",
      "MAE: 2.717489437024455\n",
      "MSE: 14434055.863413123\n",
      "MAPE: 14434055863413.123\n",
      "AIC: 11961.826223724367\n",
      "------------------------\n"
     ]
    },
    {
     "name": "stderr",
     "output_type": "stream",
     "text": [
      "d:\\python\\lib\\site-packages\\statsmodels\\tsa\\statespace\\varmax.py:374: UserWarning: Non-stationary starting autoregressive parameters found. Using zeros as starting parameters.\n",
      "  warn('Non-stationary starting autoregressive parameters'\n",
      "d:\\python\\lib\\site-packages\\statsmodels\\base\\model.py:604: ConvergenceWarning: Maximum Likelihood optimization failed to converge. Check mle_retvals\n",
      "  warnings.warn(\"Maximum Likelihood optimization failed to \"\n"
     ]
    },
    {
     "name": "stdout",
     "output_type": "stream",
     "text": [
      "LAG sendo Testado: 12\n",
      "MAE: 3.4622296058056405\n",
      "MSE: 18281956.42125098\n",
      "MAPE: 18281956421250.98\n",
      "AIC: 12435.675205952246\n",
      "------------------------\n",
      "(187, 2)\n",
      "(24, 2)\n",
      "\n",
      "------------------\n",
      " Cross-Validation número 1\n",
      "---------------------\n",
      "\n",
      "\n",
      "LAG sendo Testado: 1\n",
      "MAE: 1.5214425605871251\n",
      "MSE: 4102079.2200530972\n",
      "MAPE: 4102079220053.097\n",
      "AIC: 9702.100825863083\n",
      "------------------------\n",
      "LAG sendo Testado: 2\n",
      "MAE: 1.5459389640926051\n",
      "MSE: 4075973.070307079\n",
      "MAPE: 4075973070307.0786\n",
      "AIC: 9691.281132775483\n",
      "------------------------\n",
      "LAG sendo Testado: 3\n",
      "MAE: 1.5971791680357013\n",
      "MSE: 5320723.229377982\n",
      "MAPE: 5320723229377.982\n",
      "AIC: 9652.651696273573\n",
      "------------------------\n",
      "LAG sendo Testado: 4\n",
      "MAE: 1.5211757630110105\n",
      "MSE: 3878984.205562418\n",
      "MAPE: 3878984205562.418\n",
      "AIC: 9640.665919373987\n",
      "------------------------\n",
      "LAG sendo Testado: 5\n",
      "MAE: 1.5070130397062798\n",
      "MSE: 3766392.7263365546\n",
      "MAPE: 3766392726336.5547\n",
      "AIC: 9636.891413299662\n",
      "------------------------\n"
     ]
    },
    {
     "name": "stderr",
     "output_type": "stream",
     "text": [
      "d:\\python\\lib\\site-packages\\statsmodels\\base\\model.py:604: ConvergenceWarning: Maximum Likelihood optimization failed to converge. Check mle_retvals\n",
      "  warnings.warn(\"Maximum Likelihood optimization failed to \"\n"
     ]
    },
    {
     "name": "stdout",
     "output_type": "stream",
     "text": [
      "LAG sendo Testado: 6\n",
      "MAE: 1.4948483947211075\n",
      "MSE: 3959382.0972543047\n",
      "MAPE: 3959382097254.3047\n",
      "AIC: 9584.96122500173\n",
      "------------------------\n"
     ]
    },
    {
     "name": "stderr",
     "output_type": "stream",
     "text": [
      "d:\\python\\lib\\site-packages\\statsmodels\\base\\model.py:604: ConvergenceWarning: Maximum Likelihood optimization failed to converge. Check mle_retvals\n",
      "  warnings.warn(\"Maximum Likelihood optimization failed to \"\n"
     ]
    },
    {
     "name": "stdout",
     "output_type": "stream",
     "text": [
      "LAG sendo Testado: 8\n",
      "MAE: 1.281803012486537\n",
      "MSE: 3396271.066395512\n",
      "MAPE: 3396271066395.5117\n",
      "AIC: 9546.58802048413\n",
      "------------------------\n"
     ]
    },
    {
     "name": "stderr",
     "output_type": "stream",
     "text": [
      "d:\\python\\lib\\site-packages\\statsmodels\\base\\model.py:604: ConvergenceWarning: Maximum Likelihood optimization failed to converge. Check mle_retvals\n",
      "  warnings.warn(\"Maximum Likelihood optimization failed to \"\n"
     ]
    },
    {
     "name": "stdout",
     "output_type": "stream",
     "text": [
      "LAG sendo Testado: 9\n",
      "MAE: 1.2131083678760683\n",
      "MSE: 3036732.5348016135\n",
      "MAPE: 3036732534801.614\n",
      "AIC: 9526.745984720921\n",
      "------------------------\n"
     ]
    },
    {
     "name": "stderr",
     "output_type": "stream",
     "text": [
      "d:\\python\\lib\\site-packages\\statsmodels\\tsa\\statespace\\varmax.py:374: UserWarning: Non-stationary starting autoregressive parameters found. Using zeros as starting parameters.\n",
      "  warn('Non-stationary starting autoregressive parameters'\n",
      "d:\\python\\lib\\site-packages\\statsmodels\\base\\model.py:604: ConvergenceWarning: Maximum Likelihood optimization failed to converge. Check mle_retvals\n",
      "  warnings.warn(\"Maximum Likelihood optimization failed to \"\n"
     ]
    },
    {
     "name": "stdout",
     "output_type": "stream",
     "text": [
      "LAG sendo Testado: 10\n",
      "MAE: 2.1497641126462357\n",
      "MSE: 6904233.28355302\n",
      "MAPE: 6904233283553.0205\n",
      "AIC: 11589.525178315687\n",
      "------------------------\n"
     ]
    },
    {
     "name": "stderr",
     "output_type": "stream",
     "text": [
      "d:\\python\\lib\\site-packages\\statsmodels\\tsa\\statespace\\varmax.py:374: UserWarning: Non-stationary starting autoregressive parameters found. Using zeros as starting parameters.\n",
      "  warn('Non-stationary starting autoregressive parameters'\n",
      "d:\\python\\lib\\site-packages\\statsmodels\\base\\model.py:604: ConvergenceWarning: Maximum Likelihood optimization failed to converge. Check mle_retvals\n",
      "  warnings.warn(\"Maximum Likelihood optimization failed to \"\n"
     ]
    },
    {
     "name": "stdout",
     "output_type": "stream",
     "text": [
      "LAG sendo Testado: 11\n",
      "MAE: 2.3349892784775714\n",
      "MSE: 8676981.762104364\n",
      "MAPE: 8676981762104.364\n",
      "AIC: 11752.557647312864\n",
      "------------------------\n"
     ]
    },
    {
     "name": "stderr",
     "output_type": "stream",
     "text": [
      "d:\\python\\lib\\site-packages\\statsmodels\\tsa\\statespace\\varmax.py:374: UserWarning: Non-stationary starting autoregressive parameters found. Using zeros as starting parameters.\n",
      "  warn('Non-stationary starting autoregressive parameters'\n",
      "d:\\python\\lib\\site-packages\\statsmodels\\base\\model.py:604: ConvergenceWarning: Maximum Likelihood optimization failed to converge. Check mle_retvals\n",
      "  warnings.warn(\"Maximum Likelihood optimization failed to \"\n"
     ]
    },
    {
     "name": "stdout",
     "output_type": "stream",
     "text": [
      "LAG sendo Testado: 12\n",
      "MAE: 2.1680730052860273\n",
      "MSE: 7837617.244156806\n",
      "MAPE: 7837617244156.806\n",
      "AIC: 11509.54927481266\n",
      "------------------------\n",
      "(182, 2)\n",
      "(24, 2)\n",
      "\n",
      "------------------\n",
      " Cross-Validation número 2\n",
      "---------------------\n",
      "\n",
      "\n",
      "LAG sendo Testado: 1\n",
      "MAE: 1.6147683717133647\n",
      "MSE: 4415877.916521777\n",
      "MAPE: 4415877916521.777\n",
      "AIC: 9429.606170681724\n",
      "------------------------\n"
     ]
    },
    {
     "name": "stderr",
     "output_type": "stream",
     "text": [
      "d:\\python\\lib\\site-packages\\statsmodels\\base\\model.py:604: ConvergenceWarning: Maximum Likelihood optimization failed to converge. Check mle_retvals\n",
      "  warnings.warn(\"Maximum Likelihood optimization failed to \"\n"
     ]
    },
    {
     "name": "stdout",
     "output_type": "stream",
     "text": [
      "LAG sendo Testado: 2\n",
      "MAE: 1.6077989834624522\n",
      "MSE: 4170935.553372358\n",
      "MAPE: 4170935553372.358\n",
      "AIC: 9420.35497675544\n",
      "------------------------\n",
      "LAG sendo Testado: 3\n",
      "MAE: 1.9401896002333443\n",
      "MSE: 6660648.964660062\n",
      "MAPE: 6660648964660.0625\n",
      "AIC: 9378.247640353771\n",
      "------------------------\n",
      "LAG sendo Testado: 4\n",
      "MAE: 1.699231998835698\n",
      "MSE: 5545796.836207607\n",
      "MAPE: 5545796836207.606\n",
      "AIC: 9366.080314032926\n",
      "------------------------\n",
      "LAG sendo Testado: 5\n",
      "MAE: 1.5635029489406758\n",
      "MSE: 4437923.499138705\n",
      "MAPE: 4437923499138.705\n",
      "AIC: 9362.14132404845\n",
      "------------------------\n"
     ]
    },
    {
     "name": "stderr",
     "output_type": "stream",
     "text": [
      "d:\\python\\lib\\site-packages\\statsmodels\\base\\model.py:604: ConvergenceWarning: Maximum Likelihood optimization failed to converge. Check mle_retvals\n",
      "  warnings.warn(\"Maximum Likelihood optimization failed to \"\n"
     ]
    },
    {
     "name": "stdout",
     "output_type": "stream",
     "text": [
      "LAG sendo Testado: 6\n",
      "MAE: 1.6772464745916191\n",
      "MSE: 3992040.309363453\n",
      "MAPE: 3992040309363.453\n",
      "AIC: 9310.342911501917\n",
      "------------------------\n"
     ]
    },
    {
     "name": "stderr",
     "output_type": "stream",
     "text": [
      "d:\\python\\lib\\site-packages\\statsmodels\\base\\model.py:604: ConvergenceWarning: Maximum Likelihood optimization failed to converge. Check mle_retvals\n",
      "  warnings.warn(\"Maximum Likelihood optimization failed to \"\n"
     ]
    },
    {
     "name": "stdout",
     "output_type": "stream",
     "text": [
      "LAG sendo Testado: 8\n",
      "MAE: 1.6561047644380014\n",
      "MSE: 4037038.78371356\n",
      "MAPE: 4037038783713.56\n",
      "AIC: 9269.882508351155\n",
      "------------------------\n"
     ]
    },
    {
     "name": "stderr",
     "output_type": "stream",
     "text": [
      "d:\\python\\lib\\site-packages\\statsmodels\\base\\model.py:604: ConvergenceWarning: Maximum Likelihood optimization failed to converge. Check mle_retvals\n",
      "  warnings.warn(\"Maximum Likelihood optimization failed to \"\n"
     ]
    },
    {
     "name": "stdout",
     "output_type": "stream",
     "text": [
      "LAG sendo Testado: 9\n",
      "MAE: 1.4608329563009574\n",
      "MSE: 3409925.303688203\n",
      "MAPE: 3409925303688.203\n",
      "AIC: 9256.181021406126\n",
      "------------------------\n",
      "LAG sendo Testado: 10\n",
      "MAE: 1.3750676153864805\n",
      "MSE: 3391081.954764638\n",
      "MAPE: 3391081954764.638\n",
      "AIC: 9250.625620514287\n",
      "------------------------\n",
      "LAG sendo Testado: 11\n",
      "MAE: 1.4118956833959286\n",
      "MSE: 3242190.163058797\n",
      "MAPE: 3242190163058.797\n",
      "AIC: 9234.000350434158\n",
      "------------------------\n"
     ]
    },
    {
     "name": "stderr",
     "output_type": "stream",
     "text": [
      "d:\\python\\lib\\site-packages\\statsmodels\\tsa\\statespace\\varmax.py:374: UserWarning: Non-stationary starting autoregressive parameters found. Using zeros as starting parameters.\n",
      "  warn('Non-stationary starting autoregressive parameters'\n",
      "d:\\python\\lib\\site-packages\\statsmodels\\base\\model.py:604: ConvergenceWarning: Maximum Likelihood optimization failed to converge. Check mle_retvals\n",
      "  warnings.warn(\"Maximum Likelihood optimization failed to \"\n"
     ]
    },
    {
     "name": "stdout",
     "output_type": "stream",
     "text": [
      "LAG sendo Testado: 12\n",
      "MAE: 2.0196162365810837\n",
      "MSE: 6358879.593483779\n",
      "MAPE: 6358879593483.778\n",
      "AIC: 11192.501290537562\n",
      "------------------------\n",
      "(177, 2)\n",
      "(24, 2)\n",
      "\n",
      "------------------\n",
      " Cross-Validation número 3\n",
      "---------------------\n",
      "\n",
      "\n",
      "LAG sendo Testado: 1\n",
      "MAE: 1.4260825376117696\n",
      "MSE: 3076672.471261826\n",
      "MAPE: 3076672471261.8257\n",
      "AIC: 9160.231441287271\n",
      "------------------------\n",
      "LAG sendo Testado: 2\n",
      "MAE: 1.452234881164485\n",
      "MSE: 2805640.293863854\n",
      "MAPE: 2805640293863.854\n",
      "AIC: 9150.402191645779\n",
      "------------------------\n"
     ]
    },
    {
     "name": "stderr",
     "output_type": "stream",
     "text": [
      "d:\\python\\lib\\site-packages\\statsmodels\\base\\model.py:604: ConvergenceWarning: Maximum Likelihood optimization failed to converge. Check mle_retvals\n",
      "  warnings.warn(\"Maximum Likelihood optimization failed to \"\n"
     ]
    },
    {
     "name": "stdout",
     "output_type": "stream",
     "text": [
      "LAG sendo Testado: 3\n",
      "MAE: 1.456113213093251\n",
      "MSE: 4268359.303042065\n",
      "MAPE: 4268359303042.065\n",
      "AIC: 9110.45612553247\n",
      "------------------------\n",
      "LAG sendo Testado: 4\n",
      "MAE: 1.4568168839806281\n",
      "MSE: 3302116.6265184726\n",
      "MAPE: 3302116626518.4727\n",
      "AIC: 9100.175952430163\n",
      "------------------------\n",
      "LAG sendo Testado: 5\n",
      "MAE: 1.4643754269690386\n",
      "MSE: 3008762.5791681344\n",
      "MAPE: 3008762579168.1343\n",
      "AIC: 9094.66246507212\n",
      "------------------------\n"
     ]
    },
    {
     "name": "stderr",
     "output_type": "stream",
     "text": [
      "d:\\python\\lib\\site-packages\\statsmodels\\base\\model.py:604: ConvergenceWarning: Maximum Likelihood optimization failed to converge. Check mle_retvals\n",
      "  warnings.warn(\"Maximum Likelihood optimization failed to \"\n"
     ]
    },
    {
     "name": "stdout",
     "output_type": "stream",
     "text": [
      "LAG sendo Testado: 6\n",
      "MAE: 1.469608947050716\n",
      "MSE: 3038194.4147811364\n",
      "MAPE: 3038194414781.136\n",
      "AIC: 9040.573196399264\n",
      "------------------------\n"
     ]
    },
    {
     "name": "stderr",
     "output_type": "stream",
     "text": [
      "d:\\python\\lib\\site-packages\\statsmodels\\base\\model.py:604: ConvergenceWarning: Maximum Likelihood optimization failed to converge. Check mle_retvals\n",
      "  warnings.warn(\"Maximum Likelihood optimization failed to \"\n"
     ]
    },
    {
     "name": "stdout",
     "output_type": "stream",
     "text": [
      "LAG sendo Testado: 8\n",
      "MAE: 1.338373177584026\n",
      "MSE: 2538843.609165045\n",
      "MAPE: 2538843609165.045\n",
      "AIC: 9001.718877137006\n",
      "------------------------\n"
     ]
    },
    {
     "name": "stderr",
     "output_type": "stream",
     "text": [
      "d:\\python\\lib\\site-packages\\statsmodels\\base\\model.py:604: ConvergenceWarning: Maximum Likelihood optimization failed to converge. Check mle_retvals\n",
      "  warnings.warn(\"Maximum Likelihood optimization failed to \"\n"
     ]
    },
    {
     "name": "stdout",
     "output_type": "stream",
     "text": [
      "LAG sendo Testado: 9\n",
      "MAE: 1.2666617593581875\n",
      "MSE: 2302016.309455906\n",
      "MAPE: 2302016309455.9062\n",
      "AIC: 8988.065097707808\n",
      "------------------------\n"
     ]
    },
    {
     "name": "stderr",
     "output_type": "stream",
     "text": [
      "d:\\python\\lib\\site-packages\\statsmodels\\base\\model.py:604: ConvergenceWarning: Maximum Likelihood optimization failed to converge. Check mle_retvals\n",
      "  warnings.warn(\"Maximum Likelihood optimization failed to \"\n"
     ]
    },
    {
     "name": "stdout",
     "output_type": "stream",
     "text": [
      "LAG sendo Testado: 10\n",
      "MAE: 1.273723835522524\n",
      "MSE: 2308041.7098276857\n",
      "MAPE: 2308041709827.6855\n",
      "AIC: 8985.299680286127\n",
      "------------------------\n"
     ]
    },
    {
     "name": "stderr",
     "output_type": "stream",
     "text": [
      "d:\\python\\lib\\site-packages\\statsmodels\\base\\model.py:604: ConvergenceWarning: Maximum Likelihood optimization failed to converge. Check mle_retvals\n",
      "  warnings.warn(\"Maximum Likelihood optimization failed to \"\n"
     ]
    },
    {
     "name": "stdout",
     "output_type": "stream",
     "text": [
      "LAG sendo Testado: 11\n",
      "MAE: 1.4184327156378664\n",
      "MSE: 2810841.7941134498\n",
      "MAPE: 2810841794113.4497\n",
      "AIC: 8962.806973579325\n",
      "------------------------\n"
     ]
    },
    {
     "name": "stderr",
     "output_type": "stream",
     "text": [
      "d:\\python\\lib\\site-packages\\statsmodels\\base\\model.py:604: ConvergenceWarning: Maximum Likelihood optimization failed to converge. Check mle_retvals\n",
      "  warnings.warn(\"Maximum Likelihood optimization failed to \"\n"
     ]
    },
    {
     "name": "stdout",
     "output_type": "stream",
     "text": [
      "LAG sendo Testado: 12\n",
      "MAE: 1.6222551936311778\n",
      "MSE: 3356350.065956215\n",
      "MAPE: 3356350065956.215\n",
      "AIC: 8954.50373000939\n",
      "------------------------\n",
      "(172, 2)\n",
      "(24, 2)\n",
      "\n",
      "------------------\n",
      " Cross-Validation número 4\n",
      "---------------------\n",
      "\n",
      "\n",
      "LAG sendo Testado: 1\n",
      "MAE: 1.2168106313438565\n",
      "MSE: 2073185.6827310887\n",
      "MAPE: 2073185682731.0886\n",
      "AIC: 8893.688838802827\n",
      "------------------------\n",
      "LAG sendo Testado: 2\n",
      "MAE: 1.1903981340466503\n",
      "MSE: 1914908.8877723797\n",
      "MAPE: 1914908887772.3796\n",
      "AIC: 8886.544457367254\n",
      "------------------------\n",
      "LAG sendo Testado: 3\n",
      "MAE: 1.1468253735526075\n",
      "MSE: 2364640.0626261705\n",
      "MAPE: 2364640062626.1704\n",
      "AIC: 8843.386023890118\n",
      "------------------------\n",
      "LAG sendo Testado: 4\n",
      "MAE: 1.0215785658145375\n",
      "MSE: 1713659.2835161984\n",
      "MAPE: 1713659283516.1985\n",
      "AIC: 8830.548512852176\n",
      "------------------------\n",
      "LAG sendo Testado: 5\n",
      "MAE: 1.060188320245405\n",
      "MSE: 1460646.144617154\n",
      "MAPE: 1460646144617.154\n",
      "AIC: 8827.02119435362\n",
      "------------------------\n"
     ]
    },
    {
     "name": "stderr",
     "output_type": "stream",
     "text": [
      "d:\\python\\lib\\site-packages\\statsmodels\\base\\model.py:604: ConvergenceWarning: Maximum Likelihood optimization failed to converge. Check mle_retvals\n",
      "  warnings.warn(\"Maximum Likelihood optimization failed to \"\n"
     ]
    },
    {
     "name": "stdout",
     "output_type": "stream",
     "text": [
      "LAG sendo Testado: 6\n",
      "MAE: 1.3005386830871404\n",
      "MSE: 2500907.864040169\n",
      "MAPE: 2500907864040.169\n",
      "AIC: 8771.2988002813\n",
      "------------------------\n"
     ]
    },
    {
     "name": "stderr",
     "output_type": "stream",
     "text": [
      "d:\\python\\lib\\site-packages\\statsmodels\\base\\model.py:604: ConvergenceWarning: Maximum Likelihood optimization failed to converge. Check mle_retvals\n",
      "  warnings.warn(\"Maximum Likelihood optimization failed to \"\n"
     ]
    },
    {
     "name": "stdout",
     "output_type": "stream",
     "text": [
      "LAG sendo Testado: 8\n",
      "MAE: 1.1909071250430718\n",
      "MSE: 2150893.9750660975\n",
      "MAPE: 2150893975066.0974\n",
      "AIC: 8734.227011971998\n",
      "------------------------\n"
     ]
    },
    {
     "name": "stderr",
     "output_type": "stream",
     "text": [
      "d:\\python\\lib\\site-packages\\statsmodels\\base\\model.py:604: ConvergenceWarning: Maximum Likelihood optimization failed to converge. Check mle_retvals\n",
      "  warnings.warn(\"Maximum Likelihood optimization failed to \"\n"
     ]
    },
    {
     "name": "stdout",
     "output_type": "stream",
     "text": [
      "LAG sendo Testado: 9\n",
      "MAE: 1.0423044050719374\n",
      "MSE: 1765181.511789345\n",
      "MAPE: 1765181511789.345\n",
      "AIC: 8720.321279822752\n",
      "------------------------\n"
     ]
    },
    {
     "name": "stderr",
     "output_type": "stream",
     "text": [
      "d:\\python\\lib\\site-packages\\statsmodels\\base\\model.py:604: ConvergenceWarning: Maximum Likelihood optimization failed to converge. Check mle_retvals\n",
      "  warnings.warn(\"Maximum Likelihood optimization failed to \"\n"
     ]
    },
    {
     "name": "stdout",
     "output_type": "stream",
     "text": [
      "LAG sendo Testado: 10\n",
      "MAE: 0.9967768130564186\n",
      "MSE: 1613716.002533131\n",
      "MAPE: 1613716002533.131\n",
      "AIC: 8717.914946030309\n",
      "------------------------\n",
      "LAG sendo Testado: 11\n",
      "MAE: 1.392617322157211\n",
      "MSE: 2960163.6621240494\n",
      "MAPE: 2960163662124.0493\n",
      "AIC: 8701.765138120541\n",
      "------------------------\n"
     ]
    },
    {
     "name": "stderr",
     "output_type": "stream",
     "text": [
      "d:\\python\\lib\\site-packages\\statsmodels\\tsa\\statespace\\varmax.py:374: UserWarning: Non-stationary starting autoregressive parameters found. Using zeros as starting parameters.\n",
      "  warn('Non-stationary starting autoregressive parameters'\n",
      "d:\\python\\lib\\site-packages\\statsmodels\\base\\model.py:604: ConvergenceWarning: Maximum Likelihood optimization failed to converge. Check mle_retvals\n",
      "  warnings.warn(\"Maximum Likelihood optimization failed to \"\n"
     ]
    },
    {
     "name": "stdout",
     "output_type": "stream",
     "text": [
      "LAG sendo Testado: 12\n",
      "MAE: 1.5546181951567215\n",
      "MSE: 3116392.4182438245\n",
      "MAPE: 3116392418243.8247\n",
      "AIC: 10462.939070089067\n",
      "------------------------\n",
      "(167, 2)\n",
      "(24, 2)\n",
      "\n",
      "------------------\n",
      " Cross-Validation número 5\n",
      "---------------------\n",
      "\n",
      "\n",
      "LAG sendo Testado: 1\n",
      "MAE: 1.0247617120693158\n",
      "MSE: 1511709.7607953476\n",
      "MAPE: 1511709760795.3477\n",
      "AIC: 8619.610015771847\n",
      "------------------------\n",
      "LAG sendo Testado: 2\n",
      "MAE: 0.9951235688352638\n",
      "MSE: 1352745.7444836833\n",
      "MAPE: 1352745744483.6833\n",
      "AIC: 8608.606833223439\n",
      "------------------------\n",
      "LAG sendo Testado: 3\n",
      "MAE: 1.212955528982292\n",
      "MSE: 2344428.6192214126\n",
      "MAPE: 2344428619221.4126\n",
      "AIC: 8569.07720204097\n",
      "------------------------\n",
      "LAG sendo Testado: 4\n",
      "MAE: 0.9715556564836902\n",
      "MSE: 1298288.2114759744\n",
      "MAPE: 1298288211475.9744\n",
      "AIC: 8562.614118395275\n",
      "------------------------\n",
      "LAG sendo Testado: 5\n",
      "MAE: 0.9714402891174894\n",
      "MSE: 1270625.3607472\n",
      "MAPE: 1270625360747.2\n",
      "AIC: 8557.695245807465\n",
      "------------------------\n"
     ]
    },
    {
     "name": "stderr",
     "output_type": "stream",
     "text": [
      "d:\\python\\lib\\site-packages\\statsmodels\\base\\model.py:604: ConvergenceWarning: Maximum Likelihood optimization failed to converge. Check mle_retvals\n",
      "  warnings.warn(\"Maximum Likelihood optimization failed to \"\n"
     ]
    },
    {
     "name": "stdout",
     "output_type": "stream",
     "text": [
      "LAG sendo Testado: 6\n",
      "MAE: 1.6622767466238457\n",
      "MSE: 4016347.639333055\n",
      "MAPE: 4016347639333.0547\n",
      "AIC: 8504.078105746956\n",
      "------------------------\n"
     ]
    },
    {
     "name": "stderr",
     "output_type": "stream",
     "text": [
      "d:\\python\\lib\\site-packages\\statsmodels\\base\\model.py:604: ConvergenceWarning: Maximum Likelihood optimization failed to converge. Check mle_retvals\n",
      "  warnings.warn(\"Maximum Likelihood optimization failed to \"\n"
     ]
    },
    {
     "name": "stdout",
     "output_type": "stream",
     "text": [
      "LAG sendo Testado: 8\n",
      "MAE: 1.506460025564352\n",
      "MSE: 3322002.8237321577\n",
      "MAPE: 3322002823732.1577\n",
      "AIC: 8463.313949243422\n",
      "------------------------\n"
     ]
    },
    {
     "name": "stderr",
     "output_type": "stream",
     "text": [
      "d:\\python\\lib\\site-packages\\statsmodels\\base\\model.py:604: ConvergenceWarning: Maximum Likelihood optimization failed to converge. Check mle_retvals\n",
      "  warnings.warn(\"Maximum Likelihood optimization failed to \"\n"
     ]
    },
    {
     "name": "stdout",
     "output_type": "stream",
     "text": [
      "LAG sendo Testado: 9\n",
      "MAE: 1.7506432948624464\n",
      "MSE: 4136479.8500730367\n",
      "MAPE: 4136479850073.0366\n",
      "AIC: 8441.187862235312\n",
      "------------------------\n"
     ]
    },
    {
     "name": "stderr",
     "output_type": "stream",
     "text": [
      "d:\\python\\lib\\site-packages\\statsmodels\\base\\model.py:604: ConvergenceWarning: Maximum Likelihood optimization failed to converge. Check mle_retvals\n",
      "  warnings.warn(\"Maximum Likelihood optimization failed to \"\n"
     ]
    },
    {
     "name": "stdout",
     "output_type": "stream",
     "text": [
      "LAG sendo Testado: 10\n",
      "MAE: 1.580012494363027\n",
      "MSE: 3472371.079076354\n",
      "MAPE: 3472371079076.354\n",
      "AIC: 8443.159110673958\n",
      "------------------------\n"
     ]
    },
    {
     "name": "stderr",
     "output_type": "stream",
     "text": [
      "d:\\python\\lib\\site-packages\\statsmodels\\base\\model.py:604: ConvergenceWarning: Maximum Likelihood optimization failed to converge. Check mle_retvals\n",
      "  warnings.warn(\"Maximum Likelihood optimization failed to \"\n"
     ]
    },
    {
     "name": "stdout",
     "output_type": "stream",
     "text": [
      "LAG sendo Testado: 11\n",
      "MAE: 1.5343332067282225\n",
      "MSE: 3115246.3152923775\n",
      "MAPE: 3115246315292.3774\n",
      "AIC: 8423.89292622212\n",
      "------------------------\n"
     ]
    },
    {
     "name": "stderr",
     "output_type": "stream",
     "text": [
      "d:\\python\\lib\\site-packages\\statsmodels\\base\\model.py:604: ConvergenceWarning: Maximum Likelihood optimization failed to converge. Check mle_retvals\n",
      "  warnings.warn(\"Maximum Likelihood optimization failed to \"\n"
     ]
    },
    {
     "name": "stdout",
     "output_type": "stream",
     "text": [
      "LAG sendo Testado: 12\n",
      "MAE: 1.5506920532305006\n",
      "MSE: 3103912.960798436\n",
      "MAPE: 3103912960798.436\n",
      "AIC: 8417.335185358894\n",
      "------------------------\n",
      "(162, 2)\n",
      "(24, 2)\n",
      "\n",
      "------------------\n",
      " Cross-Validation número 6\n",
      "---------------------\n",
      "\n",
      "\n",
      "LAG sendo Testado: 1\n",
      "MAE: 0.7814700322544774\n",
      "MSE: 899730.1834227233\n",
      "MAPE: 899730183422.7233\n",
      "AIC: 8359.527422589743\n",
      "------------------------\n",
      "LAG sendo Testado: 2\n",
      "MAE: 0.8264888731169118\n",
      "MSE: 978856.3072288622\n",
      "MAPE: 978856307228.8622\n",
      "AIC: 8347.497786279222\n",
      "------------------------\n",
      "LAG sendo Testado: 3\n",
      "MAE: 0.9406130456225388\n",
      "MSE: 1456926.4421350714\n",
      "MAPE: 1456926442135.0713\n",
      "AIC: 8312.53268371254\n",
      "------------------------\n",
      "LAG sendo Testado: 4\n",
      "MAE: 0.76009413762093\n",
      "MSE: 879805.0965086591\n",
      "MAPE: 879805096508.659\n",
      "AIC: 8308.484655148302\n",
      "------------------------\n",
      "LAG sendo Testado: 5\n",
      "MAE: 0.8109093315752741\n",
      "MSE: 877483.6833749459\n",
      "MAPE: 877483683374.9459\n",
      "AIC: 8304.212957333777\n",
      "------------------------\n"
     ]
    },
    {
     "name": "stderr",
     "output_type": "stream",
     "text": [
      "d:\\python\\lib\\site-packages\\statsmodels\\base\\model.py:604: ConvergenceWarning: Maximum Likelihood optimization failed to converge. Check mle_retvals\n",
      "  warnings.warn(\"Maximum Likelihood optimization failed to \"\n"
     ]
    },
    {
     "name": "stdout",
     "output_type": "stream",
     "text": [
      "LAG sendo Testado: 6\n",
      "MAE: 1.0744767794828902\n",
      "MSE: 1921198.7327572207\n",
      "MAPE: 1921198732757.2207\n",
      "AIC: 8252.918277059474\n",
      "------------------------\n"
     ]
    },
    {
     "name": "stderr",
     "output_type": "stream",
     "text": [
      "d:\\python\\lib\\site-packages\\statsmodels\\base\\model.py:604: ConvergenceWarning: Maximum Likelihood optimization failed to converge. Check mle_retvals\n",
      "  warnings.warn(\"Maximum Likelihood optimization failed to \"\n"
     ]
    },
    {
     "name": "stdout",
     "output_type": "stream",
     "text": [
      "LAG sendo Testado: 8\n",
      "MAE: 0.8825852714112721\n",
      "MSE: 1403774.174846797\n",
      "MAPE: 1403774174846.797\n",
      "AIC: 8221.230274890806\n",
      "------------------------\n"
     ]
    },
    {
     "name": "stderr",
     "output_type": "stream",
     "text": [
      "d:\\python\\lib\\site-packages\\statsmodels\\tsa\\statespace\\varmax.py:374: UserWarning: Non-stationary starting autoregressive parameters found. Using zeros as starting parameters.\n",
      "  warn('Non-stationary starting autoregressive parameters'\n",
      "d:\\python\\lib\\site-packages\\statsmodels\\base\\model.py:604: ConvergenceWarning: Maximum Likelihood optimization failed to converge. Check mle_retvals\n",
      "  warnings.warn(\"Maximum Likelihood optimization failed to \"\n"
     ]
    },
    {
     "name": "stdout",
     "output_type": "stream",
     "text": [
      "LAG sendo Testado: 9\n",
      "MAE: 1.461242587952515\n",
      "MSE: 3455921.970886694\n",
      "MAPE: 3455921970886.694\n",
      "AIC: 10156.264054138133\n",
      "------------------------\n"
     ]
    },
    {
     "name": "stderr",
     "output_type": "stream",
     "text": [
      "d:\\python\\lib\\site-packages\\statsmodels\\tsa\\statespace\\varmax.py:374: UserWarning: Non-stationary starting autoregressive parameters found. Using zeros as starting parameters.\n",
      "  warn('Non-stationary starting autoregressive parameters'\n",
      "d:\\python\\lib\\site-packages\\statsmodels\\base\\model.py:604: ConvergenceWarning: Maximum Likelihood optimization failed to converge. Check mle_retvals\n",
      "  warnings.warn(\"Maximum Likelihood optimization failed to \"\n"
     ]
    },
    {
     "name": "stdout",
     "output_type": "stream",
     "text": [
      "LAG sendo Testado: 10\n",
      "MAE: 1.4698890839444594\n",
      "MSE: 3336824.46382081\n",
      "MAPE: 3336824463820.81\n",
      "AIC: 9841.732505871922\n",
      "------------------------\n"
     ]
    },
    {
     "name": "stderr",
     "output_type": "stream",
     "text": [
      "d:\\python\\lib\\site-packages\\statsmodels\\tsa\\statespace\\varmax.py:374: UserWarning: Non-stationary starting autoregressive parameters found. Using zeros as starting parameters.\n",
      "  warn('Non-stationary starting autoregressive parameters'\n",
      "d:\\python\\lib\\site-packages\\statsmodels\\base\\model.py:604: ConvergenceWarning: Maximum Likelihood optimization failed to converge. Check mle_retvals\n",
      "  warnings.warn(\"Maximum Likelihood optimization failed to \"\n"
     ]
    },
    {
     "name": "stdout",
     "output_type": "stream",
     "text": [
      "LAG sendo Testado: 11\n",
      "MAE: 1.372930473227721\n",
      "MSE: 3014753.745916832\n",
      "MAPE: 3014753745916.8315\n",
      "AIC: 10078.592821083643\n",
      "------------------------\n"
     ]
    },
    {
     "name": "stderr",
     "output_type": "stream",
     "text": [
      "d:\\python\\lib\\site-packages\\statsmodels\\tsa\\statespace\\varmax.py:374: UserWarning: Non-stationary starting autoregressive parameters found. Using zeros as starting parameters.\n",
      "  warn('Non-stationary starting autoregressive parameters'\n",
      "d:\\python\\lib\\site-packages\\statsmodels\\base\\model.py:604: ConvergenceWarning: Maximum Likelihood optimization failed to converge. Check mle_retvals\n",
      "  warnings.warn(\"Maximum Likelihood optimization failed to \"\n"
     ]
    },
    {
     "name": "stdout",
     "output_type": "stream",
     "text": [
      "LAG sendo Testado: 12\n",
      "MAE: 1.509426513876536\n",
      "MSE: 3484263.6704072873\n",
      "MAPE: 3484263670407.287\n",
      "AIC: 9726.20847033774\n",
      "------------------------\n",
      "(157, 2)\n",
      "(24, 2)\n",
      "\n",
      "------------------\n",
      " Cross-Validation número 7\n",
      "---------------------\n",
      "\n",
      "\n",
      "LAG sendo Testado: 1\n",
      "MAE: 1.011207088889161\n",
      "MSE: 1470423.7119486702\n",
      "MAPE: 1470423711948.6702\n",
      "AIC: 8083.922042777394\n",
      "------------------------\n",
      "LAG sendo Testado: 2\n",
      "MAE: 0.936436715696135\n",
      "MSE: 1294301.2716809707\n",
      "MAPE: 1294301271680.9707\n",
      "AIC: 8074.968358247734\n",
      "------------------------\n",
      "LAG sendo Testado: 3\n",
      "MAE: 1.551902134374914\n",
      "MSE: 3266507.5168815055\n",
      "MAPE: 3266507516881.5054\n",
      "AIC: 8045.39729133963\n",
      "------------------------\n",
      "LAG sendo Testado: 4\n",
      "MAE: 1.0891506249878269\n",
      "MSE: 1720252.780406068\n",
      "MAPE: 1720252780406.068\n",
      "AIC: 8045.459023776801\n",
      "------------------------\n",
      "LAG sendo Testado: 5\n",
      "MAE: 0.9444369670676055\n",
      "MSE: 1285011.8633207385\n",
      "MAPE: 1285011863320.7385\n",
      "AIC: 8040.922534897084\n",
      "------------------------\n"
     ]
    },
    {
     "name": "stderr",
     "output_type": "stream",
     "text": [
      "d:\\python\\lib\\site-packages\\statsmodels\\base\\model.py:604: ConvergenceWarning: Maximum Likelihood optimization failed to converge. Check mle_retvals\n",
      "  warnings.warn(\"Maximum Likelihood optimization failed to \"\n"
     ]
    },
    {
     "name": "stdout",
     "output_type": "stream",
     "text": [
      "LAG sendo Testado: 6\n",
      "MAE: 1.2483222644956502\n",
      "MSE: 2395644.2829127484\n",
      "MAPE: 2395644282912.7485\n",
      "AIC: 7988.30703800809\n",
      "------------------------\n"
     ]
    },
    {
     "name": "stderr",
     "output_type": "stream",
     "text": [
      "d:\\python\\lib\\site-packages\\statsmodels\\base\\model.py:604: ConvergenceWarning: Maximum Likelihood optimization failed to converge. Check mle_retvals\n",
      "  warnings.warn(\"Maximum Likelihood optimization failed to \"\n"
     ]
    },
    {
     "name": "stdout",
     "output_type": "stream",
     "text": [
      "LAG sendo Testado: 8\n",
      "MAE: 1.3239850302835459\n",
      "MSE: 2679808.714545932\n",
      "MAPE: 2679808714545.932\n",
      "AIC: 7953.1816800113465\n",
      "------------------------\n"
     ]
    },
    {
     "name": "stderr",
     "output_type": "stream",
     "text": [
      "d:\\python\\lib\\site-packages\\statsmodels\\base\\model.py:604: ConvergenceWarning: Maximum Likelihood optimization failed to converge. Check mle_retvals\n",
      "  warnings.warn(\"Maximum Likelihood optimization failed to \"\n"
     ]
    },
    {
     "name": "stdout",
     "output_type": "stream",
     "text": [
      "LAG sendo Testado: 9\n",
      "MAE: 1.2952780417503336\n",
      "MSE: 2503740.3354000845\n",
      "MAPE: 2503740335400.0845\n",
      "AIC: 7933.341304997209\n",
      "------------------------\n"
     ]
    },
    {
     "name": "stderr",
     "output_type": "stream",
     "text": [
      "d:\\python\\lib\\site-packages\\statsmodels\\base\\model.py:604: ConvergenceWarning: Maximum Likelihood optimization failed to converge. Check mle_retvals\n",
      "  warnings.warn(\"Maximum Likelihood optimization failed to \"\n"
     ]
    },
    {
     "name": "stdout",
     "output_type": "stream",
     "text": [
      "LAG sendo Testado: 10\n",
      "MAE: 1.2844986162230028\n",
      "MSE: 2450994.772422966\n",
      "MAPE: 2450994772422.9663\n",
      "AIC: 7938.507809928908\n",
      "------------------------\n"
     ]
    },
    {
     "name": "stderr",
     "output_type": "stream",
     "text": [
      "d:\\python\\lib\\site-packages\\statsmodels\\base\\model.py:604: ConvergenceWarning: Maximum Likelihood optimization failed to converge. Check mle_retvals\n",
      "  warnings.warn(\"Maximum Likelihood optimization failed to \"\n"
     ]
    },
    {
     "name": "stdout",
     "output_type": "stream",
     "text": [
      "LAG sendo Testado: 11\n",
      "MAE: 0.9751073288795771\n",
      "MSE: 1438256.9531606836\n",
      "MAPE: 1438256953160.6836\n",
      "AIC: 7919.472230232863\n",
      "------------------------\n"
     ]
    },
    {
     "name": "stderr",
     "output_type": "stream",
     "text": [
      "d:\\python\\lib\\site-packages\\statsmodels\\base\\model.py:604: ConvergenceWarning: Maximum Likelihood optimization failed to converge. Check mle_retvals\n",
      "  warnings.warn(\"Maximum Likelihood optimization failed to \"\n"
     ]
    },
    {
     "name": "stdout",
     "output_type": "stream",
     "text": [
      "LAG sendo Testado: 12\n",
      "MAE: 0.6810901384931923\n",
      "MSE: 723460.479899055\n",
      "MAPE: 723460479899.0549\n",
      "AIC: 7907.6946581114535\n",
      "------------------------\n",
      "(152, 2)\n",
      "(24, 2)\n",
      "\n",
      "------------------\n",
      " Cross-Validation número 8\n",
      "---------------------\n",
      "\n",
      "\n",
      "LAG sendo Testado: 1\n",
      "MAE: 0.7468943568477854\n",
      "MSE: 946660.3543820865\n",
      "MAPE: 946660354382.0865\n",
      "AIC: 7816.522662480035\n",
      "------------------------\n",
      "LAG sendo Testado: 2\n",
      "MAE: 0.7705994221967359\n",
      "MSE: 968921.9160005788\n",
      "MAPE: 968921916000.5787\n",
      "AIC: 7805.641701111667\n",
      "------------------------\n"
     ]
    },
    {
     "name": "stderr",
     "output_type": "stream",
     "text": [
      "d:\\python\\lib\\site-packages\\statsmodels\\tsa\\statespace\\varmax.py:374: UserWarning: Non-stationary starting autoregressive parameters found. Using zeros as starting parameters.\n",
      "  warn('Non-stationary starting autoregressive parameters'\n",
      "d:\\python\\lib\\site-packages\\statsmodels\\base\\model.py:604: ConvergenceWarning: Maximum Likelihood optimization failed to converge. Check mle_retvals\n",
      "  warnings.warn(\"Maximum Likelihood optimization failed to \"\n",
      "d:\\python\\lib\\site-packages\\statsmodels\\tsa\\statespace\\varmax.py:374: UserWarning: Non-stationary starting autoregressive parameters found. Using zeros as starting parameters.\n",
      "  warn('Non-stationary starting autoregressive parameters'\n"
     ]
    },
    {
     "name": "stdout",
     "output_type": "stream",
     "text": [
      "LAG sendo Testado: 3\n",
      "MAE: 1.944669436853229\n",
      "MSE: 7107983.531168172\n",
      "MAPE: 7107983531168.172\n",
      "AIC: 8587.151884638173\n",
      "------------------------\n"
     ]
    },
    {
     "name": "stderr",
     "output_type": "stream",
     "text": [
      "d:\\python\\lib\\site-packages\\statsmodels\\base\\model.py:604: ConvergenceWarning: Maximum Likelihood optimization failed to converge. Check mle_retvals\n",
      "  warnings.warn(\"Maximum Likelihood optimization failed to \"\n",
      "d:\\python\\lib\\site-packages\\statsmodels\\tsa\\statespace\\varmax.py:374: UserWarning: Non-stationary starting autoregressive parameters found. Using zeros as starting parameters.\n",
      "  warn('Non-stationary starting autoregressive parameters'\n"
     ]
    },
    {
     "name": "stdout",
     "output_type": "stream",
     "text": [
      "LAG sendo Testado: 4\n",
      "MAE: 2.568779140930029\n",
      "MSE: 10050652.299869219\n",
      "MAPE: 10050652299869.219\n",
      "AIC: 8492.51369976579\n",
      "------------------------\n"
     ]
    },
    {
     "name": "stderr",
     "output_type": "stream",
     "text": [
      "d:\\python\\lib\\site-packages\\statsmodels\\base\\model.py:604: ConvergenceWarning: Maximum Likelihood optimization failed to converge. Check mle_retvals\n",
      "  warnings.warn(\"Maximum Likelihood optimization failed to \"\n"
     ]
    },
    {
     "name": "stdout",
     "output_type": "stream",
     "text": [
      "LAG sendo Testado: 5\n",
      "MAE: 2.5377960353456466\n",
      "MSE: 9211390.883082887\n",
      "MAPE: 9211390883082.887\n",
      "AIC: 8609.574004019612\n",
      "------------------------\n"
     ]
    },
    {
     "name": "stderr",
     "output_type": "stream",
     "text": [
      "d:\\python\\lib\\site-packages\\statsmodels\\base\\model.py:604: ConvergenceWarning: Maximum Likelihood optimization failed to converge. Check mle_retvals\n",
      "  warnings.warn(\"Maximum Likelihood optimization failed to \"\n"
     ]
    },
    {
     "name": "stdout",
     "output_type": "stream",
     "text": [
      "LAG sendo Testado: 6\n",
      "MAE: 0.9386179414477854\n",
      "MSE: 1315172.6629637668\n",
      "MAPE: 1315172662963.7668\n",
      "AIC: 7717.793871862237\n",
      "------------------------\n"
     ]
    },
    {
     "name": "stderr",
     "output_type": "stream",
     "text": [
      "d:\\python\\lib\\site-packages\\statsmodels\\base\\model.py:604: ConvergenceWarning: Maximum Likelihood optimization failed to converge. Check mle_retvals\n",
      "  warnings.warn(\"Maximum Likelihood optimization failed to \"\n"
     ]
    },
    {
     "name": "stdout",
     "output_type": "stream",
     "text": [
      "LAG sendo Testado: 8\n",
      "MAE: 0.7047050340688821\n",
      "MSE: 785402.6909256758\n",
      "MAPE: 785402690925.6758\n",
      "AIC: 7682.25155617493\n",
      "------------------------\n"
     ]
    },
    {
     "name": "stderr",
     "output_type": "stream",
     "text": [
      "d:\\python\\lib\\site-packages\\statsmodels\\tsa\\statespace\\varmax.py:374: UserWarning: Non-stationary starting autoregressive parameters found. Using zeros as starting parameters.\n",
      "  warn('Non-stationary starting autoregressive parameters'\n",
      "d:\\python\\lib\\site-packages\\statsmodels\\base\\model.py:604: ConvergenceWarning: Maximum Likelihood optimization failed to converge. Check mle_retvals\n",
      "  warnings.warn(\"Maximum Likelihood optimization failed to \"\n"
     ]
    },
    {
     "name": "stdout",
     "output_type": "stream",
     "text": [
      "LAG sendo Testado: 9\n",
      "MAE: 3.1462305332055154\n",
      "MSE: 12790246.184805725\n",
      "MAPE: 12790246184805.725\n",
      "AIC: 9019.824060264924\n",
      "------------------------\n"
     ]
    },
    {
     "name": "stderr",
     "output_type": "stream",
     "text": [
      "d:\\python\\lib\\site-packages\\statsmodels\\tsa\\statespace\\varmax.py:374: UserWarning: Non-stationary starting autoregressive parameters found. Using zeros as starting parameters.\n",
      "  warn('Non-stationary starting autoregressive parameters'\n",
      "d:\\python\\lib\\site-packages\\statsmodels\\base\\model.py:604: ConvergenceWarning: Maximum Likelihood optimization failed to converge. Check mle_retvals\n",
      "  warnings.warn(\"Maximum Likelihood optimization failed to \"\n"
     ]
    },
    {
     "name": "stdout",
     "output_type": "stream",
     "text": [
      "LAG sendo Testado: 10\n",
      "MAE: 3.4082442953963286\n",
      "MSE: 12707715.657387417\n",
      "MAPE: 12707715657387.416\n",
      "AIC: 9048.023816446464\n",
      "------------------------\n"
     ]
    },
    {
     "name": "stderr",
     "output_type": "stream",
     "text": [
      "d:\\python\\lib\\site-packages\\statsmodels\\tsa\\statespace\\varmax.py:374: UserWarning: Non-stationary starting autoregressive parameters found. Using zeros as starting parameters.\n",
      "  warn('Non-stationary starting autoregressive parameters'\n",
      "d:\\python\\lib\\site-packages\\statsmodels\\base\\model.py:604: ConvergenceWarning: Maximum Likelihood optimization failed to converge. Check mle_retvals\n",
      "  warnings.warn(\"Maximum Likelihood optimization failed to \"\n"
     ]
    },
    {
     "name": "stdout",
     "output_type": "stream",
     "text": [
      "LAG sendo Testado: 11\n",
      "MAE: 1.96353896583893\n",
      "MSE: 5449539.316340514\n",
      "MAPE: 5449539316340.515\n",
      "AIC: 9268.286701702567\n",
      "------------------------\n"
     ]
    },
    {
     "name": "stderr",
     "output_type": "stream",
     "text": [
      "d:\\python\\lib\\site-packages\\statsmodels\\tsa\\statespace\\varmax.py:374: UserWarning: Non-stationary starting autoregressive parameters found. Using zeros as starting parameters.\n",
      "  warn('Non-stationary starting autoregressive parameters'\n",
      "d:\\python\\lib\\site-packages\\statsmodels\\base\\model.py:604: ConvergenceWarning: Maximum Likelihood optimization failed to converge. Check mle_retvals\n",
      "  warnings.warn(\"Maximum Likelihood optimization failed to \"\n"
     ]
    },
    {
     "name": "stdout",
     "output_type": "stream",
     "text": [
      "LAG sendo Testado: 12\n",
      "MAE: 3.5787235805754665\n",
      "MSE: 14499652.179403938\n",
      "MAPE: 14499652179403.938\n",
      "AIC: 9303.241982239502\n",
      "------------------------\n",
      "(147, 2)\n",
      "(24, 2)\n",
      "\n",
      "------------------\n",
      " Cross-Validation número 9\n",
      "---------------------\n",
      "\n",
      "\n",
      "LAG sendo Testado: 1\n",
      "MAE: 1.3345360223356226\n",
      "MSE: 2420247.7089279415\n",
      "MAPE: 2420247708927.9414\n",
      "AIC: 7547.25398932576\n",
      "------------------------\n",
      "LAG sendo Testado: 2\n",
      "MAE: 1.308075519912696\n",
      "MSE: 2408994.552370042\n",
      "MAPE: 2408994552370.042\n",
      "AIC: 7538.792699726222\n",
      "------------------------\n",
      "LAG sendo Testado: 3\n",
      "MAE: 1.803715055433044\n",
      "MSE: 4058265.6079777866\n",
      "MAPE: 4058265607977.7866\n",
      "AIC: 7511.7287090700665\n",
      "------------------------\n"
     ]
    },
    {
     "name": "stderr",
     "output_type": "stream",
     "text": [
      "d:\\python\\lib\\site-packages\\statsmodels\\tsa\\statespace\\varmax.py:374: UserWarning: Non-stationary starting autoregressive parameters found. Using zeros as starting parameters.\n",
      "  warn('Non-stationary starting autoregressive parameters'\n",
      "d:\\python\\lib\\site-packages\\statsmodels\\base\\model.py:604: ConvergenceWarning: Maximum Likelihood optimization failed to converge. Check mle_retvals\n",
      "  warnings.warn(\"Maximum Likelihood optimization failed to \"\n"
     ]
    },
    {
     "name": "stdout",
     "output_type": "stream",
     "text": [
      "LAG sendo Testado: 4\n",
      "MAE: 1.4568705142340146\n",
      "MSE: 3609646.94400841\n",
      "MAPE: 3609646944008.41\n",
      "AIC: 8089.073953857067\n",
      "------------------------\n",
      "LAG sendo Testado: 5\n",
      "MAE: 1.211491281365121\n",
      "MSE: 2036834.770543306\n",
      "MAPE: 2036834770543.306\n",
      "AIC: 7509.284708177724\n",
      "------------------------\n"
     ]
    },
    {
     "name": "stderr",
     "output_type": "stream",
     "text": [
      "d:\\python\\lib\\site-packages\\statsmodels\\base\\model.py:604: ConvergenceWarning: Maximum Likelihood optimization failed to converge. Check mle_retvals\n",
      "  warnings.warn(\"Maximum Likelihood optimization failed to \"\n"
     ]
    },
    {
     "name": "stdout",
     "output_type": "stream",
     "text": [
      "LAG sendo Testado: 6\n",
      "MAE: 1.1735134545984927\n",
      "MSE: 2212360.673198862\n",
      "MAPE: 2212360673198.862\n",
      "AIC: 7455.120230971215\n",
      "------------------------\n"
     ]
    },
    {
     "name": "stderr",
     "output_type": "stream",
     "text": [
      "d:\\python\\lib\\site-packages\\statsmodels\\base\\model.py:604: ConvergenceWarning: Maximum Likelihood optimization failed to converge. Check mle_retvals\n",
      "  warnings.warn(\"Maximum Likelihood optimization failed to \"\n"
     ]
    },
    {
     "name": "stdout",
     "output_type": "stream",
     "text": [
      "LAG sendo Testado: 8\n",
      "MAE: 0.9830829217359144\n",
      "MSE: 1649529.7965706203\n",
      "MAPE: 1649529796570.6204\n",
      "AIC: 7417.837202185585\n",
      "------------------------\n"
     ]
    },
    {
     "name": "stderr",
     "output_type": "stream",
     "text": [
      "d:\\python\\lib\\site-packages\\statsmodels\\tsa\\statespace\\varmax.py:374: UserWarning: Non-stationary starting autoregressive parameters found. Using zeros as starting parameters.\n",
      "  warn('Non-stationary starting autoregressive parameters'\n",
      "d:\\python\\lib\\site-packages\\statsmodels\\base\\model.py:604: ConvergenceWarning: Maximum Likelihood optimization failed to converge. Check mle_retvals\n",
      "  warnings.warn(\"Maximum Likelihood optimization failed to \"\n"
     ]
    },
    {
     "name": "stdout",
     "output_type": "stream",
     "text": [
      "LAG sendo Testado: 9\n",
      "MAE: 2.7846326951818634\n",
      "MSE: 10425001.03025102\n",
      "MAPE: 10425001030251.021\n",
      "AIC: 8748.844909550991\n",
      "------------------------\n"
     ]
    },
    {
     "name": "stderr",
     "output_type": "stream",
     "text": [
      "d:\\python\\lib\\site-packages\\statsmodels\\tsa\\statespace\\varmax.py:374: UserWarning: Non-stationary starting autoregressive parameters found. Using zeros as starting parameters.\n",
      "  warn('Non-stationary starting autoregressive parameters'\n",
      "d:\\python\\lib\\site-packages\\statsmodels\\base\\model.py:604: ConvergenceWarning: Maximum Likelihood optimization failed to converge. Check mle_retvals\n",
      "  warnings.warn(\"Maximum Likelihood optimization failed to \"\n"
     ]
    },
    {
     "name": "stdout",
     "output_type": "stream",
     "text": [
      "LAG sendo Testado: 10\n",
      "MAE: 1.6251302026703085\n",
      "MSE: 3954265.3534450377\n",
      "MAPE: 3954265353445.0376\n",
      "AIC: 8619.291719216719\n",
      "------------------------\n"
     ]
    },
    {
     "name": "stderr",
     "output_type": "stream",
     "text": [
      "d:\\python\\lib\\site-packages\\statsmodels\\base\\model.py:604: ConvergenceWarning: Maximum Likelihood optimization failed to converge. Check mle_retvals\n",
      "  warnings.warn(\"Maximum Likelihood optimization failed to \"\n"
     ]
    },
    {
     "name": "stdout",
     "output_type": "stream",
     "text": [
      "LAG sendo Testado: 11\n",
      "MAE: 1.411093361954366\n",
      "MSE: 3127441.228274057\n",
      "MAPE: 3127441228274.057\n",
      "AIC: 7387.187471193782\n",
      "------------------------\n"
     ]
    },
    {
     "name": "stderr",
     "output_type": "stream",
     "text": [
      "d:\\python\\lib\\site-packages\\statsmodels\\tsa\\statespace\\varmax.py:374: UserWarning: Non-stationary starting autoregressive parameters found. Using zeros as starting parameters.\n",
      "  warn('Non-stationary starting autoregressive parameters'\n",
      "d:\\python\\lib\\site-packages\\statsmodels\\base\\model.py:604: ConvergenceWarning: Maximum Likelihood optimization failed to converge. Check mle_retvals\n",
      "  warnings.warn(\"Maximum Likelihood optimization failed to \"\n"
     ]
    },
    {
     "name": "stdout",
     "output_type": "stream",
     "text": [
      "LAG sendo Testado: 12\n",
      "MAE: 2.8688510510024403\n",
      "MSE: 11348147.650998525\n",
      "MAPE: 11348147650998.525\n",
      "AIC: 8555.069533906362\n",
      "------------------------\n",
      "(142, 2)\n",
      "(24, 2)\n",
      "\n",
      "------------------\n",
      " Cross-Validation número 10\n",
      "---------------------\n",
      "\n",
      "\n",
      "LAG sendo Testado: 1\n",
      "MAE: 1.7949282978706251\n",
      "MSE: 3991780.9793791315\n",
      "MAPE: 3991780979379.1313\n",
      "AIC: 7285.471807856118\n",
      "------------------------\n",
      "LAG sendo Testado: 2\n",
      "MAE: 1.6845780123864087\n",
      "MSE: 3454439.5305678835\n",
      "MAPE: 3454439530567.8833\n",
      "AIC: 7275.3535952515795\n",
      "------------------------\n"
     ]
    },
    {
     "name": "stderr",
     "output_type": "stream",
     "text": [
      "d:\\python\\lib\\site-packages\\statsmodels\\tsa\\statespace\\varmax.py:374: UserWarning: Non-stationary starting autoregressive parameters found. Using zeros as starting parameters.\n",
      "  warn('Non-stationary starting autoregressive parameters'\n",
      "d:\\python\\lib\\site-packages\\statsmodels\\base\\model.py:604: ConvergenceWarning: Maximum Likelihood optimization failed to converge. Check mle_retvals\n",
      "  warnings.warn(\"Maximum Likelihood optimization failed to \"\n",
      "d:\\python\\lib\\site-packages\\statsmodels\\tsa\\statespace\\varmax.py:374: UserWarning: Non-stationary starting autoregressive parameters found. Using zeros as starting parameters.\n",
      "  warn('Non-stationary starting autoregressive parameters'\n"
     ]
    },
    {
     "name": "stdout",
     "output_type": "stream",
     "text": [
      "LAG sendo Testado: 3\n",
      "MAE: 1.5550803687308261\n",
      "MSE: 4184882.5619671578\n",
      "MAPE: 4184882561967.1577\n",
      "AIC: 7792.010892397965\n",
      "------------------------\n"
     ]
    },
    {
     "name": "stderr",
     "output_type": "stream",
     "text": [
      "d:\\python\\lib\\site-packages\\statsmodels\\base\\model.py:604: ConvergenceWarning: Maximum Likelihood optimization failed to converge. Check mle_retvals\n",
      "  warnings.warn(\"Maximum Likelihood optimization failed to \"\n",
      "d:\\python\\lib\\site-packages\\statsmodels\\tsa\\statespace\\varmax.py:374: UserWarning: Non-stationary starting autoregressive parameters found. Using zeros as starting parameters.\n",
      "  warn('Non-stationary starting autoregressive parameters'\n"
     ]
    },
    {
     "name": "stdout",
     "output_type": "stream",
     "text": [
      "LAG sendo Testado: 4\n",
      "MAE: 1.8803990618487463\n",
      "MSE: 5828169.104100118\n",
      "MAPE: 5828169104100.118\n",
      "AIC: 7684.511099859663\n",
      "------------------------\n"
     ]
    },
    {
     "name": "stderr",
     "output_type": "stream",
     "text": [
      "d:\\python\\lib\\site-packages\\statsmodels\\base\\model.py:604: ConvergenceWarning: Maximum Likelihood optimization failed to converge. Check mle_retvals\n",
      "  warnings.warn(\"Maximum Likelihood optimization failed to \"\n"
     ]
    },
    {
     "name": "stdout",
     "output_type": "stream",
     "text": [
      "LAG sendo Testado: 5\n",
      "MAE: 2.060583619833235\n",
      "MSE: 6486247.927631173\n",
      "MAPE: 6486247927631.173\n",
      "AIC: 7709.831007654759\n",
      "------------------------\n"
     ]
    },
    {
     "name": "stderr",
     "output_type": "stream",
     "text": [
      "d:\\python\\lib\\site-packages\\statsmodels\\base\\model.py:604: ConvergenceWarning: Maximum Likelihood optimization failed to converge. Check mle_retvals\n",
      "  warnings.warn(\"Maximum Likelihood optimization failed to \"\n"
     ]
    },
    {
     "name": "stdout",
     "output_type": "stream",
     "text": [
      "LAG sendo Testado: 6\n",
      "MAE: 0.8505440182441784\n",
      "MSE: 975411.284536413\n",
      "MAPE: 975411284536.4131\n",
      "AIC: 7200.2147876076015\n",
      "------------------------\n"
     ]
    },
    {
     "name": "stderr",
     "output_type": "stream",
     "text": [
      "d:\\python\\lib\\site-packages\\statsmodels\\base\\model.py:604: ConvergenceWarning: Maximum Likelihood optimization failed to converge. Check mle_retvals\n",
      "  warnings.warn(\"Maximum Likelihood optimization failed to \"\n"
     ]
    },
    {
     "name": "stdout",
     "output_type": "stream",
     "text": [
      "LAG sendo Testado: 8\n",
      "MAE: 0.6459145213720234\n",
      "MSE: 713298.911979162\n",
      "MAPE: 713298911979.162\n",
      "AIC: 7162.458835352882\n",
      "------------------------\n"
     ]
    },
    {
     "name": "stderr",
     "output_type": "stream",
     "text": [
      "d:\\python\\lib\\site-packages\\statsmodels\\base\\model.py:604: ConvergenceWarning: Maximum Likelihood optimization failed to converge. Check mle_retvals\n",
      "  warnings.warn(\"Maximum Likelihood optimization failed to \"\n"
     ]
    },
    {
     "name": "stdout",
     "output_type": "stream",
     "text": [
      "LAG sendo Testado: 9\n",
      "MAE: 0.5174295783210714\n",
      "MSE: 474453.6567043745\n",
      "MAPE: 474453656704.37445\n",
      "AIC: 7148.3952575701815\n",
      "------------------------\n"
     ]
    },
    {
     "name": "stderr",
     "output_type": "stream",
     "text": [
      "d:\\python\\lib\\site-packages\\statsmodels\\base\\model.py:604: ConvergenceWarning: Maximum Likelihood optimization failed to converge. Check mle_retvals\n",
      "  warnings.warn(\"Maximum Likelihood optimization failed to \"\n"
     ]
    },
    {
     "name": "stdout",
     "output_type": "stream",
     "text": [
      "LAG sendo Testado: 10\n",
      "MAE: 0.6369897303669244\n",
      "MSE: 558085.6527006358\n",
      "MAPE: 558085652700.6359\n",
      "AIC: 7153.854096154702\n",
      "------------------------\n"
     ]
    },
    {
     "name": "stderr",
     "output_type": "stream",
     "text": [
      "d:\\python\\lib\\site-packages\\statsmodels\\base\\model.py:604: ConvergenceWarning: Maximum Likelihood optimization failed to converge. Check mle_retvals\n",
      "  warnings.warn(\"Maximum Likelihood optimization failed to \"\n"
     ]
    },
    {
     "name": "stdout",
     "output_type": "stream",
     "text": [
      "LAG sendo Testado: 11\n",
      "MAE: 0.6071807661195695\n",
      "MSE: 624099.8199169497\n",
      "MAPE: 624099819916.9497\n",
      "AIC: 7122.326740916333\n",
      "------------------------\n"
     ]
    },
    {
     "name": "stderr",
     "output_type": "stream",
     "text": [
      "d:\\python\\lib\\site-packages\\statsmodels\\base\\model.py:604: ConvergenceWarning: Maximum Likelihood optimization failed to converge. Check mle_retvals\n",
      "  warnings.warn(\"Maximum Likelihood optimization failed to \"\n"
     ]
    },
    {
     "name": "stdout",
     "output_type": "stream",
     "text": [
      "LAG sendo Testado: 12\n",
      "MAE: 0.7350500460103716\n",
      "MSE: 819845.777296933\n",
      "MAPE: 819845777296.933\n",
      "AIC: 7128.879972953597\n",
      "------------------------\n",
      "(137, 2)\n",
      "(24, 2)\n",
      "\n",
      "------------------\n",
      " Cross-Validation número 11\n",
      "---------------------\n",
      "\n",
      "\n",
      "LAG sendo Testado: 1\n",
      "MAE: 0.9124865013204037\n",
      "MSE: 1207707.373902075\n",
      "MAPE: 1207707373902.075\n",
      "AIC: 7017.361157505539\n",
      "------------------------\n",
      "LAG sendo Testado: 2\n",
      "MAE: 0.9132297858330695\n",
      "MSE: 1196496.607194133\n",
      "MAPE: 1196496607194.133\n",
      "AIC: 7007.8596395125505\n",
      "------------------------\n",
      "LAG sendo Testado: 3\n",
      "MAE: 1.913055705226151\n",
      "MSE: 4346486.929524025\n",
      "MAPE: 4346486929524.0254\n",
      "AIC: 6975.845858317041\n",
      "------------------------\n"
     ]
    },
    {
     "name": "stderr",
     "output_type": "stream",
     "text": [
      "d:\\python\\lib\\site-packages\\statsmodels\\tsa\\statespace\\varmax.py:374: UserWarning: Non-stationary starting autoregressive parameters found. Using zeros as starting parameters.\n",
      "  warn('Non-stationary starting autoregressive parameters'\n",
      "d:\\python\\lib\\site-packages\\statsmodels\\base\\model.py:604: ConvergenceWarning: Maximum Likelihood optimization failed to converge. Check mle_retvals\n",
      "  warnings.warn(\"Maximum Likelihood optimization failed to \"\n"
     ]
    },
    {
     "name": "stdout",
     "output_type": "stream",
     "text": [
      "LAG sendo Testado: 4\n",
      "MAE: 1.4824786203241713\n",
      "MSE: 3684928.869585547\n",
      "MAPE: 3684928869585.5474\n",
      "AIC: 7306.183680376627\n",
      "------------------------\n"
     ]
    },
    {
     "name": "stderr",
     "output_type": "stream",
     "text": [
      "d:\\python\\lib\\site-packages\\statsmodels\\tsa\\statespace\\varmax.py:374: UserWarning: Non-stationary starting autoregressive parameters found. Using zeros as starting parameters.\n",
      "  warn('Non-stationary starting autoregressive parameters'\n",
      "d:\\python\\lib\\site-packages\\statsmodels\\base\\model.py:604: ConvergenceWarning: Maximum Likelihood optimization failed to converge. Check mle_retvals\n",
      "  warnings.warn(\"Maximum Likelihood optimization failed to \"\n"
     ]
    },
    {
     "name": "stdout",
     "output_type": "stream",
     "text": [
      "LAG sendo Testado: 5\n",
      "MAE: 1.5433280085170045\n",
      "MSE: 3544211.362646393\n",
      "MAPE: 3544211362646.393\n",
      "AIC: 7340.419295733074\n",
      "------------------------\n"
     ]
    },
    {
     "name": "stderr",
     "output_type": "stream",
     "text": [
      "d:\\python\\lib\\site-packages\\statsmodels\\base\\model.py:604: ConvergenceWarning: Maximum Likelihood optimization failed to converge. Check mle_retvals\n",
      "  warnings.warn(\"Maximum Likelihood optimization failed to \"\n"
     ]
    },
    {
     "name": "stdout",
     "output_type": "stream",
     "text": [
      "LAG sendo Testado: 6\n",
      "MAE: 0.914772409149268\n",
      "MSE: 1349291.1899630916\n",
      "MAPE: 1349291189963.0916\n",
      "AIC: 6926.719301994783\n",
      "------------------------\n"
     ]
    },
    {
     "name": "stderr",
     "output_type": "stream",
     "text": [
      "d:\\python\\lib\\site-packages\\statsmodels\\base\\model.py:604: ConvergenceWarning: Maximum Likelihood optimization failed to converge. Check mle_retvals\n",
      "  warnings.warn(\"Maximum Likelihood optimization failed to \"\n"
     ]
    },
    {
     "name": "stdout",
     "output_type": "stream",
     "text": [
      "LAG sendo Testado: 8\n",
      "MAE: 0.8687647225319067\n",
      "MSE: 1119924.7500572298\n",
      "MAPE: 1119924750057.2297\n",
      "AIC: 6899.605618317591\n",
      "------------------------\n"
     ]
    },
    {
     "name": "stderr",
     "output_type": "stream",
     "text": [
      "d:\\python\\lib\\site-packages\\statsmodels\\base\\model.py:604: ConvergenceWarning: Maximum Likelihood optimization failed to converge. Check mle_retvals\n",
      "  warnings.warn(\"Maximum Likelihood optimization failed to \"\n"
     ]
    },
    {
     "name": "stdout",
     "output_type": "stream",
     "text": [
      "LAG sendo Testado: 9\n",
      "MAE: 1.1962734751797157\n",
      "MSE: 1864320.1590527913\n",
      "MAPE: 1864320159052.7913\n",
      "AIC: 6891.400315176534\n",
      "------------------------\n"
     ]
    },
    {
     "name": "stderr",
     "output_type": "stream",
     "text": [
      "d:\\python\\lib\\site-packages\\statsmodels\\tsa\\statespace\\varmax.py:374: UserWarning: Non-stationary starting autoregressive parameters found. Using zeros as starting parameters.\n",
      "  warn('Non-stationary starting autoregressive parameters'\n",
      "d:\\python\\lib\\site-packages\\statsmodels\\base\\model.py:604: ConvergenceWarning: Maximum Likelihood optimization failed to converge. Check mle_retvals\n",
      "  warnings.warn(\"Maximum Likelihood optimization failed to \"\n"
     ]
    },
    {
     "name": "stdout",
     "output_type": "stream",
     "text": [
      "LAG sendo Testado: 10\n",
      "MAE: 2.457953391980429\n",
      "MSE: 7190475.064396721\n",
      "MAPE: 7190475064396.722\n",
      "AIC: 7632.801094908968\n",
      "------------------------\n"
     ]
    },
    {
     "name": "stderr",
     "output_type": "stream",
     "text": [
      "d:\\python\\lib\\site-packages\\statsmodels\\tsa\\statespace\\varmax.py:374: UserWarning: Non-stationary starting autoregressive parameters found. Using zeros as starting parameters.\n",
      "  warn('Non-stationary starting autoregressive parameters'\n",
      "d:\\python\\lib\\site-packages\\statsmodels\\base\\model.py:604: ConvergenceWarning: Maximum Likelihood optimization failed to converge. Check mle_retvals\n",
      "  warnings.warn(\"Maximum Likelihood optimization failed to \"\n"
     ]
    },
    {
     "name": "stdout",
     "output_type": "stream",
     "text": [
      "LAG sendo Testado: 11\n",
      "MAE: 2.076043526749396\n",
      "MSE: 5348768.917521965\n",
      "MAPE: 5348768917521.965\n",
      "AIC: 7832.364245431494\n",
      "------------------------\n"
     ]
    },
    {
     "name": "stderr",
     "output_type": "stream",
     "text": [
      "d:\\python\\lib\\site-packages\\statsmodels\\tsa\\statespace\\varmax.py:374: UserWarning: Non-stationary starting autoregressive parameters found. Using zeros as starting parameters.\n",
      "  warn('Non-stationary starting autoregressive parameters'\n",
      "d:\\python\\lib\\site-packages\\statsmodels\\base\\model.py:604: ConvergenceWarning: Maximum Likelihood optimization failed to converge. Check mle_retvals\n",
      "  warnings.warn(\"Maximum Likelihood optimization failed to \"\n"
     ]
    },
    {
     "name": "stdout",
     "output_type": "stream",
     "text": [
      "LAG sendo Testado: 12\n",
      "MAE: 2.634692136851448\n",
      "MSE: 7787522.94867586\n",
      "MAPE: 7787522948675.859\n",
      "AIC: 7982.598247634145\n",
      "------------------------\n",
      "(132, 2)\n",
      "(24, 2)\n",
      "\n",
      "------------------\n",
      " Cross-Validation número 12\n",
      "---------------------\n",
      "\n",
      "\n",
      "LAG sendo Testado: 1\n",
      "MAE: 1.9791548293999248\n",
      "MSE: 4832894.453017544\n",
      "MAPE: 4832894453017.544\n",
      "AIC: 6740.083960212167\n",
      "------------------------\n",
      "LAG sendo Testado: 2\n",
      "MAE: 1.9200196235588454\n",
      "MSE: 4533334.08635552\n",
      "MAPE: 4533334086355.5205\n",
      "AIC: 6730.08937594955\n",
      "------------------------\n"
     ]
    },
    {
     "name": "stderr",
     "output_type": "stream",
     "text": [
      "d:\\python\\lib\\site-packages\\statsmodels\\tsa\\statespace\\varmax.py:374: UserWarning: Non-stationary starting autoregressive parameters found. Using zeros as starting parameters.\n",
      "  warn('Non-stationary starting autoregressive parameters'\n",
      "d:\\python\\lib\\site-packages\\statsmodels\\base\\model.py:604: ConvergenceWarning: Maximum Likelihood optimization failed to converge. Check mle_retvals\n",
      "  warnings.warn(\"Maximum Likelihood optimization failed to \"\n",
      "d:\\python\\lib\\site-packages\\statsmodels\\tsa\\statespace\\varmax.py:374: UserWarning: Non-stationary starting autoregressive parameters found. Using zeros as starting parameters.\n",
      "  warn('Non-stationary starting autoregressive parameters'\n"
     ]
    },
    {
     "name": "stdout",
     "output_type": "stream",
     "text": [
      "LAG sendo Testado: 3\n",
      "MAE: 1.8080354940084384\n",
      "MSE: 4078928.0474974085\n",
      "MAPE: 4078928047497.4087\n",
      "AIC: 7068.785590070624\n",
      "------------------------\n"
     ]
    },
    {
     "name": "stderr",
     "output_type": "stream",
     "text": [
      "d:\\python\\lib\\site-packages\\statsmodels\\base\\model.py:604: ConvergenceWarning: Maximum Likelihood optimization failed to converge. Check mle_retvals\n",
      "  warnings.warn(\"Maximum Likelihood optimization failed to \"\n",
      "d:\\python\\lib\\site-packages\\statsmodels\\tsa\\statespace\\varmax.py:374: UserWarning: Non-stationary starting autoregressive parameters found. Using zeros as starting parameters.\n",
      "  warn('Non-stationary starting autoregressive parameters'\n"
     ]
    },
    {
     "name": "stdout",
     "output_type": "stream",
     "text": [
      "LAG sendo Testado: 4\n",
      "MAE: 1.145971295866415\n",
      "MSE: 2203357.2086687833\n",
      "MAPE: 2203357208668.783\n",
      "AIC: 7016.151216156135\n",
      "------------------------\n"
     ]
    },
    {
     "name": "stderr",
     "output_type": "stream",
     "text": [
      "d:\\python\\lib\\site-packages\\statsmodels\\base\\model.py:604: ConvergenceWarning: Maximum Likelihood optimization failed to converge. Check mle_retvals\n",
      "  warnings.warn(\"Maximum Likelihood optimization failed to \"\n"
     ]
    },
    {
     "name": "stdout",
     "output_type": "stream",
     "text": [
      "LAG sendo Testado: 5\n",
      "MAE: 2.1884981737274174\n",
      "MSE: 5857101.444442954\n",
      "MAPE: 5857101444442.954\n",
      "AIC: 7054.766815896221\n",
      "------------------------\n",
      "LAG sendo Testado: 6\n",
      "MAE: 1.4898607769105787\n",
      "MSE: 2834089.02519673\n",
      "MAPE: 2834089025196.73\n",
      "AIC: 6652.993808142733\n",
      "------------------------\n"
     ]
    },
    {
     "name": "stderr",
     "output_type": "stream",
     "text": [
      "d:\\python\\lib\\site-packages\\statsmodels\\base\\model.py:604: ConvergenceWarning: Maximum Likelihood optimization failed to converge. Check mle_retvals\n",
      "  warnings.warn(\"Maximum Likelihood optimization failed to \"\n"
     ]
    },
    {
     "name": "stdout",
     "output_type": "stream",
     "text": [
      "LAG sendo Testado: 8\n",
      "MAE: 1.134548011088494\n",
      "MSE: 1611172.1700519647\n",
      "MAPE: 1611172170051.9646\n",
      "AIC: 6622.97842907001\n",
      "------------------------\n"
     ]
    },
    {
     "name": "stderr",
     "output_type": "stream",
     "text": [
      "d:\\python\\lib\\site-packages\\statsmodels\\tsa\\statespace\\varmax.py:374: UserWarning: Non-stationary starting autoregressive parameters found. Using zeros as starting parameters.\n",
      "  warn('Non-stationary starting autoregressive parameters'\n",
      "d:\\python\\lib\\site-packages\\statsmodels\\base\\model.py:604: ConvergenceWarning: Maximum Likelihood optimization failed to converge. Check mle_retvals\n",
      "  warnings.warn(\"Maximum Likelihood optimization failed to \"\n"
     ]
    },
    {
     "name": "stdout",
     "output_type": "stream",
     "text": [
      "LAG sendo Testado: 9\n",
      "MAE: 2.411290009175111\n",
      "MSE: 6929052.319912607\n",
      "MAPE: 6929052319912.606\n",
      "AIC: 7312.925943179451\n",
      "------------------------\n"
     ]
    },
    {
     "name": "stderr",
     "output_type": "stream",
     "text": [
      "d:\\python\\lib\\site-packages\\statsmodels\\tsa\\statespace\\varmax.py:374: UserWarning: Non-stationary starting autoregressive parameters found. Using zeros as starting parameters.\n",
      "  warn('Non-stationary starting autoregressive parameters'\n",
      "d:\\python\\lib\\site-packages\\statsmodels\\base\\model.py:604: ConvergenceWarning: Maximum Likelihood optimization failed to converge. Check mle_retvals\n",
      "  warnings.warn(\"Maximum Likelihood optimization failed to \"\n"
     ]
    },
    {
     "name": "stdout",
     "output_type": "stream",
     "text": [
      "LAG sendo Testado: 10\n",
      "MAE: 1.775852878254407\n",
      "MSE: 4147729.6090988866\n",
      "MAPE: 4147729609098.8867\n",
      "AIC: 7333.902481835779\n",
      "------------------------\n"
     ]
    },
    {
     "name": "stderr",
     "output_type": "stream",
     "text": [
      "d:\\python\\lib\\site-packages\\statsmodels\\tsa\\statespace\\varmax.py:374: UserWarning: Non-stationary starting autoregressive parameters found. Using zeros as starting parameters.\n",
      "  warn('Non-stationary starting autoregressive parameters'\n",
      "d:\\python\\lib\\site-packages\\statsmodels\\base\\model.py:604: ConvergenceWarning: Maximum Likelihood optimization failed to converge. Check mle_retvals\n",
      "  warnings.warn(\"Maximum Likelihood optimization failed to \"\n"
     ]
    },
    {
     "name": "stdout",
     "output_type": "stream",
     "text": [
      "LAG sendo Testado: 11\n",
      "MAE: 1.5410026625382693\n",
      "MSE: 3535486.8571345587\n",
      "MAPE: 3535486857134.5586\n",
      "AIC: 7419.30869622456\n",
      "------------------------\n"
     ]
    },
    {
     "name": "stderr",
     "output_type": "stream",
     "text": [
      "d:\\python\\lib\\site-packages\\statsmodels\\tsa\\statespace\\varmax.py:374: UserWarning: Non-stationary starting autoregressive parameters found. Using zeros as starting parameters.\n",
      "  warn('Non-stationary starting autoregressive parameters'\n",
      "d:\\python\\lib\\site-packages\\statsmodels\\base\\model.py:604: ConvergenceWarning: Maximum Likelihood optimization failed to converge. Check mle_retvals\n",
      "  warnings.warn(\"Maximum Likelihood optimization failed to \"\n"
     ]
    },
    {
     "name": "stdout",
     "output_type": "stream",
     "text": [
      "LAG sendo Testado: 12\n",
      "MAE: 1.110192940359308\n",
      "MSE: 1785172.7333026824\n",
      "MAPE: 1785172733302.6824\n",
      "AIC: 8096.637910567469\n",
      "------------------------\n",
      "(127, 2)\n",
      "(24, 2)\n",
      "\n",
      "------------------\n",
      " Cross-Validation número 13\n",
      "---------------------\n",
      "\n",
      "\n",
      "LAG sendo Testado: 1\n",
      "MAE: 1.007232851926125\n",
      "MSE: 1615756.134518791\n",
      "MAPE: 1615756134518.791\n",
      "AIC: 6485.041736364925\n",
      "------------------------\n",
      "LAG sendo Testado: 2\n",
      "MAE: 0.9163616258889139\n",
      "MSE: 1306231.579618468\n",
      "MAPE: 1306231579618.468\n",
      "AIC: 6471.738292482122\n",
      "------------------------\n"
     ]
    },
    {
     "name": "stderr",
     "output_type": "stream",
     "text": [
      "d:\\python\\lib\\site-packages\\statsmodels\\tsa\\statespace\\varmax.py:374: UserWarning: Non-stationary starting autoregressive parameters found. Using zeros as starting parameters.\n",
      "  warn('Non-stationary starting autoregressive parameters'\n",
      "d:\\python\\lib\\site-packages\\statsmodels\\base\\model.py:604: ConvergenceWarning: Maximum Likelihood optimization failed to converge. Check mle_retvals\n",
      "  warnings.warn(\"Maximum Likelihood optimization failed to \"\n",
      "d:\\python\\lib\\site-packages\\statsmodels\\tsa\\statespace\\varmax.py:374: UserWarning: Non-stationary starting autoregressive parameters found. Using zeros as starting parameters.\n",
      "  warn('Non-stationary starting autoregressive parameters'\n"
     ]
    },
    {
     "name": "stdout",
     "output_type": "stream",
     "text": [
      "LAG sendo Testado: 3\n",
      "MAE: 1.1738380467566252\n",
      "MSE: 2087076.6801038503\n",
      "MAPE: 2087076680103.8503\n",
      "AIC: 6783.634928285678\n",
      "------------------------\n"
     ]
    },
    {
     "name": "stderr",
     "output_type": "stream",
     "text": [
      "d:\\python\\lib\\site-packages\\statsmodels\\base\\model.py:604: ConvergenceWarning: Maximum Likelihood optimization failed to converge. Check mle_retvals\n",
      "  warnings.warn(\"Maximum Likelihood optimization failed to \"\n",
      "d:\\python\\lib\\site-packages\\statsmodels\\tsa\\statespace\\varmax.py:374: UserWarning: Non-stationary starting autoregressive parameters found. Using zeros as starting parameters.\n",
      "  warn('Non-stationary starting autoregressive parameters'\n"
     ]
    },
    {
     "name": "stdout",
     "output_type": "stream",
     "text": [
      "LAG sendo Testado: 4\n",
      "MAE: 1.0714432477058338\n",
      "MSE: 1801790.3576875383\n",
      "MAPE: 1801790357687.5383\n",
      "AIC: 6708.182421516033\n",
      "------------------------\n"
     ]
    },
    {
     "name": "stderr",
     "output_type": "stream",
     "text": [
      "d:\\python\\lib\\site-packages\\statsmodels\\base\\model.py:604: ConvergenceWarning: Maximum Likelihood optimization failed to converge. Check mle_retvals\n",
      "  warnings.warn(\"Maximum Likelihood optimization failed to \"\n"
     ]
    },
    {
     "name": "stdout",
     "output_type": "stream",
     "text": [
      "LAG sendo Testado: 5\n",
      "MAE: 1.0780178406413736\n",
      "MSE: 1787363.7584686219\n",
      "MAPE: 1787363758468.6218\n",
      "AIC: 6720.392538740018\n",
      "------------------------\n",
      "LAG sendo Testado: 6\n",
      "MAE: 0.9943268505563972\n",
      "MSE: 1471177.3683170516\n",
      "MAPE: 1471177368317.0515\n",
      "AIC: 6395.347244243926\n",
      "------------------------\n"
     ]
    },
    {
     "name": "stderr",
     "output_type": "stream",
     "text": [
      "d:\\python\\lib\\site-packages\\statsmodels\\base\\model.py:604: ConvergenceWarning: Maximum Likelihood optimization failed to converge. Check mle_retvals\n",
      "  warnings.warn(\"Maximum Likelihood optimization failed to \"\n"
     ]
    },
    {
     "name": "stdout",
     "output_type": "stream",
     "text": [
      "LAG sendo Testado: 8\n",
      "MAE: 0.9548346491574211\n",
      "MSE: 1336346.9630993789\n",
      "MAPE: 1336346963099.379\n",
      "AIC: 6373.233840152462\n",
      "------------------------\n"
     ]
    },
    {
     "name": "stderr",
     "output_type": "stream",
     "text": [
      "d:\\python\\lib\\site-packages\\statsmodels\\tsa\\statespace\\varmax.py:374: UserWarning: Non-stationary starting autoregressive parameters found. Using zeros as starting parameters.\n",
      "  warn('Non-stationary starting autoregressive parameters'\n",
      "d:\\python\\lib\\site-packages\\statsmodels\\base\\model.py:604: ConvergenceWarning: Maximum Likelihood optimization failed to converge. Check mle_retvals\n",
      "  warnings.warn(\"Maximum Likelihood optimization failed to \"\n"
     ]
    },
    {
     "name": "stdout",
     "output_type": "stream",
     "text": [
      "LAG sendo Testado: 9\n",
      "MAE: 1.6594708346606695\n",
      "MSE: 3759066.2873070696\n",
      "MAPE: 3759066287307.07\n",
      "AIC: 7018.217223038339\n",
      "------------------------\n"
     ]
    },
    {
     "name": "stderr",
     "output_type": "stream",
     "text": [
      "d:\\python\\lib\\site-packages\\statsmodels\\tsa\\statespace\\varmax.py:374: UserWarning: Non-stationary starting autoregressive parameters found. Using zeros as starting parameters.\n",
      "  warn('Non-stationary starting autoregressive parameters'\n",
      "d:\\python\\lib\\site-packages\\statsmodels\\base\\model.py:604: ConvergenceWarning: Maximum Likelihood optimization failed to converge. Check mle_retvals\n",
      "  warnings.warn(\"Maximum Likelihood optimization failed to \"\n"
     ]
    },
    {
     "name": "stdout",
     "output_type": "stream",
     "text": [
      "LAG sendo Testado: 10\n",
      "MAE: 1.2095234370174321\n",
      "MSE: 2369409.804759812\n",
      "MAPE: 2369409804759.812\n",
      "AIC: 7244.8333521261075\n",
      "------------------------\n"
     ]
    },
    {
     "name": "stderr",
     "output_type": "stream",
     "text": [
      "d:\\python\\lib\\site-packages\\statsmodels\\tsa\\statespace\\varmax.py:374: UserWarning: Non-stationary starting autoregressive parameters found. Using zeros as starting parameters.\n",
      "  warn('Non-stationary starting autoregressive parameters'\n",
      "d:\\python\\lib\\site-packages\\statsmodels\\base\\model.py:604: ConvergenceWarning: Maximum Likelihood optimization failed to converge. Check mle_retvals\n",
      "  warnings.warn(\"Maximum Likelihood optimization failed to \"\n"
     ]
    },
    {
     "name": "stdout",
     "output_type": "stream",
     "text": [
      "LAG sendo Testado: 11\n",
      "MAE: 1.275195778167354\n",
      "MSE: 2353945.8476016307\n",
      "MAPE: 2353945847601.631\n",
      "AIC: 7111.313543292149\n",
      "------------------------\n"
     ]
    },
    {
     "name": "stderr",
     "output_type": "stream",
     "text": [
      "d:\\python\\lib\\site-packages\\statsmodels\\tsa\\statespace\\varmax.py:374: UserWarning: Non-stationary starting autoregressive parameters found. Using zeros as starting parameters.\n",
      "  warn('Non-stationary starting autoregressive parameters'\n",
      "d:\\python\\lib\\site-packages\\statsmodels\\base\\model.py:604: ConvergenceWarning: Maximum Likelihood optimization failed to converge. Check mle_retvals\n",
      "  warnings.warn(\"Maximum Likelihood optimization failed to \"\n"
     ]
    },
    {
     "name": "stdout",
     "output_type": "stream",
     "text": [
      "LAG sendo Testado: 12\n",
      "MAE: 1.6099913944776982\n",
      "MSE: 3426424.376061806\n",
      "MAPE: 3426424376061.806\n",
      "AIC: 7160.752871983825\n",
      "------------------------\n",
      "(122, 2)\n",
      "(24, 2)\n",
      "\n",
      "------------------\n",
      " Cross-Validation número 14\n",
      "---------------------\n",
      "\n",
      "\n"
     ]
    },
    {
     "name": "stderr",
     "output_type": "stream",
     "text": [
      "d:\\python\\lib\\site-packages\\statsmodels\\base\\model.py:604: ConvergenceWarning: Maximum Likelihood optimization failed to converge. Check mle_retvals\n",
      "  warnings.warn(\"Maximum Likelihood optimization failed to \"\n"
     ]
    },
    {
     "name": "stdout",
     "output_type": "stream",
     "text": [
      "LAG sendo Testado: 1\n",
      "MAE: 1.2498602795786784\n",
      "MSE: 2206809.5100402026\n",
      "MAPE: 2206809510040.2026\n",
      "AIC: 6219.0513137546495\n",
      "------------------------\n",
      "LAG sendo Testado: 2\n",
      "MAE: 1.1509848530783833\n",
      "MSE: 1884578.6451770917\n",
      "MAPE: 1884578645177.0918\n",
      "AIC: 6211.096455144186\n",
      "------------------------\n"
     ]
    },
    {
     "name": "stderr",
     "output_type": "stream",
     "text": [
      "d:\\python\\lib\\site-packages\\statsmodels\\tsa\\statespace\\varmax.py:374: UserWarning: Non-stationary starting autoregressive parameters found. Using zeros as starting parameters.\n",
      "  warn('Non-stationary starting autoregressive parameters'\n",
      "d:\\python\\lib\\site-packages\\statsmodels\\base\\model.py:604: ConvergenceWarning: Maximum Likelihood optimization failed to converge. Check mle_retvals\n",
      "  warnings.warn(\"Maximum Likelihood optimization failed to \"\n",
      "d:\\python\\lib\\site-packages\\statsmodels\\tsa\\statespace\\varmax.py:374: UserWarning: Non-stationary starting autoregressive parameters found. Using zeros as starting parameters.\n",
      "  warn('Non-stationary starting autoregressive parameters'\n"
     ]
    },
    {
     "name": "stdout",
     "output_type": "stream",
     "text": [
      "LAG sendo Testado: 3\n",
      "MAE: 1.4025378788460494\n",
      "MSE: 3024640.151280982\n",
      "MAPE: 3024640151280.982\n",
      "AIC: 6491.724730333804\n",
      "------------------------\n"
     ]
    },
    {
     "name": "stderr",
     "output_type": "stream",
     "text": [
      "d:\\python\\lib\\site-packages\\statsmodels\\base\\model.py:604: ConvergenceWarning: Maximum Likelihood optimization failed to converge. Check mle_retvals\n",
      "  warnings.warn(\"Maximum Likelihood optimization failed to \"\n",
      "d:\\python\\lib\\site-packages\\statsmodels\\tsa\\statespace\\varmax.py:374: UserWarning: Non-stationary starting autoregressive parameters found. Using zeros as starting parameters.\n",
      "  warn('Non-stationary starting autoregressive parameters'\n"
     ]
    },
    {
     "name": "stdout",
     "output_type": "stream",
     "text": [
      "LAG sendo Testado: 4\n",
      "MAE: 1.343696149137423\n",
      "MSE: 2538234.3248573374\n",
      "MAPE: 2538234324857.3374\n",
      "AIC: 6442.428026949957\n",
      "------------------------\n"
     ]
    },
    {
     "name": "stderr",
     "output_type": "stream",
     "text": [
      "d:\\python\\lib\\site-packages\\statsmodels\\base\\model.py:604: ConvergenceWarning: Maximum Likelihood optimization failed to converge. Check mle_retvals\n",
      "  warnings.warn(\"Maximum Likelihood optimization failed to \"\n",
      "d:\\python\\lib\\site-packages\\statsmodels\\tsa\\statespace\\varmax.py:374: UserWarning: Non-stationary starting autoregressive parameters found. Using zeros as starting parameters.\n",
      "  warn('Non-stationary starting autoregressive parameters'\n"
     ]
    },
    {
     "name": "stdout",
     "output_type": "stream",
     "text": [
      "LAG sendo Testado: 5\n",
      "MAE: 1.3301280167964216\n",
      "MSE: 2345986.955864693\n",
      "MAPE: 2345986955864.693\n",
      "AIC: 6511.381356456916\n",
      "------------------------\n"
     ]
    },
    {
     "name": "stderr",
     "output_type": "stream",
     "text": [
      "d:\\python\\lib\\site-packages\\statsmodels\\base\\model.py:604: ConvergenceWarning: Maximum Likelihood optimization failed to converge. Check mle_retvals\n",
      "  warnings.warn(\"Maximum Likelihood optimization failed to \"\n"
     ]
    },
    {
     "name": "stdout",
     "output_type": "stream",
     "text": [
      "LAG sendo Testado: 6\n",
      "MAE: 1.001585505420976\n",
      "MSE: 1323425.090288411\n",
      "MAPE: 1323425090288.411\n",
      "AIC: 6754.322623280598\n",
      "------------------------\n"
     ]
    },
    {
     "name": "stderr",
     "output_type": "stream",
     "text": [
      "d:\\python\\lib\\site-packages\\statsmodels\\tsa\\statespace\\varmax.py:374: UserWarning: Non-stationary starting autoregressive parameters found. Using zeros as starting parameters.\n",
      "  warn('Non-stationary starting autoregressive parameters'\n",
      "d:\\python\\lib\\site-packages\\statsmodels\\base\\model.py:604: ConvergenceWarning: Maximum Likelihood optimization failed to converge. Check mle_retvals\n",
      "  warnings.warn(\"Maximum Likelihood optimization failed to \"\n"
     ]
    },
    {
     "name": "stdout",
     "output_type": "stream",
     "text": [
      "LAG sendo Testado: 8\n",
      "MAE: 1.1050416082341707\n",
      "MSE: 1624185.4201375516\n",
      "MAPE: 1624185420137.5515\n",
      "AIC: 6818.539812359219\n",
      "------------------------\n"
     ]
    },
    {
     "name": "stderr",
     "output_type": "stream",
     "text": [
      "d:\\python\\lib\\site-packages\\statsmodels\\tsa\\statespace\\varmax.py:374: UserWarning: Non-stationary starting autoregressive parameters found. Using zeros as starting parameters.\n",
      "  warn('Non-stationary starting autoregressive parameters'\n",
      "d:\\python\\lib\\site-packages\\statsmodels\\base\\model.py:604: ConvergenceWarning: Maximum Likelihood optimization failed to converge. Check mle_retvals\n",
      "  warnings.warn(\"Maximum Likelihood optimization failed to \"\n"
     ]
    },
    {
     "name": "stdout",
     "output_type": "stream",
     "text": [
      "LAG sendo Testado: 9\n",
      "MAE: 1.2317955227495099\n",
      "MSE: 1945289.8252851155\n",
      "MAPE: 1945289825285.1155\n",
      "AIC: 6761.60004054604\n",
      "------------------------\n"
     ]
    },
    {
     "name": "stderr",
     "output_type": "stream",
     "text": [
      "d:\\python\\lib\\site-packages\\statsmodels\\tsa\\statespace\\varmax.py:374: UserWarning: Non-stationary starting autoregressive parameters found. Using zeros as starting parameters.\n",
      "  warn('Non-stationary starting autoregressive parameters'\n",
      "d:\\python\\lib\\site-packages\\statsmodels\\base\\model.py:604: ConvergenceWarning: Maximum Likelihood optimization failed to converge. Check mle_retvals\n",
      "  warnings.warn(\"Maximum Likelihood optimization failed to \"\n"
     ]
    },
    {
     "name": "stdout",
     "output_type": "stream",
     "text": [
      "LAG sendo Testado: 10\n",
      "MAE: 1.0255857785410838\n",
      "MSE: 1388956.2330731708\n",
      "MAPE: 1388956233073.1707\n",
      "AIC: 6781.2110596595685\n",
      "------------------------\n"
     ]
    },
    {
     "name": "stderr",
     "output_type": "stream",
     "text": [
      "d:\\python\\lib\\site-packages\\statsmodels\\tsa\\statespace\\varmax.py:374: UserWarning: Non-stationary starting autoregressive parameters found. Using zeros as starting parameters.\n",
      "  warn('Non-stationary starting autoregressive parameters'\n",
      "d:\\python\\lib\\site-packages\\statsmodels\\base\\model.py:604: ConvergenceWarning: Maximum Likelihood optimization failed to converge. Check mle_retvals\n",
      "  warnings.warn(\"Maximum Likelihood optimization failed to \"\n"
     ]
    },
    {
     "name": "stdout",
     "output_type": "stream",
     "text": [
      "LAG sendo Testado: 11\n",
      "MAE: 1.7698728182531263\n",
      "MSE: 4183130.984080974\n",
      "MAPE: 4183130984080.974\n",
      "AIC: 7010.212443991721\n",
      "------------------------\n"
     ]
    },
    {
     "name": "stderr",
     "output_type": "stream",
     "text": [
      "d:\\python\\lib\\site-packages\\statsmodels\\tsa\\statespace\\varmax.py:374: UserWarning: Non-stationary starting autoregressive parameters found. Using zeros as starting parameters.\n",
      "  warn('Non-stationary starting autoregressive parameters'\n",
      "d:\\python\\lib\\site-packages\\statsmodels\\base\\model.py:604: ConvergenceWarning: Maximum Likelihood optimization failed to converge. Check mle_retvals\n",
      "  warnings.warn(\"Maximum Likelihood optimization failed to \"\n"
     ]
    },
    {
     "name": "stdout",
     "output_type": "stream",
     "text": [
      "LAG sendo Testado: 12\n",
      "MAE: 1.4472044841903162\n",
      "MSE: 3032574.6690404415\n",
      "MAPE: 3032574669040.4414\n",
      "AIC: 6943.2232799903295\n",
      "------------------------\n",
      "(117, 2)\n",
      "(24, 2)\n",
      "\n",
      "------------------\n",
      " Cross-Validation número 15\n",
      "---------------------\n",
      "\n",
      "\n",
      "LAG sendo Testado: 1\n",
      "MAE: 1.1928146786795053\n",
      "MSE: 1935937.3508962078\n",
      "MAPE: 1935937350896.2078\n",
      "AIC: 5953.062412864576\n",
      "------------------------\n",
      "LAG sendo Testado: 2\n",
      "MAE: 1.254069125229843\n",
      "MSE: 2206166.584074107\n",
      "MAPE: 2206166584074.107\n",
      "AIC: 5942.246517116719\n",
      "------------------------\n"
     ]
    },
    {
     "name": "stderr",
     "output_type": "stream",
     "text": [
      "d:\\python\\lib\\site-packages\\statsmodels\\tsa\\statespace\\varmax.py:374: UserWarning: Non-stationary starting autoregressive parameters found. Using zeros as starting parameters.\n",
      "  warn('Non-stationary starting autoregressive parameters'\n",
      "d:\\python\\lib\\site-packages\\statsmodels\\base\\model.py:604: ConvergenceWarning: Maximum Likelihood optimization failed to converge. Check mle_retvals\n",
      "  warnings.warn(\"Maximum Likelihood optimization failed to \"\n",
      "d:\\python\\lib\\site-packages\\statsmodels\\tsa\\statespace\\varmax.py:374: UserWarning: Non-stationary starting autoregressive parameters found. Using zeros as starting parameters.\n",
      "  warn('Non-stationary starting autoregressive parameters'\n"
     ]
    },
    {
     "name": "stdout",
     "output_type": "stream",
     "text": [
      "LAG sendo Testado: 3\n",
      "MAE: 1.4479614888869041\n",
      "MSE: 3103684.1725322553\n",
      "MAPE: 3103684172532.2554\n",
      "AIC: 6248.647403677443\n",
      "------------------------\n"
     ]
    },
    {
     "name": "stderr",
     "output_type": "stream",
     "text": [
      "d:\\python\\lib\\site-packages\\statsmodels\\base\\model.py:604: ConvergenceWarning: Maximum Likelihood optimization failed to converge. Check mle_retvals\n",
      "  warnings.warn(\"Maximum Likelihood optimization failed to \"\n",
      "d:\\python\\lib\\site-packages\\statsmodels\\tsa\\statespace\\varmax.py:374: UserWarning: Non-stationary starting autoregressive parameters found. Using zeros as starting parameters.\n",
      "  warn('Non-stationary starting autoregressive parameters'\n"
     ]
    },
    {
     "name": "stdout",
     "output_type": "stream",
     "text": [
      "LAG sendo Testado: 4\n",
      "MAE: 1.399276284600203\n",
      "MSE: 2910358.4818874956\n",
      "MAPE: 2910358481887.4956\n",
      "AIC: 6191.373042356392\n",
      "------------------------\n"
     ]
    },
    {
     "name": "stderr",
     "output_type": "stream",
     "text": [
      "d:\\python\\lib\\site-packages\\statsmodels\\base\\model.py:604: ConvergenceWarning: Maximum Likelihood optimization failed to converge. Check mle_retvals\n",
      "  warnings.warn(\"Maximum Likelihood optimization failed to \"\n"
     ]
    },
    {
     "name": "stdout",
     "output_type": "stream",
     "text": [
      "LAG sendo Testado: 5\n",
      "MAE: 1.0199885655020284\n",
      "MSE: 1518875.7203367716\n",
      "MAPE: 1518875720336.7715\n",
      "AIC: 6268.518383712161\n",
      "------------------------\n"
     ]
    },
    {
     "name": "stderr",
     "output_type": "stream",
     "text": [
      "d:\\python\\lib\\site-packages\\statsmodels\\base\\model.py:604: ConvergenceWarning: Maximum Likelihood optimization failed to converge. Check mle_retvals\n",
      "  warnings.warn(\"Maximum Likelihood optimization failed to \"\n"
     ]
    },
    {
     "name": "stdout",
     "output_type": "stream",
     "text": [
      "LAG sendo Testado: 6\n",
      "MAE: 1.3511361034379126\n",
      "MSE: 2872932.263649332\n",
      "MAPE: 2872932263649.332\n",
      "AIC: 5853.169305222672\n",
      "------------------------\n"
     ]
    },
    {
     "name": "stderr",
     "output_type": "stream",
     "text": [
      "d:\\python\\lib\\site-packages\\statsmodels\\base\\model.py:604: ConvergenceWarning: Maximum Likelihood optimization failed to converge. Check mle_retvals\n",
      "  warnings.warn(\"Maximum Likelihood optimization failed to \"\n"
     ]
    },
    {
     "name": "stdout",
     "output_type": "stream",
     "text": [
      "LAG sendo Testado: 8\n",
      "MAE: 1.1295804863878234\n",
      "MSE: 2014085.1147045353\n",
      "MAPE: 2014085114704.5354\n",
      "AIC: 5836.899785762936\n",
      "------------------------\n"
     ]
    },
    {
     "name": "stderr",
     "output_type": "stream",
     "text": [
      "d:\\python\\lib\\site-packages\\statsmodels\\tsa\\statespace\\varmax.py:374: UserWarning: Non-stationary starting autoregressive parameters found. Using zeros as starting parameters.\n",
      "  warn('Non-stationary starting autoregressive parameters'\n",
      "d:\\python\\lib\\site-packages\\statsmodels\\base\\model.py:604: ConvergenceWarning: Maximum Likelihood optimization failed to converge. Check mle_retvals\n",
      "  warnings.warn(\"Maximum Likelihood optimization failed to \"\n"
     ]
    },
    {
     "name": "stdout",
     "output_type": "stream",
     "text": [
      "LAG sendo Testado: 9\n",
      "MAE: 0.9576105823950886\n",
      "MSE: 1424252.3522507157\n",
      "MAPE: 1424252352250.7158\n",
      "AIC: 6553.262830377009\n",
      "------------------------\n"
     ]
    },
    {
     "name": "stderr",
     "output_type": "stream",
     "text": [
      "d:\\python\\lib\\site-packages\\statsmodels\\tsa\\statespace\\varmax.py:374: UserWarning: Non-stationary starting autoregressive parameters found. Using zeros as starting parameters.\n",
      "  warn('Non-stationary starting autoregressive parameters'\n",
      "d:\\python\\lib\\site-packages\\statsmodels\\base\\model.py:604: ConvergenceWarning: Maximum Likelihood optimization failed to converge. Check mle_retvals\n",
      "  warnings.warn(\"Maximum Likelihood optimization failed to \"\n"
     ]
    },
    {
     "name": "stdout",
     "output_type": "stream",
     "text": [
      "LAG sendo Testado: 10\n",
      "MAE: 1.1788087449970868\n",
      "MSE: 2046970.0557301992\n",
      "MAPE: 2046970055730.1992\n",
      "AIC: 6972.205759040559\n",
      "------------------------\n"
     ]
    },
    {
     "name": "stderr",
     "output_type": "stream",
     "text": [
      "d:\\python\\lib\\site-packages\\statsmodels\\tsa\\statespace\\varmax.py:374: UserWarning: Non-stationary starting autoregressive parameters found. Using zeros as starting parameters.\n",
      "  warn('Non-stationary starting autoregressive parameters'\n",
      "d:\\python\\lib\\site-packages\\statsmodels\\base\\model.py:604: ConvergenceWarning: Maximum Likelihood optimization failed to converge. Check mle_retvals\n",
      "  warnings.warn(\"Maximum Likelihood optimization failed to \"\n"
     ]
    },
    {
     "name": "stdout",
     "output_type": "stream",
     "text": [
      "LAG sendo Testado: 11\n",
      "MAE: 1.0281390614321921\n",
      "MSE: 1734454.0680022696\n",
      "MAPE: 1734454068002.2695\n",
      "AIC: 6551.182051766374\n",
      "------------------------\n"
     ]
    },
    {
     "name": "stderr",
     "output_type": "stream",
     "text": [
      "d:\\python\\lib\\site-packages\\statsmodels\\tsa\\statespace\\varmax.py:374: UserWarning: Non-stationary starting autoregressive parameters found. Using zeros as starting parameters.\n",
      "  warn('Non-stationary starting autoregressive parameters'\n",
      "d:\\python\\lib\\site-packages\\statsmodels\\base\\model.py:604: ConvergenceWarning: Maximum Likelihood optimization failed to converge. Check mle_retvals\n",
      "  warnings.warn(\"Maximum Likelihood optimization failed to \"\n"
     ]
    },
    {
     "name": "stdout",
     "output_type": "stream",
     "text": [
      "LAG sendo Testado: 12\n",
      "MAE: 1.0292096355557567\n",
      "MSE: 1568472.4409899523\n",
      "MAPE: 1568472440989.9524\n",
      "AIC: 6640.56597920491\n",
      "------------------------\n",
      "(112, 2)\n",
      "(24, 2)\n",
      "\n",
      "------------------\n",
      " Cross-Validation número 16\n",
      "---------------------\n",
      "\n",
      "\n",
      "LAG sendo Testado: 1\n",
      "MAE: 0.9948364139414743\n",
      "MSE: 1394610.8388790477\n",
      "MAPE: 1394610838879.0476\n",
      "AIC: 5700.008835928134\n",
      "------------------------\n",
      "LAG sendo Testado: 2\n",
      "MAE: 1.0667139848962657\n",
      "MSE: 1607754.626754157\n",
      "MAPE: 1607754626754.157\n",
      "AIC: 5691.7038232671275\n",
      "------------------------\n"
     ]
    },
    {
     "name": "stderr",
     "output_type": "stream",
     "text": [
      "d:\\python\\lib\\site-packages\\statsmodels\\tsa\\statespace\\varmax.py:374: UserWarning: Non-stationary starting autoregressive parameters found. Using zeros as starting parameters.\n",
      "  warn('Non-stationary starting autoregressive parameters'\n",
      "d:\\python\\lib\\site-packages\\statsmodels\\base\\model.py:604: ConvergenceWarning: Maximum Likelihood optimization failed to converge. Check mle_retvals\n",
      "  warnings.warn(\"Maximum Likelihood optimization failed to \"\n",
      "d:\\python\\lib\\site-packages\\statsmodels\\tsa\\statespace\\varmax.py:374: UserWarning: Non-stationary starting autoregressive parameters found. Using zeros as starting parameters.\n",
      "  warn('Non-stationary starting autoregressive parameters'\n"
     ]
    },
    {
     "name": "stdout",
     "output_type": "stream",
     "text": [
      "LAG sendo Testado: 3\n",
      "MAE: 3.3332347865466474\n",
      "MSE: 14236854.883181563\n",
      "MAPE: 14236854883181.562\n",
      "AIC: 5949.2631284047275\n",
      "------------------------\n"
     ]
    },
    {
     "name": "stderr",
     "output_type": "stream",
     "text": [
      "d:\\python\\lib\\site-packages\\statsmodels\\base\\model.py:604: ConvergenceWarning: Maximum Likelihood optimization failed to converge. Check mle_retvals\n",
      "  warnings.warn(\"Maximum Likelihood optimization failed to \"\n",
      "d:\\python\\lib\\site-packages\\statsmodels\\tsa\\statespace\\varmax.py:374: UserWarning: Non-stationary starting autoregressive parameters found. Using zeros as starting parameters.\n",
      "  warn('Non-stationary starting autoregressive parameters'\n"
     ]
    },
    {
     "name": "stdout",
     "output_type": "stream",
     "text": [
      "LAG sendo Testado: 4\n",
      "MAE: 2.4507565639119746\n",
      "MSE: 8318674.626071927\n",
      "MAPE: 8318674626071.927\n",
      "AIC: 5940.201063099532\n",
      "------------------------\n"
     ]
    },
    {
     "name": "stderr",
     "output_type": "stream",
     "text": [
      "d:\\python\\lib\\site-packages\\statsmodels\\base\\model.py:604: ConvergenceWarning: Maximum Likelihood optimization failed to converge. Check mle_retvals\n",
      "  warnings.warn(\"Maximum Likelihood optimization failed to \"\n"
     ]
    },
    {
     "name": "stdout",
     "output_type": "stream",
     "text": [
      "LAG sendo Testado: 5\n",
      "MAE: 1.8236563137171764\n",
      "MSE: 4918660.547199755\n",
      "MAPE: 4918660547199.755\n",
      "AIC: 5935.8136925251\n",
      "------------------------\n"
     ]
    },
    {
     "name": "stderr",
     "output_type": "stream",
     "text": [
      "d:\\python\\lib\\site-packages\\statsmodels\\base\\model.py:604: ConvergenceWarning: Maximum Likelihood optimization failed to converge. Check mle_retvals\n",
      "  warnings.warn(\"Maximum Likelihood optimization failed to \"\n"
     ]
    },
    {
     "name": "stdout",
     "output_type": "stream",
     "text": [
      "LAG sendo Testado: 6\n",
      "MAE: 1.0733398311282758\n",
      "MSE: 1620629.3725510335\n",
      "MAPE: 1620629372551.0334\n",
      "AIC: 5598.939356581488\n",
      "------------------------\n",
      "LAG sendo Testado: 8\n",
      "MAE: 0.8162864109904375\n",
      "MSE: 992286.9004292412\n",
      "MAPE: 992286900429.2412\n",
      "AIC: 5593.232640081948\n",
      "------------------------\n"
     ]
    },
    {
     "name": "stderr",
     "output_type": "stream",
     "text": [
      "d:\\python\\lib\\site-packages\\statsmodels\\tsa\\statespace\\varmax.py:374: UserWarning: Non-stationary starting autoregressive parameters found. Using zeros as starting parameters.\n",
      "  warn('Non-stationary starting autoregressive parameters'\n",
      "d:\\python\\lib\\site-packages\\statsmodels\\base\\model.py:604: ConvergenceWarning: Maximum Likelihood optimization failed to converge. Check mle_retvals\n",
      "  warnings.warn(\"Maximum Likelihood optimization failed to \"\n"
     ]
    },
    {
     "name": "stdout",
     "output_type": "stream",
     "text": [
      "LAG sendo Testado: 9\n",
      "MAE: 1.6020343487700903\n",
      "MSE: 3783288.1318047503\n",
      "MAPE: 3783288131804.7505\n",
      "AIC: 6324.6360640193925\n",
      "------------------------\n"
     ]
    },
    {
     "name": "stderr",
     "output_type": "stream",
     "text": [
      "d:\\python\\lib\\site-packages\\statsmodels\\tsa\\statespace\\varmax.py:374: UserWarning: Non-stationary starting autoregressive parameters found. Using zeros as starting parameters.\n",
      "  warn('Non-stationary starting autoregressive parameters'\n",
      "d:\\python\\lib\\site-packages\\statsmodels\\base\\model.py:604: ConvergenceWarning: Maximum Likelihood optimization failed to converge. Check mle_retvals\n",
      "  warnings.warn(\"Maximum Likelihood optimization failed to \"\n"
     ]
    },
    {
     "name": "stdout",
     "output_type": "stream",
     "text": [
      "LAG sendo Testado: 10\n",
      "MAE: 1.2662053396160975\n",
      "MSE: 2400945.637193867\n",
      "MAPE: 2400945637193.867\n",
      "AIC: 6111.06142500172\n",
      "------------------------\n"
     ]
    },
    {
     "name": "stderr",
     "output_type": "stream",
     "text": [
      "d:\\python\\lib\\site-packages\\statsmodels\\tsa\\statespace\\varmax.py:374: UserWarning: Non-stationary starting autoregressive parameters found. Using zeros as starting parameters.\n",
      "  warn('Non-stationary starting autoregressive parameters'\n",
      "d:\\python\\lib\\site-packages\\statsmodels\\base\\model.py:604: ConvergenceWarning: Maximum Likelihood optimization failed to converge. Check mle_retvals\n",
      "  warnings.warn(\"Maximum Likelihood optimization failed to \"\n"
     ]
    },
    {
     "name": "stdout",
     "output_type": "stream",
     "text": [
      "LAG sendo Testado: 11\n",
      "MAE: 1.2294979395912884\n",
      "MSE: 2188193.899695808\n",
      "MAPE: 2188193899695.8079\n",
      "AIC: 6723.594154620949\n",
      "------------------------\n"
     ]
    },
    {
     "name": "stderr",
     "output_type": "stream",
     "text": [
      "d:\\python\\lib\\site-packages\\statsmodels\\tsa\\statespace\\varmax.py:374: UserWarning: Non-stationary starting autoregressive parameters found. Using zeros as starting parameters.\n",
      "  warn('Non-stationary starting autoregressive parameters'\n",
      "d:\\python\\lib\\site-packages\\statsmodels\\base\\model.py:604: ConvergenceWarning: Maximum Likelihood optimization failed to converge. Check mle_retvals\n",
      "  warnings.warn(\"Maximum Likelihood optimization failed to \"\n"
     ]
    },
    {
     "name": "stdout",
     "output_type": "stream",
     "text": [
      "LAG sendo Testado: 12\n",
      "MAE: 1.2082584681435078\n",
      "MSE: 2095975.4906694319\n",
      "MAPE: 2095975490669.432\n",
      "AIC: 6262.501931617133\n",
      "------------------------\n",
      "(107, 2)\n",
      "(24, 2)\n",
      "\n",
      "------------------\n",
      " Cross-Validation número 17\n",
      "---------------------\n",
      "\n",
      "\n"
     ]
    },
    {
     "name": "stderr",
     "output_type": "stream",
     "text": [
      "d:\\python\\lib\\site-packages\\statsmodels\\tsa\\statespace\\varmax.py:374: UserWarning: Non-stationary starting autoregressive parameters found. Using zeros as starting parameters.\n",
      "  warn('Non-stationary starting autoregressive parameters'\n"
     ]
    },
    {
     "name": "stdout",
     "output_type": "stream",
     "text": [
      "LAG sendo Testado: 1\n",
      "MAE: 1.4083595194027725\n",
      "MSE: 3338217.547850717\n",
      "MAPE: 3338217547850.717\n",
      "AIC: 5707.209713455256\n",
      "------------------------\n"
     ]
    },
    {
     "name": "stderr",
     "output_type": "stream",
     "text": [
      "d:\\python\\lib\\site-packages\\statsmodels\\tsa\\statespace\\varmax.py:374: UserWarning: Non-stationary starting autoregressive parameters found. Using zeros as starting parameters.\n",
      "  warn('Non-stationary starting autoregressive parameters'\n",
      "d:\\python\\lib\\site-packages\\statsmodels\\base\\model.py:604: ConvergenceWarning: Maximum Likelihood optimization failed to converge. Check mle_retvals\n",
      "  warnings.warn(\"Maximum Likelihood optimization failed to \"\n",
      "d:\\python\\lib\\site-packages\\statsmodels\\tsa\\statespace\\varmax.py:374: UserWarning: Non-stationary starting autoregressive parameters found. Using zeros as starting parameters.\n",
      "  warn('Non-stationary starting autoregressive parameters'\n"
     ]
    },
    {
     "name": "stdout",
     "output_type": "stream",
     "text": [
      "LAG sendo Testado: 2\n",
      "MAE: 1.3097068383527455\n",
      "MSE: 2958391.259774769\n",
      "MAPE: 2958391259774.769\n",
      "AIC: 5690.643664401233\n",
      "------------------------\n"
     ]
    },
    {
     "name": "stderr",
     "output_type": "stream",
     "text": [
      "d:\\python\\lib\\site-packages\\statsmodels\\base\\model.py:604: ConvergenceWarning: Maximum Likelihood optimization failed to converge. Check mle_retvals\n",
      "  warnings.warn(\"Maximum Likelihood optimization failed to \"\n",
      "d:\\python\\lib\\site-packages\\statsmodels\\tsa\\statespace\\varmax.py:374: UserWarning: Non-stationary starting autoregressive parameters found. Using zeros as starting parameters.\n",
      "  warn('Non-stationary starting autoregressive parameters'\n"
     ]
    },
    {
     "name": "stdout",
     "output_type": "stream",
     "text": [
      "LAG sendo Testado: 3\n",
      "MAE: 2.6826480722086536\n",
      "MSE: 10139908.552570965\n",
      "MAPE: 10139908552570.965\n",
      "AIC: 5674.09696322216\n",
      "------------------------\n"
     ]
    },
    {
     "name": "stderr",
     "output_type": "stream",
     "text": [
      "d:\\python\\lib\\site-packages\\statsmodels\\base\\model.py:604: ConvergenceWarning: Maximum Likelihood optimization failed to converge. Check mle_retvals\n",
      "  warnings.warn(\"Maximum Likelihood optimization failed to \"\n"
     ]
    },
    {
     "name": "stdout",
     "output_type": "stream",
     "text": [
      "LAG sendo Testado: 4\n",
      "MAE: 1.9132048173714904\n",
      "MSE: 5561535.5089143785\n",
      "MAPE: 5561535508914.379\n",
      "AIC: 5655.371109800735\n",
      "------------------------\n"
     ]
    },
    {
     "name": "stderr",
     "output_type": "stream",
     "text": [
      "d:\\python\\lib\\site-packages\\statsmodels\\tsa\\statespace\\varmax.py:374: UserWarning: Non-stationary starting autoregressive parameters found. Using zeros as starting parameters.\n",
      "  warn('Non-stationary starting autoregressive parameters'\n",
      "d:\\python\\lib\\site-packages\\statsmodels\\base\\model.py:604: ConvergenceWarning: Maximum Likelihood optimization failed to converge. Check mle_retvals\n",
      "  warnings.warn(\"Maximum Likelihood optimization failed to \"\n"
     ]
    },
    {
     "name": "stdout",
     "output_type": "stream",
     "text": [
      "LAG sendo Testado: 5\n",
      "MAE: 3.801747876675304\n",
      "MSE: 21492095.90183703\n",
      "MAPE: 21492095901837.027\n",
      "AIC: 5737.974533190183\n",
      "------------------------\n"
     ]
    },
    {
     "name": "stderr",
     "output_type": "stream",
     "text": [
      "d:\\python\\lib\\site-packages\\statsmodels\\base\\model.py:604: ConvergenceWarning: Maximum Likelihood optimization failed to converge. Check mle_retvals\n",
      "  warnings.warn(\"Maximum Likelihood optimization failed to \"\n"
     ]
    },
    {
     "name": "stdout",
     "output_type": "stream",
     "text": [
      "LAG sendo Testado: 6\n",
      "MAE: 1.2625547593464188\n",
      "MSE: 2774006.26862399\n",
      "MAPE: 2774006268623.99\n",
      "AIC: 5347.0274204889265\n",
      "------------------------\n"
     ]
    },
    {
     "name": "stderr",
     "output_type": "stream",
     "text": [
      "d:\\python\\lib\\site-packages\\statsmodels\\base\\model.py:604: ConvergenceWarning: Maximum Likelihood optimization failed to converge. Check mle_retvals\n",
      "  warnings.warn(\"Maximum Likelihood optimization failed to \"\n"
     ]
    },
    {
     "name": "stdout",
     "output_type": "stream",
     "text": [
      "LAG sendo Testado: 8\n",
      "MAE: 1.2203270289722103\n",
      "MSE: 2539654.838553953\n",
      "MAPE: 2539654838553.953\n",
      "AIC: 5332.424266909783\n",
      "------------------------\n"
     ]
    },
    {
     "name": "stderr",
     "output_type": "stream",
     "text": [
      "d:\\python\\lib\\site-packages\\statsmodels\\tsa\\statespace\\varmax.py:374: UserWarning: Non-stationary starting autoregressive parameters found. Using zeros as starting parameters.\n",
      "  warn('Non-stationary starting autoregressive parameters'\n",
      "d:\\python\\lib\\site-packages\\statsmodels\\base\\model.py:604: ConvergenceWarning: Maximum Likelihood optimization failed to converge. Check mle_retvals\n",
      "  warnings.warn(\"Maximum Likelihood optimization failed to \"\n"
     ]
    },
    {
     "name": "stdout",
     "output_type": "stream",
     "text": [
      "LAG sendo Testado: 9\n",
      "MAE: 1.5657439949011067\n",
      "MSE: 3919755.892705058\n",
      "MAPE: 3919755892705.058\n",
      "AIC: 6101.216127851428\n",
      "------------------------\n"
     ]
    },
    {
     "name": "stderr",
     "output_type": "stream",
     "text": [
      "d:\\python\\lib\\site-packages\\statsmodels\\tsa\\statespace\\varmax.py:374: UserWarning: Non-stationary starting autoregressive parameters found. Using zeros as starting parameters.\n",
      "  warn('Non-stationary starting autoregressive parameters'\n",
      "d:\\python\\lib\\site-packages\\statsmodels\\base\\model.py:604: ConvergenceWarning: Maximum Likelihood optimization failed to converge. Check mle_retvals\n",
      "  warnings.warn(\"Maximum Likelihood optimization failed to \"\n"
     ]
    },
    {
     "name": "stdout",
     "output_type": "stream",
     "text": [
      "LAG sendo Testado: 10\n",
      "MAE: 1.2845128472329417\n",
      "MSE: 3067126.5519031715\n",
      "MAPE: 3067126551903.1714\n",
      "AIC: 5868.149498499441\n",
      "------------------------\n"
     ]
    },
    {
     "name": "stderr",
     "output_type": "stream",
     "text": [
      "d:\\python\\lib\\site-packages\\statsmodels\\tsa\\statespace\\varmax.py:374: UserWarning: Non-stationary starting autoregressive parameters found. Using zeros as starting parameters.\n",
      "  warn('Non-stationary starting autoregressive parameters'\n",
      "d:\\python\\lib\\site-packages\\statsmodels\\base\\model.py:604: ConvergenceWarning: Maximum Likelihood optimization failed to converge. Check mle_retvals\n",
      "  warnings.warn(\"Maximum Likelihood optimization failed to \"\n"
     ]
    },
    {
     "name": "stdout",
     "output_type": "stream",
     "text": [
      "LAG sendo Testado: 11\n",
      "MAE: 1.1994169249228053\n",
      "MSE: 2291040.4268345027\n",
      "MAPE: 2291040426834.503\n",
      "AIC: 5931.809366395705\n",
      "------------------------\n"
     ]
    },
    {
     "name": "stderr",
     "output_type": "stream",
     "text": [
      "d:\\python\\lib\\site-packages\\statsmodels\\tsa\\statespace\\varmax.py:374: UserWarning: Non-stationary starting autoregressive parameters found. Using zeros as starting parameters.\n",
      "  warn('Non-stationary starting autoregressive parameters'\n",
      "d:\\python\\lib\\site-packages\\statsmodels\\base\\model.py:604: ConvergenceWarning: Maximum Likelihood optimization failed to converge. Check mle_retvals\n",
      "  warnings.warn(\"Maximum Likelihood optimization failed to \"\n"
     ]
    },
    {
     "name": "stdout",
     "output_type": "stream",
     "text": [
      "LAG sendo Testado: 12\n",
      "MAE: 1.7019910099162456\n",
      "MSE: 4506800.120822943\n",
      "MAPE: 4506800120822.942\n",
      "AIC: 6059.805307528578\n",
      "------------------------\n",
      "(102, 2)\n",
      "(24, 2)\n",
      "\n",
      "------------------\n",
      " Cross-Validation número 18\n",
      "---------------------\n",
      "\n",
      "\n",
      "LAG sendo Testado: 1\n",
      "MAE: 1.6218116658334167\n",
      "MSE: 3831919.545059553\n",
      "MAPE: 3831919545059.5527\n",
      "AIC: 5173.522172282245\n",
      "------------------------\n",
      "LAG sendo Testado: 2\n",
      "MAE: 1.6921914829922777\n",
      "MSE: 4173678.4229494473\n",
      "MAPE: 4173678422949.4473\n",
      "AIC: 5163.408229466258\n",
      "------------------------\n"
     ]
    },
    {
     "name": "stderr",
     "output_type": "stream",
     "text": [
      "d:\\python\\lib\\site-packages\\statsmodels\\tsa\\statespace\\varmax.py:374: UserWarning: Non-stationary starting autoregressive parameters found. Using zeros as starting parameters.\n",
      "  warn('Non-stationary starting autoregressive parameters'\n",
      "d:\\python\\lib\\site-packages\\statsmodels\\base\\model.py:604: ConvergenceWarning: Maximum Likelihood optimization failed to converge. Check mle_retvals\n",
      "  warnings.warn(\"Maximum Likelihood optimization failed to \"\n",
      "d:\\python\\lib\\site-packages\\statsmodels\\tsa\\statespace\\varmax.py:374: UserWarning: Non-stationary starting autoregressive parameters found. Using zeros as starting parameters.\n",
      "  warn('Non-stationary starting autoregressive parameters'\n"
     ]
    },
    {
     "name": "stdout",
     "output_type": "stream",
     "text": [
      "LAG sendo Testado: 3\n",
      "MAE: 3.045194333852882\n",
      "MSE: 12950513.666938562\n",
      "MAPE: 12950513666938.562\n",
      "AIC: 5374.645802292481\n",
      "------------------------\n"
     ]
    },
    {
     "name": "stderr",
     "output_type": "stream",
     "text": [
      "d:\\python\\lib\\site-packages\\statsmodels\\base\\model.py:604: ConvergenceWarning: Maximum Likelihood optimization failed to converge. Check mle_retvals\n",
      "  warnings.warn(\"Maximum Likelihood optimization failed to \"\n",
      "d:\\python\\lib\\site-packages\\statsmodels\\tsa\\statespace\\varmax.py:374: UserWarning: Non-stationary starting autoregressive parameters found. Using zeros as starting parameters.\n",
      "  warn('Non-stationary starting autoregressive parameters'\n"
     ]
    },
    {
     "name": "stdout",
     "output_type": "stream",
     "text": [
      "LAG sendo Testado: 4\n",
      "MAE: 2.3919885733344324\n",
      "MSE: 8514973.04397324\n",
      "MAPE: 8514973043973.239\n",
      "AIC: 5334.092621379548\n",
      "------------------------\n"
     ]
    },
    {
     "name": "stderr",
     "output_type": "stream",
     "text": [
      "d:\\python\\lib\\site-packages\\statsmodels\\base\\model.py:604: ConvergenceWarning: Maximum Likelihood optimization failed to converge. Check mle_retvals\n",
      "  warnings.warn(\"Maximum Likelihood optimization failed to \"\n"
     ]
    },
    {
     "name": "stdout",
     "output_type": "stream",
     "text": [
      "LAG sendo Testado: 5\n",
      "MAE: 2.251147985364738\n",
      "MSE: 8012106.430375882\n",
      "MAPE: 8012106430375.883\n",
      "AIC: 5389.106406656399\n",
      "------------------------\n"
     ]
    },
    {
     "name": "stderr",
     "output_type": "stream",
     "text": [
      "d:\\python\\lib\\site-packages\\statsmodels\\base\\model.py:604: ConvergenceWarning: Maximum Likelihood optimization failed to converge. Check mle_retvals\n",
      "  warnings.warn(\"Maximum Likelihood optimization failed to \"\n"
     ]
    },
    {
     "name": "stdout",
     "output_type": "stream",
     "text": [
      "LAG sendo Testado: 6\n",
      "MAE: 0.912062961265699\n",
      "MSE: 1544872.805697777\n",
      "MAPE: 1544872805697.777\n",
      "AIC: 5087.844969143226\n",
      "------------------------\n"
     ]
    },
    {
     "name": "stderr",
     "output_type": "stream",
     "text": [
      "d:\\python\\lib\\site-packages\\statsmodels\\tsa\\statespace\\varmax.py:374: UserWarning: Non-stationary starting autoregressive parameters found. Using zeros as starting parameters.\n",
      "  warn('Non-stationary starting autoregressive parameters'\n",
      "d:\\python\\lib\\site-packages\\statsmodels\\base\\model.py:604: ConvergenceWarning: Maximum Likelihood optimization failed to converge. Check mle_retvals\n",
      "  warnings.warn(\"Maximum Likelihood optimization failed to \"\n"
     ]
    },
    {
     "name": "stdout",
     "output_type": "stream",
     "text": [
      "LAG sendo Testado: 8\n",
      "MAE: 2.2646652320536136\n",
      "MSE: 7160924.293285101\n",
      "MAPE: 7160924293285.101\n",
      "AIC: 5714.521447598621\n",
      "------------------------\n"
     ]
    },
    {
     "name": "stderr",
     "output_type": "stream",
     "text": [
      "d:\\python\\lib\\site-packages\\statsmodels\\tsa\\statespace\\varmax.py:374: UserWarning: Non-stationary starting autoregressive parameters found. Using zeros as starting parameters.\n",
      "  warn('Non-stationary starting autoregressive parameters'\n",
      "d:\\python\\lib\\site-packages\\statsmodels\\base\\model.py:604: ConvergenceWarning: Maximum Likelihood optimization failed to converge. Check mle_retvals\n",
      "  warnings.warn(\"Maximum Likelihood optimization failed to \"\n"
     ]
    },
    {
     "name": "stdout",
     "output_type": "stream",
     "text": [
      "LAG sendo Testado: 9\n",
      "MAE: 2.0385562787955953\n",
      "MSE: 6449313.698281386\n",
      "MAPE: 6449313698281.386\n",
      "AIC: 5739.758572879432\n",
      "------------------------\n"
     ]
    },
    {
     "name": "stderr",
     "output_type": "stream",
     "text": [
      "d:\\python\\lib\\site-packages\\statsmodels\\tsa\\statespace\\varmax.py:374: UserWarning: Non-stationary starting autoregressive parameters found. Using zeros as starting parameters.\n",
      "  warn('Non-stationary starting autoregressive parameters'\n",
      "d:\\python\\lib\\site-packages\\statsmodels\\base\\model.py:604: ConvergenceWarning: Maximum Likelihood optimization failed to converge. Check mle_retvals\n",
      "  warnings.warn(\"Maximum Likelihood optimization failed to \"\n"
     ]
    },
    {
     "name": "stdout",
     "output_type": "stream",
     "text": [
      "LAG sendo Testado: 10\n",
      "MAE: 2.3670984329846885\n",
      "MSE: 7884424.38227457\n",
      "MAPE: 7884424382274.57\n",
      "AIC: 5623.25701935662\n",
      "------------------------\n"
     ]
    },
    {
     "name": "stderr",
     "output_type": "stream",
     "text": [
      "d:\\python\\lib\\site-packages\\statsmodels\\tsa\\statespace\\varmax.py:374: UserWarning: Non-stationary starting autoregressive parameters found. Using zeros as starting parameters.\n",
      "  warn('Non-stationary starting autoregressive parameters'\n",
      "d:\\python\\lib\\site-packages\\statsmodels\\base\\model.py:604: ConvergenceWarning: Maximum Likelihood optimization failed to converge. Check mle_retvals\n",
      "  warnings.warn(\"Maximum Likelihood optimization failed to \"\n"
     ]
    },
    {
     "name": "stdout",
     "output_type": "stream",
     "text": [
      "LAG sendo Testado: 11\n",
      "MAE: 1.8945956580587362\n",
      "MSE: 5941693.9869069075\n",
      "MAPE: 5941693986906.907\n",
      "AIC: 5705.710900342018\n",
      "------------------------\n"
     ]
    },
    {
     "name": "stderr",
     "output_type": "stream",
     "text": [
      "d:\\python\\lib\\site-packages\\statsmodels\\tsa\\statespace\\varmax.py:374: UserWarning: Non-stationary starting autoregressive parameters found. Using zeros as starting parameters.\n",
      "  warn('Non-stationary starting autoregressive parameters'\n",
      "d:\\python\\lib\\site-packages\\statsmodels\\base\\model.py:604: ConvergenceWarning: Maximum Likelihood optimization failed to converge. Check mle_retvals\n",
      "  warnings.warn(\"Maximum Likelihood optimization failed to \"\n"
     ]
    },
    {
     "name": "stdout",
     "output_type": "stream",
     "text": [
      "LAG sendo Testado: 12\n",
      "MAE: 1.6667352635125081\n",
      "MSE: 4516486.403751898\n",
      "MAPE: 4516486403751.897\n",
      "AIC: 5831.249586437891\n",
      "------------------------\n",
      "(97, 2)\n",
      "(24, 2)\n",
      "\n",
      "------------------\n",
      " Cross-Validation número 19\n",
      "---------------------\n",
      "\n",
      "\n",
      "LAG sendo Testado: 1\n",
      "MAE: 2.1517736979115143\n",
      "MSE: 5927842.183097591\n",
      "MAPE: 5927842183097.591\n",
      "AIC: 4905.675568435933\n",
      "------------------------\n",
      "LAG sendo Testado: 2\n",
      "MAE: 2.411008772287482\n",
      "MSE: 7263459.274810999\n",
      "MAPE: 7263459274810.999\n",
      "AIC: 4899.724677973716\n",
      "------------------------\n",
      "LAG sendo Testado: 3\n",
      "MAE: 1.4762550399554466\n",
      "MSE: 2969366.4436029624\n",
      "MAPE: 2969366443602.9624\n",
      "AIC: 4878.77584564741\n",
      "------------------------\n"
     ]
    },
    {
     "name": "stderr",
     "output_type": "stream",
     "text": [
      "d:\\python\\lib\\site-packages\\statsmodels\\tsa\\statespace\\varmax.py:374: UserWarning: Non-stationary starting autoregressive parameters found. Using zeros as starting parameters.\n",
      "  warn('Non-stationary starting autoregressive parameters'\n",
      "d:\\python\\lib\\site-packages\\statsmodels\\base\\model.py:604: ConvergenceWarning: Maximum Likelihood optimization failed to converge. Check mle_retvals\n",
      "  warnings.warn(\"Maximum Likelihood optimization failed to \"\n",
      "d:\\python\\lib\\site-packages\\statsmodels\\tsa\\statespace\\varmax.py:374: UserWarning: Non-stationary starting autoregressive parameters found. Using zeros as starting parameters.\n",
      "  warn('Non-stationary starting autoregressive parameters'\n"
     ]
    },
    {
     "name": "stdout",
     "output_type": "stream",
     "text": [
      "LAG sendo Testado: 4\n",
      "MAE: 4.045533708054326\n",
      "MSE: 22765048.563754644\n",
      "MAPE: 22765048563754.645\n",
      "AIC: 5105.749860107215\n",
      "------------------------\n"
     ]
    },
    {
     "name": "stderr",
     "output_type": "stream",
     "text": [
      "d:\\python\\lib\\site-packages\\statsmodels\\base\\model.py:604: ConvergenceWarning: Maximum Likelihood optimization failed to converge. Check mle_retvals\n",
      "  warnings.warn(\"Maximum Likelihood optimization failed to \"\n"
     ]
    },
    {
     "name": "stdout",
     "output_type": "stream",
     "text": [
      "LAG sendo Testado: 5\n",
      "MAE: 1.9493085172756754\n",
      "MSE: 5857878.995246957\n",
      "MAPE: 5857878995246.957\n",
      "AIC: 5166.371805482913\n",
      "------------------------\n"
     ]
    },
    {
     "name": "stderr",
     "output_type": "stream",
     "text": [
      "d:\\python\\lib\\site-packages\\statsmodels\\base\\model.py:604: ConvergenceWarning: Maximum Likelihood optimization failed to converge. Check mle_retvals\n",
      "  warnings.warn(\"Maximum Likelihood optimization failed to \"\n"
     ]
    },
    {
     "name": "stdout",
     "output_type": "stream",
     "text": [
      "LAG sendo Testado: 6\n",
      "MAE: 2.254348155384313\n",
      "MSE: 6508621.586520578\n",
      "MAPE: 6508621586520.578\n",
      "AIC: 4834.085398004312\n",
      "------------------------\n"
     ]
    },
    {
     "name": "stderr",
     "output_type": "stream",
     "text": [
      "d:\\python\\lib\\site-packages\\statsmodels\\base\\model.py:604: ConvergenceWarning: Maximum Likelihood optimization failed to converge. Check mle_retvals\n",
      "  warnings.warn(\"Maximum Likelihood optimization failed to \"\n"
     ]
    },
    {
     "name": "stdout",
     "output_type": "stream",
     "text": [
      "LAG sendo Testado: 8\n",
      "MAE: 2.2071954892904326\n",
      "MSE: 6033430.145937836\n",
      "MAPE: 6033430145937.836\n",
      "AIC: 4829.7141494649395\n",
      "------------------------\n"
     ]
    },
    {
     "name": "stderr",
     "output_type": "stream",
     "text": [
      "d:\\python\\lib\\site-packages\\statsmodels\\tsa\\statespace\\varmax.py:374: UserWarning: Non-stationary starting autoregressive parameters found. Using zeros as starting parameters.\n",
      "  warn('Non-stationary starting autoregressive parameters'\n",
      "d:\\python\\lib\\site-packages\\statsmodels\\base\\model.py:604: ConvergenceWarning: Maximum Likelihood optimization failed to converge. Check mle_retvals\n",
      "  warnings.warn(\"Maximum Likelihood optimization failed to \"\n"
     ]
    },
    {
     "name": "stdout",
     "output_type": "stream",
     "text": [
      "LAG sendo Testado: 9\n",
      "MAE: 2.3453144826681918\n",
      "MSE: 8444334.557373805\n",
      "MAPE: 8444334557373.805\n",
      "AIC: 5445.410186373136\n",
      "------------------------\n"
     ]
    },
    {
     "name": "stderr",
     "output_type": "stream",
     "text": [
      "d:\\python\\lib\\site-packages\\statsmodels\\tsa\\statespace\\varmax.py:374: UserWarning: Non-stationary starting autoregressive parameters found. Using zeros as starting parameters.\n",
      "  warn('Non-stationary starting autoregressive parameters'\n",
      "d:\\python\\lib\\site-packages\\statsmodels\\base\\model.py:604: ConvergenceWarning: Maximum Likelihood optimization failed to converge. Check mle_retvals\n",
      "  warnings.warn(\"Maximum Likelihood optimization failed to \"\n"
     ]
    },
    {
     "name": "stdout",
     "output_type": "stream",
     "text": [
      "LAG sendo Testado: 10\n",
      "MAE: 2.753808338138454\n",
      "MSE: 11898200.557875408\n",
      "MAPE: 11898200557875.408\n",
      "AIC: 5389.339080412053\n",
      "------------------------\n"
     ]
    },
    {
     "name": "stderr",
     "output_type": "stream",
     "text": [
      "d:\\python\\lib\\site-packages\\statsmodels\\tsa\\statespace\\varmax.py:374: UserWarning: Non-stationary starting autoregressive parameters found. Using zeros as starting parameters.\n",
      "  warn('Non-stationary starting autoregressive parameters'\n",
      "d:\\python\\lib\\site-packages\\statsmodels\\base\\model.py:604: ConvergenceWarning: Maximum Likelihood optimization failed to converge. Check mle_retvals\n",
      "  warnings.warn(\"Maximum Likelihood optimization failed to \"\n"
     ]
    },
    {
     "name": "stdout",
     "output_type": "stream",
     "text": [
      "LAG sendo Testado: 11\n",
      "MAE: 1.4935212027187326\n",
      "MSE: 3336151.062943382\n",
      "MAPE: 3336151062943.3823\n",
      "AIC: 5305.497900161676\n",
      "------------------------\n"
     ]
    },
    {
     "name": "stderr",
     "output_type": "stream",
     "text": [
      "d:\\python\\lib\\site-packages\\statsmodels\\tsa\\statespace\\varmax.py:374: UserWarning: Non-stationary starting autoregressive parameters found. Using zeros as starting parameters.\n",
      "  warn('Non-stationary starting autoregressive parameters'\n",
      "d:\\python\\lib\\site-packages\\statsmodels\\base\\model.py:604: ConvergenceWarning: Maximum Likelihood optimization failed to converge. Check mle_retvals\n",
      "  warnings.warn(\"Maximum Likelihood optimization failed to \"\n"
     ]
    },
    {
     "name": "stdout",
     "output_type": "stream",
     "text": [
      "LAG sendo Testado: 12\n",
      "MAE: 1.308004629560802\n",
      "MSE: 2838106.7307105362\n",
      "MAPE: 2838106730710.536\n",
      "AIC: 5484.889308041333\n",
      "------------------------\n"
     ]
    }
   ],
   "source": [
    "lista = [] # Lista que armazenará cada avaliação cruzada\n",
    "for i in range(20):\n",
    "    df_treino_CV = df_energia[['PIB','Consumo de Energia Nacional']][:-24-i*5]\n",
    "    if i != 0:\n",
    "        df_teste_CV = df_energia[['PIB','Consumo de Energia Nacional']][-24-i*5:-i*5]\n",
    "    else:\n",
    "        df_teste_CV = df_energia[['PIB','Consumo de Energia Nacional']][-24-i*5:]\n",
    "    \n",
    "    print(df_treino_CV.shape)\n",
    "    print(df_teste_CV.shape)\n",
    "    print(f'\\n------------------\\n Cross-Validation número {i}\\n---------------------\\n\\n')\n",
    "\n",
    "    l = [] # Lista que armazenará todos os LAGs\n",
    "    for j in range(1,13):\n",
    "        if j != 7:\n",
    "            #Realizando o modelo denovo, ele rodará cerca de 240 vezes!\n",
    "            var_model = VARMAX(df_treino_CV,order =(j,0), enforce_stationarity=True)\n",
    "            fitted_model = var_model.fit(disp=False)\n",
    "            predict = fitted_model.get_prediction(start=len(df_treino_CV),end=len(df_treino_CV) + 24 -1)\n",
    "            predictions = predict.predicted_mean\n",
    "            predictions.rename(columns = {'PIB':'PIB_Forecast','Consumo de Energia Nacional':'Consumo de Energia Nacional_Forecast'},inplace=True)\n",
    "            # Adicionando comentários para manter certeza de que o modelo está rodando, de fato, e que não deu erro.\n",
    "            print(f'LAG sendo Testado: {j}')\n",
    "            print(f\"MAE: {mean_absolute_error(df_teste_CV['Consumo de Energia Nacional'],predictions['Consumo de Energia Nacional_Forecast'])/10**6}\")\n",
    "            print(f\"MSE: {mean_squared_error(df_teste_CV['Consumo de Energia Nacional'],predictions['Consumo de Energia Nacional_Forecast'])/10**6}\")\n",
    "            print(f\"MAPE: {mean_squared_error(df_teste_CV['Consumo de Energia Nacional'],predictions['Consumo de Energia Nacional_Forecast'])}\")\n",
    "            print(f\"AIC: {fitted_model.aic}\")\n",
    "            print('------------------------')\n",
    "            #Adicionando todos esses valores às listas. Utilizarei elas depois para plotar os gráficos com as estatísticas.\n",
    "            l.append({f'{j} LAGs:':[mean_absolute_error(df_teste_CV['Consumo de Energia Nacional'],predictions['Consumo de Energia Nacional_Forecast'])/10**6,mean_squared_error(df_teste_CV['Consumo de Energia Nacional'],predictions['Consumo de Energia Nacional_Forecast'])/10**10, mean_absolute_percentage_error(df_teste_CV['Consumo de Energia Nacional'],predictions['Consumo de Energia Nacional_Forecast']),fitted_model.aic]})            \n",
    "    lista.append({f'Cross{i}':l})\n"
   ]
  },
  {
   "cell_type": "code",
   "execution_count": 82,
   "id": "d1ac129b",
   "metadata": {},
   "outputs": [
    {
     "data": {
      "text/plain": [
       "[<matplotlib.lines.Line2D at 0x2172500d340>]"
      ]
     },
     "execution_count": 82,
     "metadata": {},
     "output_type": "execute_result"
    },
    {
     "data": {
      "image/png": "[encoded data removed]",
      "text/plain": [
       "<Figure size 504x504 with 4 Axes>"
      ]
     },
     "metadata": {
      "needs_background": "light"
     },
     "output_type": "display_data"
    }
   ],
   "source": [
    "Average_MAPE = []\n",
    "CrossVal_MAPE = []\n",
    "Average_MAE = []\n",
    "CrossVal_MAE = []\n",
    "Average_MSQE = []\n",
    "CrossVal_MSQE = []\n",
    "Average_AIC = []\n",
    "CrossVal_AIC = []\n",
    "\n",
    "for j in range(11):\n",
    "    for i in range(20):\n",
    "        CrossVal_MAPE.append(list(list(lista[i].values())[0][j].values())[0][0])\n",
    "        CrossVal_MAE.append(list(list(lista[i].values())[0][j].values())[0][1])\n",
    "        CrossVal_MSQE.append(list(list(lista[i].values())[0][j].values())[0][2])\n",
    "        CrossVal_AIC.append(list(list(lista[i].values())[0][j].values())[0][3])\n",
    "    Average_MAPE.append(np.mean(CrossVal_MAPE))\n",
    "    Average_MAE.append(np.mean(CrossVal_MAE))\n",
    "    Average_MSQE.append(np.mean(CrossVal_MSQE))\n",
    "    Average_AIC.append(np.mean(CrossVal_AIC))\n",
    "Verdadeiros_Erros = pd.DataFrame([Average_MAPE,Average_MAE,Average_MSQE,Average_AIC],index=['MAE','MSQE','MAPE','AIC']) \n",
    "Verdadeiros_Erros.columns = Verdadeiros_Erros.columns+1\n",
    "fig, axs = plt.subplots(4,figsize = (7,7))\n",
    "fig.tight_layout(pad=3.0)\n",
    "axs[0].title.set_text(\"MAE\")\n",
    "axs[1].title.set_text(\"MSQE\")\n",
    "axs[2].title.set_text(\"MAPE\")\n",
    "axs[3].title.set_text(\"AIC\")\n",
    "axs[0].plot(Verdadeiros_Erros.transpose()['MAE'])\n",
    "axs[1].plot(Verdadeiros_Erros.transpose()['MSQE'])\n",
    "axs[2].plot(Verdadeiros_Erros.transpose()['MAPE'])\n",
    "axs[3].plot(Verdadeiros_Erros.transpose()['AIC'])"
   ]
  },
  {
   "cell_type": "markdown",
   "id": "cadfe58e",
   "metadata": {},
   "source": [
    "### Importante ressaltar que, nesse caso, o 2º LAG aparenta ser o mais recomendado por todas as métricas, e o 9º LAG continua sendo um dos melhores para se utilizar, porem não mais o melhor. Sendo assim, vale a pena realizar uma última projeção!!!"
   ]
  },
  {
   "cell_type": "markdown",
   "id": "95d9abd1",
   "metadata": {},
   "source": [
    "# Agora vamos comparar os 3 modelos!"
   ]
  },
  {
   "cell_type": "code",
   "execution_count": 78,
   "id": "ee1df8a2",
   "metadata": {},
   "outputs": [
    {
     "data": {
      "image/png": "[encoded data removed]",
      "text/plain": [
       "<Figure size 720x720 with 3 Axes>"
      ]
     },
     "metadata": {
      "needs_background": "light"
     },
     "output_type": "display_data"
    }
   ],
   "source": [
    "var_model = VARMAX(train_df,order =(2,0), enforce_stationarity=True)\n",
    "fitted_model = var_model.fit(disp=False)\n",
    "predict = fitted_model.get_prediction(start=len(train_df),end=len(train_df) + 24 -1)\n",
    "predictions = predict.predicted_mean\n",
    "predictions.rename(columns = {'PIB':'PIB_Forecast','Consumo de Energia Nacional':'Consumo de Energia Nacional_Forecast'},inplace=True)\n",
    "test_vs_pred_após_CrossVal = pd.concat([test_df['Consumo de Energia Nacional'],predictions['Consumo de Energia Nacional_Forecast']],axis=1)\n",
    "fig, axs = plt.subplots(3, figsize = (10,10))\n",
    "axs[0].plot(test_vs_pred_após_CrossVal)\n",
    "axs[0].title.set_text('Com Cross Validation')\n",
    "axs[1].plot(test_vs_pred_após_teste)\n",
    "axs[1].title.set_text('Usando MAE e MSQE sem Cross Validation')\n",
    "axs[2].plot(test_vs_pred)\n",
    "axs[2].title.set_text('Usando apenas o critério do AIC sem Cross Validation')"
   ]
  },
  {
   "cell_type": "code",
   "execution_count": 79,
   "id": "643a3a45",
   "metadata": {
    "scrolled": false
   },
   "outputs": [
    {
     "name": "stderr",
     "output_type": "stream",
     "text": [
      "d:\\python\\lib\\site-packages\\statsmodels\\tsa\\statespace\\varmax.py:374: UserWarning: Non-stationary starting autoregressive parameters found. Using zeros as starting parameters.\n",
      "  warn('Non-stationary starting autoregressive parameters'\n",
      "d:\\python\\lib\\site-packages\\statsmodels\\base\\model.py:604: ConvergenceWarning: Maximum Likelihood optimization failed to converge. Check mle_retvals\n",
      "  warnings.warn(\"Maximum Likelihood optimization failed to \"\n",
      "d:\\python\\lib\\site-packages\\statsmodels\\base\\model.py:604: ConvergenceWarning: Maximum Likelihood optimization failed to converge. Check mle_retvals\n",
      "  warnings.warn(\"Maximum Likelihood optimization failed to \"\n",
      "d:\\python\\lib\\site-packages\\statsmodels\\tsa\\statespace\\varmax.py:374: UserWarning: Non-stationary starting autoregressive parameters found. Using zeros as starting parameters.\n",
      "  warn('Non-stationary starting autoregressive parameters'\n",
      "d:\\python\\lib\\site-packages\\statsmodels\\base\\model.py:604: ConvergenceWarning: Maximum Likelihood optimization failed to converge. Check mle_retvals\n",
      "  warnings.warn(\"Maximum Likelihood optimization failed to \"\n"
     ]
    },
    {
     "data": {
      "image/png": "[encoded data removed]",
      "text/plain": [
       "<Figure size 720x720 with 1 Axes>"
      ]
     },
     "metadata": {
      "needs_background": "light"
     },
     "output_type": "display_data"
    },
    {
     "data": {
      "image/png": "[encoded data removed]",
      "text/plain": [
       "<Figure size 720x720 with 1 Axes>"
      ]
     },
     "metadata": {
      "needs_background": "light"
     },
     "output_type": "display_data"
    },
    {
     "data": {
      "image/png": "[encoded data removed]",
      "text/plain": [
       "<Figure size 720x720 with 1 Axes>"
      ]
     },
     "metadata": {
      "needs_background": "light"
     },
     "output_type": "display_data"
    }
   ],
   "source": [
    "for i in [2,9,17]:\n",
    "    var_model = VARMAX(df_energia[['PIB','Consumo de Energia Nacional']],order =(i,0), enforce_stationarity=True)\n",
    "    fitted_model = var_model.fit(disp=False)\n",
    "    predict = fitted_model.get_prediction(start=len(df_energia),end=len(df_energia) + 24 -1)\n",
    "    predictions = predict.predicted_mean\n",
    "    predictions.rename(columns = {'PIB':'PIB_Forecast','Consumo de Energia Nacional':'Consumo de Energia Nacional_Forecast'},inplace=True)\n",
    "    Forecast = pd.concat([df_energia['Consumo de Energia Nacional'],predictions['Consumo de Energia Nacional_Forecast']])\n",
    "    fig, axs = plt.subplots(1,figsize=(10,10))\n",
    "    \n",
    "    axs.plot(Forecast[217:240], lw=10, c='yellow', zorder=-1)\n",
    "    axs.plot(Forecast)\n",
    "    axs.title.set_text(f'Número de defasagens: {i}')"
   ]
  },
  {
   "cell_type": "code",
   "execution_count": 84,
   "id": "6f27c1ae",
   "metadata": {},
   "outputs": [
    {
     "name": "stderr",
     "output_type": "stream",
     "text": [
      "d:\\python\\lib\\site-packages\\statsmodels\\tsa\\statespace\\varmax.py:374: UserWarning: Non-stationary starting autoregressive parameters found. Using zeros as starting parameters.\n",
      "  warn('Non-stationary starting autoregressive parameters'\n",
      "d:\\python\\lib\\site-packages\\statsmodels\\base\\model.py:604: ConvergenceWarning: Maximum Likelihood optimization failed to converge. Check mle_retvals\n",
      "  warnings.warn(\"Maximum Likelihood optimization failed to \"\n"
     ]
    }
   ],
   "source": [
    "var_model = VARMAX(df_energia[['PIB','Consumo de Energia Nacional']],order =(2,0), enforce_stationarity=True)\n",
    "fitted_model = var_model.fit(disp=False)\n",
    "predict = fitted_model.get_prediction(start=len(df_energia),end=len(df_energia) + 24 -1)\n",
    "predictions = predict.predicted_mean\n",
    "predictions.rename(columns = {'PIB':'PIB_Forecast','Consumo de Energia Nacional':'Consumo de Energia Nacional_Forecast'},inplace=True)\n",
    "Forecast = pd.concat([df_energia['Consumo de Energia Nacional'],predictions['Consumo de Energia Nacional_Forecast']])"
   ]
  },
  {
   "cell_type": "code",
   "execution_count": 90,
   "id": "5a6c2469",
   "metadata": {},
   "outputs": [
    {
     "name": "stdout",
     "output_type": "stream",
     "text": [
      "0.036842569385131516\n",
      "-0.0035466317461007226\n"
     ]
    }
   ],
   "source": [
    "print((Forecast[215+12]-Forecast[215])/Forecast[215])\n",
    "print((Forecast[215+24]-Forecast[216+11])/Forecast[216+11])"
   ]
  }
 ],
 "metadata": {
  "kernelspec": {
   "display_name": "Python 3",
   "language": "python",
   "name": "python3"
  },
  "language_info": {
   "codemirror_mode": {
    "name": "ipython",
    "version": 3
   },
   "file_extension": ".py",
   "mimetype": "text/x-python",
   "name": "python",
   "nbconvert_exporter": "python",
   "pygments_lexer": "ipython3",
   "version": "3.9.5"
  }
 },
 "nbformat": 4,
 "nbformat_minor": 5
}
